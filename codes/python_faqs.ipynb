{
 "cells": [
  {
   "cell_type": "markdown",
   "id": "596c394a",
   "metadata": {},
   "source": [
    "### List - Print memory size in bytes"
   ]
  },
  {
   "cell_type": "code",
   "execution_count": 2,
   "id": "a3e5bb75",
   "metadata": {},
   "outputs": [],
   "source": [
    "lst_lst = [[], [1], ['1'], [1, 2], ['1', '2']]"
   ]
  },
  {
   "cell_type": "code",
   "execution_count": 5,
   "id": "fd789e8b",
   "metadata": {},
   "outputs": [
    {
     "name": "stdout",
     "output_type": "stream",
     "text": [
      "56 64 64 72 72 96\n"
     ]
    }
   ],
   "source": [
    "import sys\n",
    "for lst in lst_lst:\n",
    "    print(sys.getsizeof(lst), end=' ')\n",
    "print(sys.getsizeof(lst_lst))"
   ]
  },
  {
   "cell_type": "code",
   "execution_count": 8,
   "id": "27b230e6",
   "metadata": {},
   "outputs": [
    {
     "name": "stdout",
     "output_type": "stream",
     "text": [
      "Help on built-in function getsizeof in module sys:\n",
      "\n",
      "getsizeof(...)\n",
      "    getsizeof(object [, default]) -> int\n",
      "    \n",
      "    Return the size of object in bytes.\n",
      "\n"
     ]
    }
   ],
   "source": [
    "help(sys.getsizeof)"
   ]
  },
  {
   "cell_type": "markdown",
   "id": "6e8d6599",
   "metadata": {},
   "source": [
    "### List - Print growth in memory size"
   ]
  },
  {
   "cell_type": "code",
   "execution_count": 15,
   "id": "aa08944b",
   "metadata": {},
   "outputs": [
    {
     "name": "stdout",
     "output_type": "stream",
     "text": [
      "Size of list length 0 in 56\n",
      "Size of list length 1 in 88\n",
      "Size of list length 2 in 88\n",
      "Size of list length 3 in 88\n",
      "Size of list length 4 in 88\n",
      "Size of list length 5 in 120\n",
      "Size of list length 6 in 120\n",
      "Size of list length 7 in 120\n",
      "Size of list length 8 in 120\n",
      "Size of list length 9 in 184\n",
      "Size of list length 10 in 184\n",
      "Size of list length 11 in 184\n",
      "Size of list length 12 in 184\n",
      "Size of list length 13 in 184\n",
      "Size of list length 14 in 184\n",
      "Size of list length 15 in 184\n",
      "Size of list length 16 in 184\n",
      "Size of list length 17 in 256\n",
      "Size of list length 18 in 256\n",
      "Size of list length 19 in 256\n"
     ]
    }
   ],
   "source": [
    "a = []\n",
    "for i in range(20):\n",
    "    print('Size of list length {0} in {1}'.format(len(a), sys.getsizeof(a)))\n",
    "    a.append(i)"
   ]
  },
  {
   "cell_type": "markdown",
   "id": "5dca7ad3",
   "metadata": {},
   "source": [
    "### Tuple - namedtuple"
   ]
  },
  {
   "cell_type": "code",
   "execution_count": 23,
   "id": "41899c3c",
   "metadata": {},
   "outputs": [
    {
     "name": "stdout",
     "output_type": "stream",
     "text": [
      "('Bob', 12, 45)\n",
      "Computer_Science(name='Bob', id=15, score=56)\n"
     ]
    }
   ],
   "source": [
    "record1 = ('Bob', 12, 45)\n",
    "from collections import namedtuple\n",
    "Record = namedtuple('Computer_Science', 'name id score')\n",
    "record2 = Record('Bob', id=15, score=56)\n",
    "print(record1)\n",
    "print(record2)"
   ]
  },
  {
   "cell_type": "code",
   "execution_count": 24,
   "id": "b8b7a4a6",
   "metadata": {},
   "outputs": [
    {
     "name": "stdout",
     "output_type": "stream",
     "text": [
      "Help on function namedtuple in module collections:\n",
      "\n",
      "namedtuple(typename, field_names, *, rename=False, defaults=None, module=None)\n",
      "    Returns a new subclass of tuple with named fields.\n",
      "    \n",
      "    >>> Point = namedtuple('Point', ['x', 'y'])\n",
      "    >>> Point.__doc__                   # docstring for the new class\n",
      "    'Point(x, y)'\n",
      "    >>> p = Point(11, y=22)             # instantiate with positional args or keywords\n",
      "    >>> p[0] + p[1]                     # indexable like a plain tuple\n",
      "    33\n",
      "    >>> x, y = p                        # unpack like a regular tuple\n",
      "    >>> x, y\n",
      "    (11, 22)\n",
      "    >>> p.x + p.y                       # fields also accessible by name\n",
      "    33\n",
      "    >>> d = p._asdict()                 # convert to a dictionary\n",
      "    >>> d['x']\n",
      "    11\n",
      "    >>> Point(**d)                      # convert from a dictionary\n",
      "    Point(x=11, y=22)\n",
      "    >>> p._replace(x=100)               # _replace() is like str.replace() but targets named fields\n",
      "    Point(x=100, y=22)\n",
      "\n"
     ]
    }
   ],
   "source": [
    "help(namedtuple)"
   ]
  },
  {
   "cell_type": "markdown",
   "id": "dbb6f12c",
   "metadata": {},
   "source": [
    "### tuple vs int - assignment differences"
   ]
  },
  {
   "cell_type": "code",
   "execution_count": 28,
   "id": "03147454",
   "metadata": {},
   "outputs": [
    {
     "name": "stdout",
     "output_type": "stream",
     "text": [
      "<class 'tuple'>\n",
      "<class 'int'>\n",
      "<class 'tuple'>\n"
     ]
    }
   ],
   "source": [
    "a,b,c = (), (1), (1,)\n",
    "print(type(a), type(b), type(c), sep='\\n')"
   ]
  },
  {
   "cell_type": "markdown",
   "id": "28f85f5a",
   "metadata": {},
   "source": [
    "### Tuple - Print growth in memory size"
   ]
  },
  {
   "cell_type": "code",
   "execution_count": 29,
   "id": "22bf188d",
   "metadata": {},
   "outputs": [
    {
     "name": "stdout",
     "output_type": "stream",
     "text": [
      "56 64 64 72 72 96\n"
     ]
    }
   ],
   "source": [
    "lst_tup = [(), (1), (1,2), (1,2,3), (1,2,3,4)]\n",
    "for lst in lst_lst:\n",
    "    print(sys.getsizeof(lst), end=' ')\n",
    "print(sys.getsizeof(lst_lst))"
   ]
  },
  {
   "cell_type": "markdown",
   "id": "88876625",
   "metadata": {},
   "source": [
    "### Base class as object vs default builtin"
   ]
  },
  {
   "cell_type": "code",
   "execution_count": 61,
   "id": "13fdf44a",
   "metadata": {},
   "outputs": [],
   "source": [
    "## experiment\n",
    "class TestClass:\n",
    "  def iterate(obj):\n",
    "    for _ in obj:\n",
    "      pass\n",
    "\n",
    "class TestClass2(object):\n",
    "  def iterate(obj):\n",
    "    for _ in obj:\n",
    "      pass\n"
   ]
  },
  {
   "cell_type": "markdown",
   "id": "0054d46f",
   "metadata": {},
   "source": [
    "### Time list vs tuple iteration"
   ]
  },
  {
   "cell_type": "code",
   "execution_count": 49,
   "id": "ecc28937",
   "metadata": {},
   "outputs": [
    {
     "name": "stdout",
     "output_type": "stream",
     "text": [
      "<class 'tuple'>\n",
      "691 µs ± 9.99 µs per loop (mean ± std. dev. of 7 runs, 1000 loops each)\n",
      "699 µs ± 14.3 µs per loop (mean ± std. dev. of 7 runs, 1000 loops each)\n"
     ]
    }
   ],
   "source": [
    "a = [1]*100000\n",
    "b =(1,)*100000\n",
    "print(type(b))\n",
    "%timeit TestClass.iterate(a)\n",
    "%timeit TestClass.iterate(b)"
   ]
  },
  {
   "cell_type": "markdown",
   "id": "da8d2578",
   "metadata": {},
   "source": [
    "### Print object attributes "
   ]
  },
  {
   "cell_type": "code",
   "execution_count": 51,
   "id": "c6934764",
   "metadata": {},
   "outputs": [
    {
     "name": "stdout",
     "output_type": "stream",
     "text": [
      "['__abs__', '__add__', '__and__', '__bool__', '__ceil__', '__class__', '__delattr__', '__dir__', '__divmod__', '__doc__', '__eq__', '__float__', '__floor__', '__floordiv__', '__format__', '__ge__', '__getattribute__', '__getnewargs__', '__gt__', '__hash__', '__index__', '__init__', '__init_subclass__', '__int__', '__invert__', '__le__', '__lshift__', '__lt__', '__mod__', '__mul__', '__ne__', '__neg__', '__new__', '__or__', '__pos__', '__pow__', '__radd__', '__rand__', '__rdivmod__', '__reduce__', '__reduce_ex__', '__repr__', '__rfloordiv__', '__rlshift__', '__rmod__', '__rmul__', '__ror__', '__round__', '__rpow__', '__rrshift__', '__rshift__', '__rsub__', '__rtruediv__', '__rxor__', '__setattr__', '__sizeof__', '__str__', '__sub__', '__subclasshook__', '__truediv__', '__trunc__', '__xor__', 'as_integer_ratio', 'bit_length', 'conjugate', 'denominator', 'from_bytes', 'imag', 'numerator', 'real', 'to_bytes']\n",
      "True\n",
      "False\n",
      "['__class__', '__delattr__', '__dir__', '__doc__', '__eq__', '__format__', '__ge__', '__getattribute__', '__gt__', '__hash__', '__init__', '__init_subclass__', '__le__', '__lt__', '__ne__', '__new__', '__reduce__', '__reduce_ex__', '__repr__', '__setattr__', '__sizeof__', '__str__', '__subclasshook__']\n"
     ]
    }
   ],
   "source": [
    "print(dir(1))#print all attributes\n",
    "print(isinstance(1, int)) # check instance type\n",
    "print(isinstance(1, float))\n",
    "o=object()\n",
    "print(dir(o))"
   ]
  },
  {
   "cell_type": "code",
   "execution_count": 53,
   "id": "f6fae784",
   "metadata": {},
   "outputs": [
    {
     "name": "stdout",
     "output_type": "stream",
     "text": [
      "<slot wrapper '__init__' of 'object' objects>\n"
     ]
    }
   ],
   "source": [
    "print(TestClass.__init__)"
   ]
  },
  {
   "cell_type": "markdown",
   "id": "1ac51ca6",
   "metadata": {},
   "source": [
    "### Tuple - mixed datatype"
   ]
  },
  {
   "cell_type": "code",
   "execution_count": 33,
   "id": "f72b5405",
   "metadata": {},
   "outputs": [
    {
     "name": "stdout",
     "output_type": "stream",
     "text": [
      "([1, 2, 3, 4], '3', '4')\n"
     ]
    }
   ],
   "source": [
    "eg_tuple = ([1,2,3], '3', '4')\n",
    "eg_tuple[0].append(4)\n",
    "print(eg_tuple)\n",
    "# eg_tuple[0]=[1]"
   ]
  },
  {
   "cell_type": "markdown",
   "id": "183c0fd1",
   "metadata": {},
   "source": [
    "### Object attributes"
   ]
  },
  {
   "cell_type": "code",
   "execution_count": 45,
   "id": "eb72df13",
   "metadata": {},
   "outputs": [
    {
     "data": {
      "text/plain": [
       "['- What is the significance of __class__?',\n",
       " '- What is the significance of __delattr__?',\n",
       " '- What is the significance of __dir__?',\n",
       " '- What is the significance of __doc__?',\n",
       " '- What is the significance of __eq__?',\n",
       " '- What is the significance of __format__?',\n",
       " '- What is the significance of __ge__?',\n",
       " '- What is the significance of __getattribute__?',\n",
       " '- What is the significance of __gt__?',\n",
       " '- What is the significance of __hash__?',\n",
       " '- What is the significance of __init__?',\n",
       " '- What is the significance of __init_subclass__?',\n",
       " '- What is the significance of __le__?',\n",
       " '- What is the significance of __lt__?',\n",
       " '- What is the significance of __ne__?',\n",
       " '- What is the significance of __new__?',\n",
       " '- What is the significance of __reduce__?',\n",
       " '- What is the significance of __reduce_ex__?',\n",
       " '- What is the significance of __repr__?',\n",
       " '- What is the significance of __setattr__?',\n",
       " '- What is the significance of __sizeof__?',\n",
       " '- What is the significance of __str__?',\n",
       " '- What is the significance of __subclasshook__?']"
      ]
     },
     "execution_count": 45,
     "metadata": {},
     "output_type": "execute_result"
    }
   ],
   "source": [
    "['- What is the significance of {0}?'.format(n) for n in dir(o)]"
   ]
  },
  {
   "cell_type": "markdown",
   "id": "44e26e0c",
   "metadata": {},
   "source": [
    "### builtins package"
   ]
  },
  {
   "cell_type": "code",
   "execution_count": 60,
   "id": "0b57762d",
   "metadata": {
    "scrolled": false
   },
   "outputs": [],
   "source": [
    "# import builtins\n",
    "# help(builtins) - lots of learnings out here!!"
   ]
  },
  {
   "cell_type": "markdown",
   "id": "fac268db",
   "metadata": {},
   "source": [
    "### Difference between function and method"
   ]
  },
  {
   "cell_type": "code",
   "execution_count": 70,
   "id": "3a073b21",
   "metadata": {},
   "outputs": [
    {
     "name": "stdout",
     "output_type": "stream",
     "text": [
      "1-> <class '__main__.TestClass'>\n",
      "2-> <class '__main__.TestClass2'>\n",
      "3-> <class 'method'>\n",
      "4-> <class 'method'>\n",
      "5-> <class 'function'>\n",
      "6-> <class 'function'>\n"
     ]
    }
   ],
   "source": [
    "t1 = TestClass()\n",
    "t2 = TestClass2()\n",
    "print('1->', t1.__class__)\n",
    "print('2->', t2.__class__)\n",
    "print('3->', t1.iterate.__class__)\n",
    "print('4->', type(t1.iterate))\n",
    "\n",
    "def simple_function():\n",
    "    pass\n",
    "\n",
    "print('5->', simple_function.__class__)\n",
    "print('6->', type(simple_function))"
   ]
  },
  {
   "cell_type": "markdown",
   "id": "f4f204c2",
   "metadata": {},
   "source": [
    "### Attribute vs Property"
   ]
  },
  {
   "cell_type": "code",
   "execution_count": 87,
   "id": "bd532a01",
   "metadata": {},
   "outputs": [],
   "source": [
    "class A(object):\n",
    "    _x = 0\n",
    "    '''A._x is an attribute'''\n",
    "\n",
    "    @property\n",
    "    def x(self):\n",
    "        '''\n",
    "        A.x is a property\n",
    "        This is the getter method\n",
    "        '''\n",
    "        return self._x\n",
    "\n",
    "    @x.setter\n",
    "    def x(self, value):\n",
    "        \"\"\"\n",
    "        This is the setter method\n",
    "        where I can check it's not assigned a value < 0\n",
    "        \"\"\"\n",
    "        if value < 0:\n",
    "            raise ValueError(\"Must be >= 0\")\n",
    "        self._x = value"
   ]
  },
  {
   "cell_type": "code",
   "execution_count": 428,
   "id": "07da91eb",
   "metadata": {},
   "outputs": [
    {
     "ename": "TypeError",
     "evalue": "__init__() missing 1 required positional argument: 'x'",
     "output_type": "error",
     "traceback": [
      "\u001b[0;31m---------------------------------------------------------------------------\u001b[0m",
      "\u001b[0;31mTypeError\u001b[0m                                 Traceback (most recent call last)",
      "\u001b[0;32m<ipython-input-428-53f1e6f075ac>\u001b[0m in \u001b[0;36m<module>\u001b[0;34m\u001b[0m\n\u001b[1;32m     10\u001b[0m \u001b[0;31m# print('6->',A._x)\u001b[0m\u001b[0;34m\u001b[0m\u001b[0;34m\u001b[0m\u001b[0;34m\u001b[0m\u001b[0m\n\u001b[1;32m     11\u001b[0m \u001b[0;34m\u001b[0m\u001b[0m\n\u001b[0;32m---> 12\u001b[0;31m \u001b[0ma\u001b[0m \u001b[0;34m=\u001b[0m \u001b[0mA\u001b[0m\u001b[0;34m(\u001b[0m\u001b[0;34m)\u001b[0m\u001b[0;34m\u001b[0m\u001b[0;34m\u001b[0m\u001b[0m\n\u001b[0m\u001b[1;32m     13\u001b[0m \u001b[0ma\u001b[0m\u001b[0;34m.\u001b[0m\u001b[0mx\u001b[0m \u001b[0;34m=\u001b[0m \u001b[0;36m12\u001b[0m\u001b[0;34m\u001b[0m\u001b[0;34m\u001b[0m\u001b[0m\n\u001b[1;32m     14\u001b[0m \u001b[0mprint\u001b[0m\u001b[0;34m(\u001b[0m\u001b[0;34m'11->'\u001b[0m\u001b[0;34m,\u001b[0m\u001b[0ma\u001b[0m\u001b[0;34m.\u001b[0m\u001b[0mx\u001b[0m\u001b[0;34m)\u001b[0m\u001b[0;34m\u001b[0m\u001b[0;34m\u001b[0m\u001b[0m\n",
      "\u001b[0;31mTypeError\u001b[0m: __init__() missing 1 required positional argument: 'x'"
     ]
    }
   ],
   "source": [
    "# A.x = 12\n",
    "# print('1->',A.x)\n",
    "# A.x = -10\n",
    "# print('2->',A.x)\n",
    "# A._x = 15\n",
    "# print('3->',A.x)\n",
    "# print('4->',A._x)\n",
    "# A._x = -19\n",
    "# print('5->',A.x)\n",
    "# print('6->',A._x)\n",
    "\n",
    "a = A()\n",
    "a.x = 12\n",
    "print('11->',a.x)\n",
    "a.x = -10 # ValueError\n",
    "print('12->',a.x)\n",
    "a._x = 15\n",
    "print('13->',a.x)\n",
    "print('14->',a._x)\n",
    "a._x = -19\n",
    "print('15->',a.x)\n",
    "print('16->',a._x)\n"
   ]
  },
  {
   "cell_type": "markdown",
   "id": "432d9380",
   "metadata": {},
   "source": [
    "### Static vs instance method "
   ]
  },
  {
   "cell_type": "code",
   "execution_count": 107,
   "id": "d5b3bb5e",
   "metadata": {},
   "outputs": [
    {
     "name": "stdout",
     "output_type": "stream",
     "text": [
      "Called method_one\n",
      "Called method_two\n",
      "<function Test.method_one at 0x7f81287d4040>\n",
      "<function Test.method_two at 0x7f81287d4280>\n",
      "<bound method Test.method_one of <__main__.Test object at 0x7f8127a5cd00>>\n",
      "<function Test.method_two at 0x7f81287d4280>\n",
      "<function Test.method_one at 0x7f81287d4040>\n"
     ]
    }
   ],
   "source": [
    "class Test(object):\n",
    "    def method_one(self):\n",
    "        print(\"Called method_one\")\n",
    "    \n",
    "    @staticmethod\n",
    "    def method_two():\n",
    "        print(\"Called method_two\")\n",
    "\n",
    "a_test = Test()\n",
    "a_test.method_one()\n",
    "a_test.method_two()\n",
    "print(Test.method_one)\n",
    "print(Test.method_two)\n",
    "print(a_test.method_one)\n",
    "print(a_test.method_two)\n",
    "print(Test.__dict__['method_one'])\n",
    "# - \"The concept of 'unbound methods' has been removed from the language. \n",
    "# When referencing a method as a class attribute, you now get a plain function object.\""
   ]
  },
  {
   "cell_type": "markdown",
   "id": "137c0efa",
   "metadata": {},
   "source": [
    "### Inner function"
   ]
  },
  {
   "cell_type": "code",
   "execution_count": 108,
   "id": "d28e3093",
   "metadata": {},
   "outputs": [
    {
     "name": "stdout",
     "output_type": "stream",
     "text": [
      "1\n"
     ]
    }
   ],
   "source": [
    "x = 1\n",
    "def foo():\n",
    "    x = 2\n",
    "    class Bar:\n",
    "        print(x)\n",
    "        x = 3\n",
    "foo()"
   ]
  },
  {
   "cell_type": "markdown",
   "id": "1284aa0c",
   "metadata": {},
   "source": [
    "### How does MRO work - class ordering"
   ]
  },
  {
   "cell_type": "code",
   "execution_count": 110,
   "id": "7f044c41",
   "metadata": {},
   "outputs": [
    {
     "name": "stdout",
     "output_type": "stream",
     "text": [
      " In class B\n"
     ]
    }
   ],
   "source": [
    "\n",
    "# Python program showing\n",
    "# how MRO works\n",
    "  \n",
    "class A:\n",
    "    def rk(self):\n",
    "        print(\" In class A\")\n",
    "class B(A):\n",
    "    def rk(self):\n",
    "        print(\" In class B\")\n",
    "class C(A):\n",
    "    def rk(self):\n",
    "        print(\"In class C\")\n",
    "  \n",
    "# classes ordering\n",
    "class D(B, C):\n",
    "    pass\n",
    "     \n",
    "r = D()\n",
    "r.rk()"
   ]
  },
  {
   "cell_type": "code",
   "execution_count": 112,
   "id": "88a5381a",
   "metadata": {},
   "outputs": [
    {
     "name": "stdout",
     "output_type": "stream",
     "text": [
      "Constructor C\n",
      "(<class '__main__.C'>, <class '__main__.A'>, <class '__main__.B'>, <class 'object'>)\n",
      "[<class '__main__.C'>, <class '__main__.A'>, <class '__main__.B'>, <class 'object'>]\n"
     ]
    }
   ],
   "source": [
    "# Python program to show the order\n",
    "# in which methods are resolved\n",
    "  \n",
    "class A:\n",
    "    def rk(self):\n",
    "        print(\" In class A\")\n",
    "class B:\n",
    "    def rk(self):\n",
    "        print(\" In class B\")\n",
    "  \n",
    "# classes ordering\n",
    "class C(A, B):\n",
    "    def __init__(self):\n",
    "        print(\"Constructor C\")\n",
    "  \n",
    "r = C()\n",
    "  \n",
    "# it prints the lookup order \n",
    "print(C.__mro__)\n",
    "print(C.mro())"
   ]
  },
  {
   "cell_type": "code",
   "execution_count": 121,
   "id": "dd5a9c97",
   "metadata": {},
   "outputs": [
    {
     "name": "stdout",
     "output_type": "stream",
     "text": [
      "[<class '__main__.C'>, <class '__main__.A'>, <class '__main__.B'>, <class 'object'>]\n",
      "[<class '__main__.D'>, <class '__main__.B'>, <class '__main__.A'>, <class 'object'>]\n"
     ]
    }
   ],
   "source": [
    "class A: \n",
    "    pass\n",
    "  \n",
    "  \n",
    "class B: \n",
    "    pass\n",
    "  \n",
    "  \n",
    "class C(A, B): \n",
    "    pass\n",
    "  \n",
    "  \n",
    "class D(B, A): \n",
    "    pass\n",
    "  \n",
    "  \n",
    "# class E(C,D): \n",
    "#     pass\n",
    "  \n",
    "# it prints the lookup order \n",
    "print(C.mro())\n",
    "print(D.mro())\n",
    "# print(E.mro()) # TypeError: Cannot create a consistent method resolution order (MRO) for bases A, B"
   ]
  },
  {
   "cell_type": "code",
   "execution_count": 123,
   "id": "01dbdbd4",
   "metadata": {},
   "outputs": [
    {
     "name": "stdout",
     "output_type": "stream",
     "text": [
      "[<class '__main__.OldStyleClass'>, <class 'object'>]\n",
      "[<class '__main__.NewStyleClass'>, <class 'object'>]\n"
     ]
    }
   ],
   "source": [
    "\n",
    "# Old style class\n",
    "class OldStyleClass: \n",
    "    pass\n",
    "  \n",
    "# New style class\n",
    "class NewStyleClass(object): \n",
    "    pass\n",
    "\n",
    "print(OldStyleClass.mro())\n",
    "print(NewStyleClass.mro())"
   ]
  },
  {
   "cell_type": "code",
   "execution_count": 126,
   "id": "5ccc71e4",
   "metadata": {},
   "outputs": [],
   "source": [
    "# import inspect\n",
    "# help(inspect)"
   ]
  },
  {
   "cell_type": "code",
   "execution_count": 132,
   "id": "404661e8",
   "metadata": {},
   "outputs": [
    {
     "name": "stdout",
     "output_type": "stream",
     "text": [
      "inner pi variable\n",
      "global pi variable\n"
     ]
    }
   ],
   "source": [
    "# Enclosed Scope\n",
    "  \n",
    "pi = 'global pi variable'\n",
    "  \n",
    "def outer():\n",
    "    pi = 'outer pi variable'\n",
    "    def inner():\n",
    "        pi = 'inner pi variable'\n",
    "#         nonlocal pi\n",
    "        print(pi)\n",
    "    inner()\n",
    "  \n",
    "outer()\n",
    "print(pi)"
   ]
  },
  {
   "cell_type": "code",
   "execution_count": 139,
   "id": "31146219",
   "metadata": {},
   "outputs": [
    {
     "name": "stdout",
     "output_type": "stream",
     "text": [
      "3.141592653589793\n"
     ]
    }
   ],
   "source": [
    "# Built-in Scope\n",
    "from math import pi\n",
    "  \n",
    "# pi = 'global pi variable'\n",
    "  \n",
    "def outer():\n",
    "#     pi = 'outer pi variable'\n",
    "    def inner():\n",
    "#         pi = 'inner pi variable'\n",
    "        print(pi)\n",
    "    inner()\n",
    "  \n",
    "outer()"
   ]
  },
  {
   "cell_type": "code",
   "execution_count": 141,
   "id": "d115e236",
   "metadata": {},
   "outputs": [
    {
     "name": "stdout",
     "output_type": "stream",
     "text": [
      "[1, 8, 11, 1]\n",
      "[1, 8, 11, 1, 2]\n",
      "[1, 8, 11, 1, 2, 9]\n",
      "[3, 6, 2]\n"
     ]
    }
   ],
   "source": [
    "# When the function is defined\n",
    "def adder(a, b = [1, 8, 11]):\n",
    "    b.append(a)\n",
    "    return b\n",
    "  \n",
    "print(adder(1))\n",
    "print(adder(2))\n",
    "print(adder(9))\n",
    "print(adder(2, [3, 6]))"
   ]
  },
  {
   "cell_type": "code",
   "execution_count": 145,
   "id": "b573e46f",
   "metadata": {},
   "outputs": [
    {
     "name": "stdout",
     "output_type": "stream",
     "text": [
      "16\n",
      "16\n",
      "16\n",
      "16\n",
      "16\n"
     ]
    }
   ],
   "source": [
    "# When the function is called\n",
    "# - Python resolves the reference to names of non-default parameters in the scope \n",
    "#     of a function when it is called and not when it is defined. \n",
    "l = []\n",
    "for i in range(5):\n",
    "    l.append(lambda : i**2)\n",
    "for j in range(5):\n",
    "    print(l[j]())"
   ]
  },
  {
   "cell_type": "code",
   "execution_count": 147,
   "id": "66ce756a",
   "metadata": {},
   "outputs": [
    {
     "name": "stdout",
     "output_type": "stream",
     "text": [
      "21\n",
      "26\n",
      "True\n"
     ]
    }
   ],
   "source": [
    "# Python program to demonstrate\n",
    "# use of class method and static method.\n",
    "from datetime import date\n",
    "  \n",
    "class Person:\n",
    "    def __init__(self, name, age):\n",
    "        self.name = name\n",
    "        self.age = age\n",
    "      \n",
    "    # a class method to create a Person object by birth year.\n",
    "    @classmethod\n",
    "    def fromBirthYear(cls, name, year):\n",
    "        return cls(name, date.today().year - year)\n",
    "      \n",
    "    # a static method to check if a Person is adult or not.\n",
    "    @staticmethod\n",
    "    def isAdult(age):\n",
    "        return age > 18\n",
    "  \n",
    "person1 = Person('mayank', 21)\n",
    "person2 = Person.fromBirthYear('mayank', 1996)\n",
    "  \n",
    "print (person1.age)\n",
    "print (person2.age)\n",
    "  \n",
    "# print the result\n",
    "print (Person.isAdult(22))"
   ]
  },
  {
   "cell_type": "code",
   "execution_count": 157,
   "id": "2aa295d2",
   "metadata": {},
   "outputs": [
    {
     "name": "stdout",
     "output_type": "stream",
     "text": [
      "Calling Create_obj() function...\n",
      "Making Object...\n",
      "Employee created\n",
      "function end...\n",
      "Destructor called\n",
      "Program End...\n"
     ]
    }
   ],
   "source": [
    "# Python program to illustrate destructor\n",
    "# destructor is not invoked - the first time, but is called from second invocation\n",
    "\n",
    "class Employee:\n",
    " \n",
    "    # Initializing\n",
    "    def __init__(self):\n",
    "        print('Employee created')\n",
    " \n",
    "    # Calling destructor\n",
    "    def __del__(self):\n",
    "        print(\"Destructor called\")\n",
    " \n",
    "def Create_obj():\n",
    "    print('Making Object...')\n",
    "    obj = Employee()\n",
    "    print('function end...')\n",
    "    return obj\n",
    " \n",
    "print('Calling Create_obj() function...')\n",
    "obj = Create_obj()\n",
    "print('Program End...')"
   ]
  },
  {
   "cell_type": "code",
   "execution_count": 161,
   "id": "c811eff9",
   "metadata": {},
   "outputs": [],
   "source": [
    "# circular referencing - instances are involved in circular references \n",
    "# they will live in memory for as long as the application run.\n",
    "\n",
    "class A:\n",
    "    def __init__(self, bb):\n",
    "        self.b = bb\n",
    " \n",
    "class B:\n",
    "    def __init__(self):\n",
    "        self.a = A(self)\n",
    "    def __del__(self):\n",
    "        print(\"die\")\n",
    " \n",
    "def fun():\n",
    "    b = B()\n",
    " \n",
    "fun()"
   ]
  },
  {
   "cell_type": "code",
   "execution_count": 165,
   "id": "ba23cf9b",
   "metadata": {},
   "outputs": [
    {
     "name": "stdout",
     "output_type": "stream",
     "text": [
      "Hello Bob\n",
      "Yo Bob, together we are the awesomest!\n"
     ]
    }
   ],
   "source": [
    "# functions can be passed around and used as arguments, just like any other object \n",
    "# (string, int, float, list, and so on)\n",
    "\n",
    "def say_hello(name):\n",
    "    return f\"Hello {name}\"\n",
    "\n",
    "def be_awesome(name):\n",
    "    return f\"Yo {name}, together we are the awesomest!\"\n",
    "\n",
    "def greet_bob(greeter_func):\n",
    "    return greeter_func(\"Bob\")\n",
    "\n",
    "print(greet_bob(say_hello))\n",
    "print(greet_bob(be_awesome))"
   ]
  },
  {
   "cell_type": "code",
   "execution_count": 171,
   "id": "660c54df",
   "metadata": {},
   "outputs": [
    {
     "name": "stdout",
     "output_type": "stream",
     "text": [
      "Printing from the parent() function\n",
      "Printing from the second_child() function\n",
      "Printing from the first_child() function\n"
     ]
    }
   ],
   "source": [
    "def parent():\n",
    "    print(\"Printing from the parent() function\")\n",
    "\n",
    "    def first_child():\n",
    "        print(\"Printing from the first_child() function\")\n",
    "\n",
    "    def second_child():\n",
    "        print(\"Printing from the second_child() function\")\n",
    "\n",
    "    second_child()\n",
    "    first_child()\n",
    "    \n",
    "parent()\n",
    "# first_child() # 'function' object has no attribute 'first_child'"
   ]
  },
  {
   "cell_type": "code",
   "execution_count": 175,
   "id": "af818170",
   "metadata": {},
   "outputs": [
    {
     "name": "stdout",
     "output_type": "stream",
     "text": [
      "<function parent.<locals>.first_child at 0x7f81287d4b80>\n",
      "<function parent.<locals>.second_child at 0x7f81287d4a60>\n",
      "Hi, I am Emma\n",
      "Call me Liam\n"
     ]
    }
   ],
   "source": [
    "# Python also allows you to use functions as return values\n",
    "def parent(num):\n",
    "    def first_child():\n",
    "        return \"Hi, I am Emma\"\n",
    "\n",
    "    def second_child():\n",
    "        return \"Call me Liam\"\n",
    "\n",
    "    if num == 1:\n",
    "        return first_child\n",
    "    else:\n",
    "        return second_child\n",
    "    \n",
    "first = parent(1)\n",
    "second = parent(2)\n",
    "print(first)\n",
    "print(second)\n",
    "print(first())\n",
    "print(second())"
   ]
  },
  {
   "cell_type": "code",
   "execution_count": 179,
   "id": "032034fb",
   "metadata": {},
   "outputs": [
    {
     "name": "stdout",
     "output_type": "stream",
     "text": [
      "Something is happening before the function is called.\n",
      "Whee!\n",
      "Something is happening after the function is called.\n"
     ]
    },
    {
     "data": {
      "text/plain": [
       "<function __main__.my_decorator.<locals>.wrapper()>"
      ]
     },
     "execution_count": 179,
     "metadata": {},
     "output_type": "execute_result"
    }
   ],
   "source": [
    "# Simple decorators\n",
    "def my_decorator(func):\n",
    "    def wrapper():\n",
    "        print(\"Something is happening before the function is called.\")\n",
    "        func()\n",
    "        print(\"Something is happening after the function is called.\")\n",
    "    return wrapper\n",
    "\n",
    "def say_whee():\n",
    "    print(\"Whee!\")\n",
    "\n",
    "say_whee = my_decorator(say_whee)\n",
    "\n",
    "say_whee()\n",
    "say_whee"
   ]
  },
  {
   "cell_type": "code",
   "execution_count": 186,
   "id": "cb5b3031",
   "metadata": {},
   "outputs": [
    {
     "name": "stdout",
     "output_type": "stream",
     "text": [
      "Whee2!\n"
     ]
    }
   ],
   "source": [
    "from datetime import datetime\n",
    "\n",
    "def not_during_the_night(func):\n",
    "    def wrapper():\n",
    "        if 7 <= datetime.now().hour < 22:\n",
    "            func()\n",
    "        else:\n",
    "            print('not now')  # Hush, the neighbors are asleep\n",
    "    return wrapper\n",
    "\n",
    "def say_whee():\n",
    "    print(\"Whee2!\")\n",
    "\n",
    "say_whee = not_during_the_night(say_whee)\n",
    "say_whee()"
   ]
  },
  {
   "cell_type": "code",
   "execution_count": 190,
   "id": "ce96b74d",
   "metadata": {},
   "outputs": [
    {
     "name": "stdout",
     "output_type": "stream",
     "text": [
      "Something is happening before the function is called.\n",
      "Whee!\n",
      "Something is happening after the function is called.\n"
     ]
    }
   ],
   "source": [
    "# cleaner way of creating decorators\n",
    "def my_decorator(func):\n",
    "    def wrapper():\n",
    "        print(\"Something is happening before the function is called.\")\n",
    "        func()\n",
    "        print(\"Something is happening after the function is called.\")\n",
    "    return wrapper\n",
    "\n",
    "@my_decorator\n",
    "def say_whee():\n",
    "    print(\"Whee!\")\n",
    "    \n",
    "# So, @my_decorator is just an easier way of saying say_whee = my_decorator(say_whee). \n",
    "# It’s how you apply a decorator to a function.\n",
    "say_whee() "
   ]
  },
  {
   "cell_type": "code",
   "execution_count": 196,
   "id": "5c71a16b",
   "metadata": {},
   "outputs": [
    {
     "name": "stdout",
     "output_type": "stream",
     "text": [
      "Whee!\n",
      "Whee!\n",
      "Hello Chandra\n",
      "Hello Chandra\n"
     ]
    }
   ],
   "source": [
    "# Decorating Functions With Arguments\n",
    "\n",
    "def do_twice(func):\n",
    "#     def wrapper_do_twice():\n",
    "#         func()\n",
    "#         func()\n",
    "#     return wrapper_do_twice\n",
    "\n",
    "    def wrapper_do_twice(*args, **kwargs):\n",
    "        func(*args, **kwargs)\n",
    "        func(*args, **kwargs)\n",
    "    return wrapper_do_twice\n",
    "\n",
    "@do_twice\n",
    "def say_whee():\n",
    "    print(\"Whee!\")\n",
    "    \n",
    "@do_twice\n",
    "def greet(name):\n",
    "    print(f\"Hello {name}\")\n",
    "    \n",
    "say_whee()\n",
    "greet('Chandra') # greet() missing 1 required positional argument: 'name'"
   ]
  },
  {
   "cell_type": "code",
   "execution_count": 198,
   "id": "086a807c",
   "metadata": {},
   "outputs": [
    {
     "name": "stdout",
     "output_type": "stream",
     "text": [
      "Creating greeting\n",
      "Creating greeting\n",
      "None\n"
     ]
    }
   ],
   "source": [
    "# Returning Values From Decorated Functions\n",
    "\n",
    "@do_twice\n",
    "def return_greeting(name):\n",
    "    print(\"Creating greeting\")\n",
    "    return f\"Hi {name}\"\n",
    "\n",
    "hi_adam = return_greeting(\"Adam\")\n",
    "\n",
    "print(hi_adam)\n",
    "# here the decorator ate the return value from the function.\n",
    "\n",
    "# Because the do_twice_wrapper() doesn’t explicitly return a \n",
    "# value, the call return_greeting(\"Adam\") ended up returning None.\n",
    "\n",
    "# To fix this, you need to make sure the wrapper function returns \n",
    "# the return value of the decorated function."
   ]
  },
  {
   "cell_type": "code",
   "execution_count": 202,
   "id": "53d9b18c",
   "metadata": {},
   "outputs": [
    {
     "name": "stdout",
     "output_type": "stream",
     "text": [
      "Creating greeting\n",
      "Creating greeting\n",
      "Hi Adam\n"
     ]
    }
   ],
   "source": [
    "def do_twice(func):\n",
    "    def wrapper_do_twice(*args, **kwargs):\n",
    "        func(*args, **kwargs)\n",
    "        return func(*args, **kwargs) # return defined here\n",
    "    return wrapper_do_twice\n",
    "\n",
    "@do_twice\n",
    "def return_greeting(name):\n",
    "    print(\"Creating greeting\")\n",
    "    return f\"Hi {name}\"\n",
    "\n",
    "hi_adam = return_greeting(\"Adam\")\n",
    "\n",
    "print(hi_adam)"
   ]
  },
  {
   "cell_type": "code",
   "execution_count": 208,
   "id": "324f95d1",
   "metadata": {},
   "outputs": [
    {
     "data": {
      "text/plain": [
       "'print'"
      ]
     },
     "execution_count": 208,
     "metadata": {},
     "output_type": "execute_result"
    }
   ],
   "source": [
    "print # <function print>\n",
    "\n",
    "print.__name__ # 'print'\n",
    "\n",
    "# help(print) # print documentation"
   ]
  },
  {
   "cell_type": "code",
   "execution_count": 212,
   "id": "7339f91a",
   "metadata": {},
   "outputs": [
    {
     "name": "stdout",
     "output_type": "stream",
     "text": [
      "Help on function wrapper_do_twice in module __main__:\n",
      "\n",
      "wrapper_do_twice(*args, **kwargs)\n",
      "\n"
     ]
    }
   ],
   "source": [
    "say_whee # <function __main__.do_twice.<locals>.wrapper_do_twice(*args, **kwargs)>\n",
    "\n",
    "say_whee.__name__ # 'wrapper_do_twice'\n",
    "\n",
    "help(say_whee) \n",
    "# Help on function wrapper_do_twice in module __main__:\n",
    "# wrapper_do_twice(*args, **kwargs)"
   ]
  },
  {
   "cell_type": "code",
   "execution_count": 217,
   "id": "753722a2",
   "metadata": {},
   "outputs": [],
   "source": [
    "import functools\n",
    "\n",
    "def do_twice(func):\n",
    "    @functools.wraps(func)\n",
    "    def wrapper_do_twice(*args, **kwargs):\n",
    "        func(*args, **kwargs)\n",
    "        return func(*args, **kwargs)\n",
    "    return wrapper_do_twice\n",
    "\n",
    "@do_twice\n",
    "def say_whee():\n",
    "    print(\"Whee!\")"
   ]
  },
  {
   "cell_type": "code",
   "execution_count": 221,
   "id": "ea258d49",
   "metadata": {},
   "outputs": [
    {
     "name": "stdout",
     "output_type": "stream",
     "text": [
      "Help on function say_whee in module __main__:\n",
      "\n",
      "say_whee()\n",
      "\n"
     ]
    }
   ],
   "source": [
    "say_whee # <function __main__.say_whee()>\n",
    "\n",
    "say_whee.__name__ # 'say_whee'\n",
    "\n",
    "help(say_whee)\n",
    "# Help on function say_whee in module __main__:\n",
    "# say_whee()"
   ]
  },
  {
   "cell_type": "code",
   "execution_count": 222,
   "id": "cd0caa4d",
   "metadata": {},
   "outputs": [],
   "source": [
    "# A boilerplate template for building more complex decorators\n",
    "\n",
    "import functools\n",
    "\n",
    "def decorator(func):\n",
    "    @functools.wraps(func)\n",
    "    def wrapper_decorator(*args, **kwargs):\n",
    "        # Do something before\n",
    "        value = func(*args, **kwargs)\n",
    "        # Do something after\n",
    "        return value\n",
    "    return wrapper_decorator"
   ]
  },
  {
   "cell_type": "code",
   "execution_count": 223,
   "id": "8837d6ba",
   "metadata": {},
   "outputs": [],
   "source": [
    "import functools\n",
    "import time\n",
    "\n",
    "def timer(func):\n",
    "    \"\"\"Print the runtime of the decorated function\"\"\"\n",
    "    @functools.wraps(func)\n",
    "    def wrapper_timer(*args, **kwargs):\n",
    "        start_time = time.perf_counter()    # 1\n",
    "        value = func(*args, **kwargs)\n",
    "        end_time = time.perf_counter()      # 2\n",
    "        run_time = end_time - start_time    # 3\n",
    "        print(f\"Finished {func.__name__!r} in {run_time:.4f} secs\")\n",
    "        return value\n",
    "    return wrapper_timer\n",
    "\n",
    "@timer\n",
    "def waste_some_time(num_times):\n",
    "    for _ in range(num_times):\n",
    "        sum([i**2 for i in range(10000)])"
   ]
  },
  {
   "cell_type": "code",
   "execution_count": 225,
   "id": "7b3a4a59",
   "metadata": {},
   "outputs": [
    {
     "name": "stdout",
     "output_type": "stream",
     "text": [
      "Finished 'waste_some_time' in 0.0041 secs\n",
      "Finished 'waste_some_time' in 2.5732 secs\n"
     ]
    }
   ],
   "source": [
    "waste_some_time(1)\n",
    "waste_some_time(999)"
   ]
  },
  {
   "cell_type": "code",
   "execution_count": 226,
   "id": "32f0c07b",
   "metadata": {},
   "outputs": [],
   "source": [
    "import functools\n",
    "\n",
    "def debug(func):\n",
    "    \"\"\"Print the function signature and return value\"\"\"\n",
    "    @functools.wraps(func)\n",
    "    def wrapper_debug(*args, **kwargs):\n",
    "        args_repr = [repr(a) for a in args]                      # 1\n",
    "        kwargs_repr = [f\"{k}={v!r}\" for k, v in kwargs.items()]  # 2\n",
    "        signature = \", \".join(args_repr + kwargs_repr)           # 3\n",
    "        print(f\"Calling {func.__name__}({signature})\")\n",
    "        value = func(*args, **kwargs)\n",
    "        print(f\"{func.__name__!r} returned {value!r}\")           # 4\n",
    "        return value\n",
    "    return wrapper_debug"
   ]
  },
  {
   "cell_type": "code",
   "execution_count": 227,
   "id": "f151c648",
   "metadata": {},
   "outputs": [],
   "source": [
    "@debug\n",
    "def make_greeting(name, age=None):\n",
    "    if age is None:\n",
    "        return f\"Howdy {name}!\"\n",
    "    else:\n",
    "        return f\"Whoa {name}! {age} already, you are growing up!\""
   ]
  },
  {
   "cell_type": "code",
   "execution_count": 230,
   "id": "5fca899e",
   "metadata": {},
   "outputs": [
    {
     "name": "stdout",
     "output_type": "stream",
     "text": [
      "Calling make_greeting('Benjamin')\n",
      "'make_greeting' returned 'Howdy Benjamin!'\n"
     ]
    },
    {
     "data": {
      "text/plain": [
       "'Howdy Benjamin!'"
      ]
     },
     "execution_count": 230,
     "metadata": {},
     "output_type": "execute_result"
    }
   ],
   "source": [
    "make_greeting(\"Benjamin\")"
   ]
  },
  {
   "cell_type": "code",
   "execution_count": 232,
   "id": "aa09acf3",
   "metadata": {},
   "outputs": [
    {
     "name": "stdout",
     "output_type": "stream",
     "text": [
      "Calling make_greeting('Richard', age=112)\n",
      "'make_greeting' returned 'Whoa Richard! 112 already, you are growing up!'\n"
     ]
    },
    {
     "data": {
      "text/plain": [
       "'Whoa Richard! 112 already, you are growing up!'"
      ]
     },
     "execution_count": 232,
     "metadata": {},
     "output_type": "execute_result"
    }
   ],
   "source": [
    "make_greeting(\"Richard\", age=112)"
   ]
  },
  {
   "cell_type": "code",
   "execution_count": 234,
   "id": "5d258f0a",
   "metadata": {},
   "outputs": [
    {
     "name": "stdout",
     "output_type": "stream",
     "text": [
      "Calling make_greeting(name='Dorrisile', age=116)\n",
      "'make_greeting' returned 'Whoa Dorrisile! 116 already, you are growing up!'\n"
     ]
    },
    {
     "data": {
      "text/plain": [
       "'Whoa Dorrisile! 116 already, you are growing up!'"
      ]
     },
     "execution_count": 234,
     "metadata": {},
     "output_type": "execute_result"
    }
   ],
   "source": [
    "make_greeting(name=\"Dorrisile\", age=116)"
   ]
  },
  {
   "cell_type": "code",
   "execution_count": 245,
   "id": "f96fb440",
   "metadata": {},
   "outputs": [],
   "source": [
    "import math\n",
    "\n",
    "math.factorial = debug(math.factorial)\n",
    "\n",
    "def approximate_e(terms=18):\n",
    "    return sum(1 / math.factorial(n) for n in range(terms))"
   ]
  },
  {
   "cell_type": "code",
   "execution_count": 247,
   "id": "475bc430",
   "metadata": {},
   "outputs": [
    {
     "name": "stdout",
     "output_type": "stream",
     "text": [
      "Calling factorial(0)\n",
      "Calling factorial(0)\n",
      "Calling factorial(0)\n",
      "'factorial' returned 1\n",
      "'factorial' returned 1\n",
      "'factorial' returned 1\n",
      "Calling factorial(1)\n",
      "Calling factorial(1)\n",
      "Calling factorial(1)\n",
      "'factorial' returned 1\n",
      "'factorial' returned 1\n",
      "'factorial' returned 1\n",
      "Calling factorial(2)\n",
      "Calling factorial(2)\n",
      "Calling factorial(2)\n",
      "'factorial' returned 2\n",
      "'factorial' returned 2\n",
      "'factorial' returned 2\n",
      "Calling factorial(3)\n",
      "Calling factorial(3)\n",
      "Calling factorial(3)\n",
      "'factorial' returned 6\n",
      "'factorial' returned 6\n",
      "'factorial' returned 6\n",
      "Calling factorial(4)\n",
      "Calling factorial(4)\n",
      "Calling factorial(4)\n",
      "'factorial' returned 24\n",
      "'factorial' returned 24\n",
      "'factorial' returned 24\n"
     ]
    },
    {
     "data": {
      "text/plain": [
       "2.708333333333333"
      ]
     },
     "execution_count": 247,
     "metadata": {},
     "output_type": "execute_result"
    }
   ],
   "source": [
    "approximate_e(5)"
   ]
  },
  {
   "cell_type": "code",
   "execution_count": 250,
   "id": "5e421d54",
   "metadata": {
    "scrolled": false
   },
   "outputs": [],
   "source": [
    "# import dataclasses\n",
    "# help(dataclasses)"
   ]
  },
  {
   "cell_type": "code",
   "execution_count": 252,
   "id": "abd9e64a",
   "metadata": {},
   "outputs": [],
   "source": [
    "from dataclasses import dataclass\n",
    "@dataclass\n",
    "class Person:\n",
    "     first_name: str\n",
    "     last_name: str\n",
    "     age: int\n",
    "     job: str"
   ]
  },
  {
   "cell_type": "code",
   "execution_count": 254,
   "id": "d480eb85",
   "metadata": {},
   "outputs": [
    {
     "name": "stdout",
     "output_type": "stream",
     "text": [
      "[('__eq__', <function __create_fn__.<locals>.__eq__ at 0x7f81294c81f0>),\n",
      " ('__init__', <function __create_fn__.<locals>.__init__ at 0x7f81294c8160>),\n",
      " ('__repr__', <function __create_fn__.<locals>.__repr__ at 0x7f81294b09d0>)]\n"
     ]
    }
   ],
   "source": [
    "import inspect\n",
    "from pprint import pprint\n",
    "pprint(inspect.getmembers(Person, inspect.isfunction))"
   ]
  },
  {
   "cell_type": "code",
   "execution_count": 257,
   "id": "9d3973f2",
   "metadata": {
    "scrolled": false
   },
   "outputs": [],
   "source": [
    "# help(inspect.getmembers)\n",
    "# dir(inspect)"
   ]
  },
  {
   "cell_type": "code",
   "execution_count": 259,
   "id": "bbd78ddd",
   "metadata": {},
   "outputs": [
    {
     "name": "stdout",
     "output_type": "stream",
     "text": [
      "Ahmed Besbes (30)\n"
     ]
    }
   ],
   "source": [
    "@dataclass\n",
    "class Person:\n",
    "    first_name: str = \"Ahmed\"\n",
    "    last_name: str = \"Besbes\"\n",
    "    age: int = 30\n",
    "    job: str = \"Data Scientist\"\n",
    "\n",
    "    def __repr__(self):\n",
    "        return f\"{self.first_name} {self.last_name} ({self.age})\"\n",
    "\n",
    "ahmed = Person()\n",
    "print(ahmed)"
   ]
  },
  {
   "cell_type": "code",
   "execution_count": 267,
   "id": "4baa3315",
   "metadata": {},
   "outputs": [
    {
     "name": "stdout",
     "output_type": "stream",
     "text": [
      "('Ahmed', 'Besbes', 30, 'Data Scientist')\n",
      "{'first_name': 'Ahmed', 'last_name': 'Besbes', 'age': 30, 'job': 'Data Scientist'}\n"
     ]
    }
   ],
   "source": [
    "from dataclasses import astuple, asdict\n",
    "\n",
    "ahmed = Person()\n",
    "print(astuple(ahmed))\n",
    "print(asdict(ahmed))"
   ]
  },
  {
   "cell_type": "code",
   "execution_count": 269,
   "id": "716e4b09",
   "metadata": {},
   "outputs": [
    {
     "name": "stdout",
     "output_type": "stream",
     "text": [
      "True\n"
     ]
    }
   ],
   "source": [
    "@dataclass\n",
    "class Person:\n",
    "    first_name: str = \"Ahmed\"\n",
    "    last_name: str = \"Besbes\"\n",
    "    age: int = 30\n",
    "    job: str = \"Data Scientist\"\n",
    "\n",
    "first_person = Person()\n",
    "second_person = Person()\n",
    "\n",
    "print(first_person == second_person)"
   ]
  },
  {
   "cell_type": "markdown",
   "id": "217e8166",
   "metadata": {},
   "source": [
    "### Equality for tuples"
   ]
  },
  {
   "cell_type": "code",
   "execution_count": 274,
   "id": "43ae3387",
   "metadata": {},
   "outputs": [
    {
     "name": "stdout",
     "output_type": "stream",
     "text": [
      "True\n",
      "False\n"
     ]
    }
   ],
   "source": [
    "t1 = (12, 'asd', 14.3)\n",
    "t2 = (12, 'asd', 14.3)\n",
    "t3 = (12, 'asd', 15.0)\n",
    "print(t1 == t2)\n",
    "print(t1 == t3)"
   ]
  },
  {
   "cell_type": "markdown",
   "id": "0a72b043",
   "metadata": {},
   "source": [
    "### str vs repr"
   ]
  },
  {
   "cell_type": "code",
   "execution_count": 279,
   "id": "e4acca9a",
   "metadata": {},
   "outputs": [
    {
     "data": {
      "text/plain": [
       "datetime.datetime(2022, 2, 26, 23, 43, 29, 764345)"
      ]
     },
     "execution_count": 279,
     "metadata": {},
     "output_type": "execute_result"
    }
   ],
   "source": [
    "import datetime\n",
    "datetime.datetime.now() # This is the __repr__ implementation"
   ]
  },
  {
   "cell_type": "code",
   "execution_count": 280,
   "id": "c07d5cb7",
   "metadata": {},
   "outputs": [
    {
     "name": "stdout",
     "output_type": "stream",
     "text": [
      "2022-02-26 23:45:09.400133\n"
     ]
    }
   ],
   "source": [
    "print(datetime.datetime.now()) # This is the __str__ implementation"
   ]
  },
  {
   "cell_type": "code",
   "execution_count": 289,
   "id": "b8c9e631",
   "metadata": {},
   "outputs": [
    {
     "data": {
      "text/plain": [
       "'s'"
      ]
     },
     "execution_count": 289,
     "metadata": {},
     "output_type": "execute_result"
    }
   ],
   "source": [
    "# str('s') # 's'\n",
    "repr('s') # \"'s'\"\n",
    "# eval(str('s')) # NameError: name 's' is not defined\n",
    "eval(repr('s')) # 's'"
   ]
  },
  {
   "cell_type": "markdown",
   "id": "51eaf78b",
   "metadata": {},
   "source": [
    "### Decorators"
   ]
  },
  {
   "cell_type": "code",
   "execution_count": 292,
   "id": "03895356",
   "metadata": {},
   "outputs": [
    {
     "name": "stdout",
     "output_type": "stream",
     "text": [
      "Hello World\n",
      "Hello World\n",
      "Hello World\n",
      "Hello World\n"
     ]
    }
   ],
   "source": [
    "def repeat(num_times):\n",
    "    def decorator_repeat(func):\n",
    "        @functools.wraps(func)\n",
    "        def wrapper_repeat(*args, **kwargs):\n",
    "            for _ in range(num_times):\n",
    "                value = func(*args, **kwargs)\n",
    "            return value\n",
    "        return wrapper_repeat\n",
    "    return decorator_repeat\n",
    "\n",
    "@repeat(num_times=4)\n",
    "def greet(name):\n",
    "    print(f\"Hello {name}\")\n",
    "    \n",
    "greet(\"World\")\n",
    "\n",
    "# This wrapper_repeat() function takes arbitrary arguments and returns the \n",
    "#   value of the decorated function, func(). This wrapper function also \n",
    "#   contains the loop that calls the decorated function num_times times. \n",
    "#   This is no different from the earlier wrapper functions you have seen, \n",
    "#   except that it is using the num_times parameter that must be supplied \n",
    "#   from the outside.\n",
    "# Defining decorator_repeat() as an inner function means that repeat() will \n",
    "#   refer to a function object—decorator_repeat. Earlier, we used repeat \n",
    "#   without parentheses to refer to the function object. The added \n",
    "#   parentheses are necessary when defining decorators that take arguments.\n",
    "# The num_times argument is seemingly not used in repeat() itself. But by \n",
    "#   passing num_times a closure is created where the value of num_times is \n",
    "#   stored until it will be used later by wrapper_repeat().\n",
    "# When a decorator uses arguments, you need to add an extra outer function. \n",
    "#   The challenge is for your code to figure out if the decorator has been \n",
    "#   called with or without arguments."
   ]
  },
  {
   "cell_type": "markdown",
   "id": "3f37d01e",
   "metadata": {},
   "source": [
    "### Packing and Unpacking iterables"
   ]
  },
  {
   "cell_type": "code",
   "execution_count": 298,
   "id": "786b287f",
   "metadata": {},
   "outputs": [
    {
     "name": "stdout",
     "output_type": "stream",
     "text": [
      "6\n",
      "45\n"
     ]
    }
   ],
   "source": [
    "def my_sum(*args):\n",
    "    result = 0\n",
    "    # Iterating over the Python args tuple\n",
    "    for x in args:\n",
    "        result += x\n",
    "    return result\n",
    "\n",
    "print(my_sum(1, 2, 3))\n",
    "\n",
    "list1 = [1, 2, 3]\n",
    "list2 = [4, 5]\n",
    "list3 = [6, 7, 8, 9]\n",
    "\n",
    "print(my_sum(*list1, *list2, *list3))"
   ]
  },
  {
   "cell_type": "code",
   "execution_count": 296,
   "id": "ba76496b",
   "metadata": {},
   "outputs": [
    {
     "name": "stdout",
     "output_type": "stream",
     "text": [
      "1 2 3\n"
     ]
    }
   ],
   "source": [
    "# print_unpacked_list.py\n",
    "my_list = [1, 2, 3]\n",
    "print(*my_list)"
   ]
  },
  {
   "cell_type": "code",
   "execution_count": 297,
   "id": "0a1a988d",
   "metadata": {},
   "outputs": [
    {
     "name": "stdout",
     "output_type": "stream",
     "text": [
      "6\n"
     ]
    }
   ],
   "source": [
    "def my_sum(a, b, c):\n",
    "    print(a + b + c)\n",
    "\n",
    "my_list = [1, 2, 3]\n",
    "my_sum(*my_list)\n",
    "# Here, my_sum() explicitly states that a, b, and c are required arguments."
   ]
  },
  {
   "cell_type": "code",
   "execution_count": 299,
   "id": "59c5940e",
   "metadata": {},
   "outputs": [
    {
     "name": "stdout",
     "output_type": "stream",
     "text": [
      "1\n",
      "[2, 3, 4, 5]\n",
      "6\n"
     ]
    }
   ],
   "source": [
    "my_list = [1, 2, 3, 4, 5, 6]\n",
    "\n",
    "a, *b, c = my_list\n",
    "\n",
    "print(a)\n",
    "print(b)\n",
    "print(c)"
   ]
  },
  {
   "cell_type": "code",
   "execution_count": 301,
   "id": "8da7cc53",
   "metadata": {},
   "outputs": [
    {
     "name": "stdout",
     "output_type": "stream",
     "text": [
      "[1, 2, 3, 4, 5, 6, 7, 8, 9]\n"
     ]
    }
   ],
   "source": [
    "my_first_list = [1, 2, 3]\n",
    "my_second_list = [4, 5, 6]\n",
    "my_first_list = [*my_first_list, *my_second_list]\n",
    "my_second_list = [7, 8, 9]\n",
    "my_first_list = [*my_first_list, *my_second_list]\n",
    "\n",
    "print(my_first_list)"
   ]
  },
  {
   "cell_type": "code",
   "execution_count": 302,
   "id": "7407c230",
   "metadata": {},
   "outputs": [
    {
     "name": "stdout",
     "output_type": "stream",
     "text": [
      "{'A': 1, 'B': 2, 'C': 3, 'D': 4}\n"
     ]
    }
   ],
   "source": [
    "my_first_dict = {\"A\": 1, \"B\": 2}\n",
    "my_second_dict = {\"C\": 3, \"D\": 4}\n",
    "my_merged_dict = {**my_first_dict, **my_second_dict}\n",
    "\n",
    "print(my_merged_dict)"
   ]
  },
  {
   "cell_type": "code",
   "execution_count": 304,
   "id": "565a9682",
   "metadata": {},
   "outputs": [
    {
     "name": "stdout",
     "output_type": "stream",
     "text": [
      "['R', 'e', 'a', 'l', 'P', 'y', 't', 'h', 'o', 'n']\n"
     ]
    }
   ],
   "source": [
    "# string_to_list.py\n",
    "a = [*\"RealPython\"]\n",
    "print(a)"
   ]
  },
  {
   "cell_type": "code",
   "execution_count": 306,
   "id": "d23bef96",
   "metadata": {},
   "outputs": [
    {
     "name": "stdout",
     "output_type": "stream",
     "text": [
      "['R', 'e', 'a', 'l', 'P', 'y', 't', 'h', 'o', 'n']\n"
     ]
    }
   ],
   "source": [
    "*a, = \"RealPython\"\n",
    "print(a)"
   ]
  },
  {
   "cell_type": "code",
   "execution_count": 467,
   "id": "d487af98",
   "metadata": {},
   "outputs": [
    {
     "name": "stdout",
     "output_type": "stream",
     "text": [
      "n\n",
      "<class 'str'>\n",
      "['R', 'e', 'a', 'l', 'P', 'y', 't', 'h', 'o']\n",
      "<class 'list'>\n"
     ]
    }
   ],
   "source": [
    "*a, b = \"RealPython\"\n",
    "print(b)\n",
    "print(type(b))\n",
    "print(a)\n",
    "print(type(a))"
   ]
  },
  {
   "cell_type": "markdown",
   "id": "c802c48d",
   "metadata": {},
   "source": [
    "### Packing iterables"
   ]
  },
  {
   "cell_type": "code",
   "execution_count": 471,
   "id": "f1eb7d77",
   "metadata": {},
   "outputs": [
    {
     "name": "stdout",
     "output_type": "stream",
     "text": [
      "Only a assignment: [1, 2]\n",
      "a variable: 1\n",
      "b starred variable: [2, 3]\n",
      "a starred variable: [1, 2]\n",
      "b variable: 3\n",
      "_ variable: [0, 0, 0, 0]\n"
     ]
    }
   ],
   "source": [
    "*a, = 1, 2\n",
    "print('Only a assignment:', a)\n",
    "a, *b = 1, 2, 3\n",
    "print('a variable:', a)\n",
    "print('b starred variable:', b)\n",
    "*a, b = 1, 2, 3\n",
    "print('a starred variable:', a)\n",
    "print('b variable:', b)\n",
    "a, b, *_ = 1, 2, 0, 0, 0, 0 # Dropping Unneeded Values With *\n",
    "print('_ variable:', _)"
   ]
  },
  {
   "cell_type": "markdown",
   "id": "f9de16d1",
   "metadata": {},
   "source": [
    "### Merging iterables using star operator"
   ]
  },
  {
   "cell_type": "code",
   "execution_count": 473,
   "id": "ae0fb802",
   "metadata": {},
   "outputs": [
    {
     "name": "stdout",
     "output_type": "stream",
     "text": [
      "(0, 1, 2, 3, 4)\n",
      "[0, 1, 2, 3, 4]\n",
      "{0, 1, 2, 3, 4}\n",
      "[1, 2, 3, 1, 2, 3, 1, 2, 3, 1, 2, 3]\n",
      "[1, 2, 3, 1, 2, 3, 1, 2, 3, 1, 2, 3, '1', '2', '3']\n"
     ]
    }
   ],
   "source": [
    "my_tuple = (1, 2, 3)\n",
    "print((0, *my_tuple, 4))\n",
    "my_list = [1, 2, 3]\n",
    "print([0, *my_list, 4])\n",
    "my_set = {1, 2, 3}\n",
    "print({0, *my_set, 4})\n",
    "print([*my_set, *my_list, *my_tuple, *range(1, 4)])\n",
    "my_str = \"123\"\n",
    "print([*my_set, *my_list, *my_tuple, *range(1, 4), *my_str])\n"
   ]
  },
  {
   "cell_type": "markdown",
   "id": "780b2e65",
   "metadata": {},
   "source": [
    "### "
   ]
  },
  {
   "cell_type": "code",
   "execution_count": 485,
   "id": "b0e5fbb0",
   "metadata": {},
   "outputs": [
    {
     "name": "stdout",
     "output_type": "stream",
     "text": [
      "[0, 1, 2, 3, 4]\n",
      "<class 'list'>\n",
      "range(0, 5)\n",
      "<class 'range'>\n",
      "[2, 3]\n",
      "[5, 6, 7]\n"
     ]
    }
   ],
   "source": [
    "# *a = range(5) # SyntaxError: starred assignment target must be in a list or tuple\n",
    "*a, = range(5) # Valid\n",
    "print(a)\n",
    "print(type(a))\n",
    "a = range(5)\n",
    "print(a)\n",
    "print(type(a))\n",
    "\n",
    "for a, *b in [(1, 2, 3), (4, 5, 6, 7)]:\n",
    "    print(b)"
   ]
  },
  {
   "cell_type": "markdown",
   "id": "09ef7cbc",
   "metadata": {},
   "source": [
    "### Unpacking Dictionaries With the ** Operator"
   ]
  },
  {
   "cell_type": "code",
   "execution_count": 474,
   "id": "0ec54cd2",
   "metadata": {},
   "outputs": [
    {
     "name": "stdout",
     "output_type": "stream",
     "text": [
      "{'one': 1, 'two': 2, 'three': 3, 'a': 'A', 'b': 'B', 'c': 'C'}\n"
     ]
    }
   ],
   "source": [
    "numbers = {\"one\": 1, \"two\": 2, \"three\": 3}\n",
    "letters = {\"a\": \"A\", \"b\": \"B\", \"c\": \"C\"}\n",
    "combination = {**numbers, **letters}\n",
    "print(combination)"
   ]
  },
  {
   "cell_type": "markdown",
   "id": "1a6e728c",
   "metadata": {},
   "source": [
    "### Iterable unpacking"
   ]
  },
  {
   "cell_type": "code",
   "execution_count": 469,
   "id": "4cc433e6",
   "metadata": {},
   "outputs": [
    {
     "name": "stdout",
     "output_type": "stream",
     "text": [
      "String: 1\n",
      "List: 1\n",
      "Generators 0\n",
      "Keys: one\n",
      "Values: 1\n",
      "Pairs: ('one', 1)\n"
     ]
    }
   ],
   "source": [
    "# Unpacking strings\n",
    "a, b, c = '123'\n",
    "print('String:', a)\n",
    "# Unpacking lists\n",
    "a, b, c = [1, 2, 3]\n",
    "print('List:', a)\n",
    "# Unpacking generators\n",
    "gen = (i ** 2 for i in range(3))\n",
    "a, b, c = gen\n",
    "print('Generators', a)\n",
    "# Unpacking dictionaries (keys, values, and items)\n",
    "my_dict = {'one': 1, 'two':2, 'three': 3}\n",
    "a, b, c = my_dict  # Unpack keys\n",
    "print('Keys:', a)\n",
    "a, b, c = my_dict.values()  # Unpack values\n",
    "print('Values:', a)\n",
    "a, b, c = my_dict.items()  # Unpacking key-value pairs\n",
    "print('Pairs:', a)"
   ]
  },
  {
   "cell_type": "markdown",
   "id": "8222e03e",
   "metadata": {},
   "source": [
    "### Defining Functions With * and **"
   ]
  },
  {
   "cell_type": "code",
   "execution_count": 475,
   "id": "f5af10b2",
   "metadata": {},
   "outputs": [
    {
     "name": "stdout",
     "output_type": "stream",
     "text": [
      "Welcome to...\n",
      "(1, 2, 3)\n",
      "{'site': 'StackAbuse.com'}\n"
     ]
    }
   ],
   "source": [
    "def func(required, *args, **kwargs):\n",
    "     print(required)\n",
    "     print(args)\n",
    "     print(kwargs)\n",
    "func(\"Welcome to...\", 1, 2, 3, site='StackAbuse.com')"
   ]
  },
  {
   "cell_type": "markdown",
   "id": "557c6e97",
   "metadata": {},
   "source": [
    "### Calling Functions With * and **"
   ]
  },
  {
   "cell_type": "code",
   "execution_count": 476,
   "id": "4201d764",
   "metadata": {},
   "outputs": [
    {
     "name": "stdout",
     "output_type": "stream",
     "text": [
      "Welcome to StackAbuse.com\n"
     ]
    }
   ],
   "source": [
    "def func(welcome, to, site):\n",
    "    print(welcome, to, site)\n",
    "\n",
    "func(*[\"Welcome\", \"to\"], **{\"site\": 'StackAbuse.com'})"
   ]
  },
  {
   "cell_type": "code",
   "execution_count": 479,
   "id": "391bd83e",
   "metadata": {},
   "outputs": [
    {
     "name": "stdout",
     "output_type": "stream",
     "text": [
      "Welcome to...\n",
      "(1, 2, 3)\n",
      "{'site': 'StackAbuse.com'}\n",
      "Welcome to...\n",
      "(1, 2, 3)\n",
      "{'site': 'StackAbuse.com'}\n"
     ]
    }
   ],
   "source": [
    "def func(required, *args, **kwargs):\n",
    "    print(required)\n",
    "    print(args)\n",
    "    print(kwargs)\n",
    "func(\"Welcome to...\", *[1, 2, 3], **{\"site\": 'StackAbuse.com'})\n",
    "func(\"Welcome to...\", *(1, 2, 3), **{\"site\": 'StackAbuse.com'})"
   ]
  },
  {
   "cell_type": "markdown",
   "id": "8c6d682c",
   "metadata": {},
   "source": [
    "### Integer identity"
   ]
  },
  {
   "cell_type": "code",
   "execution_count": 311,
   "id": "96dd70e6",
   "metadata": {},
   "outputs": [
    {
     "name": "stdout",
     "output_type": "stream",
     "text": [
      "4501596640\n"
     ]
    }
   ],
   "source": [
    "x = 5\n",
    "print(id(x))"
   ]
  },
  {
   "cell_type": "code",
   "execution_count": 312,
   "id": "2e733bc1",
   "metadata": {},
   "outputs": [
    {
     "name": "stdout",
     "output_type": "stream",
     "text": [
      "4501596672\n"
     ]
    }
   ],
   "source": [
    "x = x+1\n",
    "print(id(x))"
   ]
  },
  {
   "cell_type": "code",
   "execution_count": 314,
   "id": "ba000a22",
   "metadata": {},
   "outputs": [
    {
     "name": "stdout",
     "output_type": "stream",
     "text": [
      "<class 'builtin_function_or_method'> with id: 140192549082992\n"
     ]
    }
   ],
   "source": [
    "print(f'{type(id)} with id: {id(id)}')"
   ]
  },
  {
   "cell_type": "markdown",
   "id": "91e2b915",
   "metadata": {},
   "source": [
    "### String equality using identity"
   ]
  },
  {
   "cell_type": "code",
   "execution_count": 321,
   "id": "3edac346",
   "metadata": {},
   "outputs": [
    {
     "name": "stdout",
     "output_type": "stream",
     "text": [
      "Hello 140192706582000\n",
      "Hello 140192706582000\n",
      "True\n",
      "True\n",
      "Hello 140192706582000\n",
      "Helloo 140192733298800\n",
      "False\n",
      "False\n"
     ]
    }
   ],
   "source": [
    "str1 = 'Hello'\n",
    "str2 = 'Hello'\n",
    "print(str1, id(str1))\n",
    "print(str2, id(str2))\n",
    "print(str1 is str2)\n",
    "print(str1 == str2)\n",
    "str2 = str2 + 'o'\n",
    "print(str1, id(str1))\n",
    "print(str2, id(str2))\n",
    "print(str1 is str2)\n",
    "print(str1 == str2)"
   ]
  },
  {
   "cell_type": "code",
   "execution_count": 322,
   "id": "54b1785d",
   "metadata": {},
   "outputs": [
    {
     "name": "stdout",
     "output_type": "stream",
     "text": [
      "Hello 140192706582000\n",
      "Hello 140192706582000\n",
      "Hello 140192706582000\n",
      "Helloo 140192728602608\n"
     ]
    }
   ],
   "source": [
    "str1 = 'Hello'\n",
    "str2 = str1\n",
    "print(str1, id(str1))\n",
    "print(str2, id(str2))\n",
    "str2 = str2 + 'o'\n",
    "print(str1, id(str1))\n",
    "print(str2, id(str2))"
   ]
  },
  {
   "cell_type": "markdown",
   "id": "627a8043",
   "metadata": {},
   "source": [
    "### Immutable string"
   ]
  },
  {
   "cell_type": "code",
   "execution_count": 325,
   "id": "70c441c4",
   "metadata": {
    "scrolled": true
   },
   "outputs": [
    {
     "name": "stdout",
     "output_type": "stream",
     "text": [
      "o\n"
     ]
    },
    {
     "ename": "TypeError",
     "evalue": "'str' object does not support item assignment",
     "output_type": "error",
     "traceback": [
      "\u001b[0;31m---------------------------------------------------------------------------\u001b[0m",
      "\u001b[0;31mTypeError\u001b[0m                                 Traceback (most recent call last)",
      "\u001b[0;32m<ipython-input-325-a97577cdfdf9>\u001b[0m in \u001b[0;36m<module>\u001b[0;34m\u001b[0m\n\u001b[1;32m      1\u001b[0m \u001b[0ma\u001b[0m \u001b[0;34m=\u001b[0m \u001b[0;34m'dog'\u001b[0m\u001b[0;34m\u001b[0m\u001b[0;34m\u001b[0m\u001b[0m\n\u001b[1;32m      2\u001b[0m \u001b[0mprint\u001b[0m\u001b[0;34m(\u001b[0m\u001b[0ma\u001b[0m\u001b[0;34m[\u001b[0m\u001b[0;36m1\u001b[0m\u001b[0;34m]\u001b[0m\u001b[0;34m)\u001b[0m\u001b[0;34m\u001b[0m\u001b[0;34m\u001b[0m\u001b[0m\n\u001b[0;32m----> 3\u001b[0;31m \u001b[0ma\u001b[0m\u001b[0;34m[\u001b[0m\u001b[0;36m1\u001b[0m\u001b[0;34m]\u001b[0m \u001b[0;34m=\u001b[0m \u001b[0;34m'a'\u001b[0m\u001b[0;34m\u001b[0m\u001b[0;34m\u001b[0m\u001b[0m\n\u001b[0m",
      "\u001b[0;31mTypeError\u001b[0m: 'str' object does not support item assignment"
     ]
    }
   ],
   "source": [
    "a = 'dog'\n",
    "print(a[1])\n",
    "a[1] = 'a'"
   ]
  },
  {
   "cell_type": "markdown",
   "id": "4baaa13c",
   "metadata": {},
   "source": [
    "### List as mutable with object representation"
   ]
  },
  {
   "cell_type": "code",
   "execution_count": 328,
   "id": "17a64346",
   "metadata": {},
   "outputs": [
    {
     "name": "stdout",
     "output_type": "stream",
     "text": [
      "<method-wrapper '__repr__' of list object at 0x7f8129c62b40>\n",
      "['hello new']\n",
      "<method-wrapper '__repr__' of list object at 0x7f8129c62b40>\n"
     ]
    }
   ],
   "source": [
    "a = ['hello']\n",
    "print(a.__repr__)\n",
    "a[0] = \"hello new\"\n",
    "print(a)\n",
    "print(a.__repr__)"
   ]
  },
  {
   "cell_type": "markdown",
   "id": "367e4ced",
   "metadata": {},
   "source": [
    "### Disable asserts"
   ]
  },
  {
   "cell_type": "code",
   "execution_count": 341,
   "id": "559ee9bf",
   "metadata": {},
   "outputs": [],
   "source": [
    "# !python -Oc \"assert False\" # This is how we disable asserts\n",
    "\n",
    "# !python -c \"assert False\" # This will make asserts fail\n",
    "!python -c \"assert True\" # This will make asserts pass"
   ]
  },
  {
   "cell_type": "markdown",
   "id": "aad1d27d",
   "metadata": {},
   "source": [
    "### assert with parenthesis"
   ]
  },
  {
   "cell_type": "code",
   "execution_count": 344,
   "id": "c9c71224",
   "metadata": {},
   "outputs": [
    {
     "name": "stderr",
     "output_type": "stream",
     "text": [
      "<>:1: SyntaxWarning: assertion is always true, perhaps remove parentheses?\n",
      "<>:1: SyntaxWarning: assertion is always true, perhaps remove parentheses?\n",
      "<ipython-input-344-7a4fc4fbe3a3>:1: SyntaxWarning: assertion is always true, perhaps remove parentheses?\n",
      "  assert(1 == 2, 'This should fail') # An old feature that is no more relevant\n"
     ]
    }
   ],
   "source": [
    "assert(1 == 2, 'This should fail') # An old feature that is no more relevant\n",
    "# assert 1 == 2, 'This should fail'\n",
    "# ?assert"
   ]
  },
  {
   "cell_type": "markdown",
   "id": "73976d29",
   "metadata": {},
   "source": [
    "### Context manager order of events"
   ]
  },
  {
   "cell_type": "code",
   "execution_count": 347,
   "id": "1f002698",
   "metadata": {},
   "outputs": [
    {
     "name": "stdout",
     "output_type": "stream",
     "text": [
      "__init__ method\n",
      "__enter__ method\n",
      "144\n",
      "__exit__ method\n"
     ]
    }
   ],
   "source": [
    "class TestClass(object):\n",
    "    def __init__(self, vara):\n",
    "        self.vara = vara\n",
    "        print('__init__ method')\n",
    "        \n",
    "    def __enter__(self):\n",
    "        print('__enter__ method')\n",
    "        return self.vara**2\n",
    "    \n",
    "    def __exit__(self, type, value, traceback):\n",
    "        print('__exit__ method')\n",
    "        \n",
    "vara = 12\n",
    "with TestClass(vara) as tc:\n",
    "    print(tc)"
   ]
  },
  {
   "cell_type": "code",
   "execution_count": 352,
   "id": "e580006f",
   "metadata": {
    "scrolled": false
   },
   "outputs": [],
   "source": [
    "# import contextlib\n",
    "\n",
    "# help(contextlib)"
   ]
  },
  {
   "cell_type": "markdown",
   "id": "996df623",
   "metadata": {},
   "source": [
    "### Context manager with pytest"
   ]
  },
  {
   "cell_type": "code",
   "execution_count": 359,
   "id": "1d4a4306",
   "metadata": {},
   "outputs": [],
   "source": [
    "import pytest\n",
    "with pytest.raises(ZeroDivisionError):\n",
    "    4 / 0 # No error\n",
    "#     4/2 # Raises error - Failed: DID NOT RAISE <class 'ZeroDivisionError'>"
   ]
  },
  {
   "cell_type": "markdown",
   "id": "6623f3d0",
   "metadata": {},
   "source": [
    "### Incorrect context manager"
   ]
  },
  {
   "cell_type": "code",
   "execution_count": 361,
   "id": "9128459f",
   "metadata": {},
   "outputs": [
    {
     "name": "stdout",
     "output_type": "stream",
     "text": [
      "Entering the context...\n",
      "Hello, World!\n",
      "Leaving the context...\n",
      "None\n",
      "None\n",
      "None\n"
     ]
    },
    {
     "ename": "AttributeError",
     "evalue": "__enter__",
     "output_type": "error",
     "traceback": [
      "\u001b[0;31m---------------------------------------------------------------------------\u001b[0m",
      "\u001b[0;31mAttributeError\u001b[0m                            Traceback (most recent call last)",
      "\u001b[0;32m<ipython-input-361-d35e14064f28>\u001b[0m in \u001b[0;36m<module>\u001b[0;34m\u001b[0m\n\u001b[1;32m     11\u001b[0m     \u001b[0mprint\u001b[0m\u001b[0;34m(\u001b[0m\u001b[0mhello\u001b[0m\u001b[0;34m)\u001b[0m\u001b[0;34m\u001b[0m\u001b[0;34m\u001b[0m\u001b[0m\n\u001b[1;32m     12\u001b[0m \u001b[0;34m\u001b[0m\u001b[0m\n\u001b[0;32m---> 13\u001b[0;31m \u001b[0;32mwith\u001b[0m \u001b[0mHelloContextManager\u001b[0m \u001b[0;32mas\u001b[0m \u001b[0mhello\u001b[0m\u001b[0;34m:\u001b[0m \u001b[0;31m# This is incorrect as the required context manager is not passed\u001b[0m\u001b[0;34m\u001b[0m\u001b[0;34m\u001b[0m\u001b[0m\n\u001b[0m\u001b[1;32m     14\u001b[0m     \u001b[0mprint\u001b[0m\u001b[0;34m(\u001b[0m\u001b[0mhello\u001b[0m\u001b[0;34m)\u001b[0m\u001b[0;34m\u001b[0m\u001b[0;34m\u001b[0m\u001b[0m\n",
      "\u001b[0;31mAttributeError\u001b[0m: __enter__"
     ]
    }
   ],
   "source": [
    "class HelloContextManager:\n",
    "    def __enter__(self):\n",
    "        print(\"Entering the context...\")\n",
    "        return \"Hello, World!\"\n",
    "    def __exit__(self, exc_type, exc_value, exc_tb):\n",
    "        print(\"Leaving the context...\")\n",
    "        print(exc_type, exc_value, exc_tb, sep=\"\\n\")\n",
    "\n",
    "\n",
    "with HelloContextManager() as hello:\n",
    "    print(hello)\n",
    "\n",
    "with HelloContextManager as hello: # This is incorrect as the required context manager is not passed\n",
    "    print(hello)"
   ]
  },
  {
   "cell_type": "markdown",
   "id": "8892b693",
   "metadata": {},
   "source": [
    "### Use of contextmanager and lambda functions"
   ]
  },
  {
   "cell_type": "code",
   "execution_count": 365,
   "id": "393cf1d0",
   "metadata": {},
   "outputs": [
    {
     "data": {
      "text/plain": [
       "0.5045345989929046"
      ]
     },
     "execution_count": 365,
     "metadata": {},
     "output_type": "execute_result"
    }
   ],
   "source": [
    "from time import perf_counter\n",
    "\n",
    "class TestTimer:\n",
    "    def __enter__(self):\n",
    "        '''\n",
    "        When you use Timer in a with statement, .__enter__() gets called. This method uses \n",
    "        time.perf_counter() to get the time at the beginning of the with code block and \n",
    "        stores it in .start. It also initializes .end and returns a lambda function that \n",
    "        computes a time delta. In this case, .start holds the initial state or time measurement.\n",
    "        '''\n",
    "        self.start = perf_counter()\n",
    "        self.end = 0.0\n",
    "        return lambda: self.end - self.start\n",
    "\n",
    "    def __exit__(self, *args):\n",
    "        '''\n",
    "        Once the with block ends, .__exit__() gets called. The method gets the time at the end \n",
    "        of the block and updates the value of .end so that the lambda function can compute the \n",
    "        time required to run the with code block\n",
    "        '''\n",
    "        self.end = perf_counter()\n",
    "        \n",
    "from time import sleep\n",
    "\n",
    "with TestTimer() as timer:\n",
    "    # Time-consuming code goes here...\n",
    "    sleep(0.5)\n",
    "\n",
    "timer()"
   ]
  },
  {
   "cell_type": "code",
   "execution_count": 366,
   "id": "d6774645",
   "metadata": {},
   "outputs": [],
   "source": [
    "# help(perf_counter)"
   ]
  },
  {
   "cell_type": "markdown",
   "id": "b2dbb377",
   "metadata": {},
   "source": [
    "### Iterables/Iterators"
   ]
  },
  {
   "cell_type": "code",
   "execution_count": 368,
   "id": "3c3e35b7",
   "metadata": {},
   "outputs": [
    {
     "name": "stdout",
     "output_type": "stream",
     "text": [
      "0\n",
      "1\n",
      "4\n"
     ]
    }
   ],
   "source": [
    "mygenerator = (x*x for x in range(3))\n",
    "for i in mygenerator:\n",
    "  print(i)"
   ]
  },
  {
   "cell_type": "markdown",
   "id": "ab3e8b59",
   "metadata": {},
   "source": [
    "### Using yield as generator"
   ]
  },
  {
   "cell_type": "code",
   "execution_count": 386,
   "id": "87adcb81",
   "metadata": {},
   "outputs": [
    {
     "name": "stdout",
     "output_type": "stream",
     "text": [
      "<generator object f123 at 0x7f81297172e0>\n",
      "<class 'generator'>\n",
      "1\n",
      "Loop starts\n",
      "2\n",
      "3\n"
     ]
    }
   ],
   "source": [
    "def f123():\n",
    "    yield 1\n",
    "    yield 2\n",
    "    yield 3\n",
    "\n",
    "x = f123()\n",
    "print(''f123())\n",
    "print(type(x))\n",
    "print(x.__next__())\n",
    "\n",
    "print('Loop starts')\n",
    "for item in x:\n",
    "    print(item)"
   ]
  },
  {
   "cell_type": "code",
   "execution_count": 398,
   "id": "543db226",
   "metadata": {},
   "outputs": [
    {
     "name": "stdout",
     "output_type": "stream",
     "text": [
      "1\n",
      "Loop starts\n",
      "1\n",
      "2\n",
      "3\n"
     ]
    }
   ],
   "source": [
    "print(f123().__next__())\n",
    "\n",
    "print('Loop starts')\n",
    "for item in f123():\n",
    "    print(item)"
   ]
  },
  {
   "cell_type": "code",
   "execution_count": 399,
   "id": "38aca2af",
   "metadata": {},
   "outputs": [
    {
     "name": "stdout",
     "output_type": "stream",
     "text": [
      "Task 1 performed\n",
      "Task 2 performed\n"
     ]
    }
   ],
   "source": [
    "def do_task():\n",
    "    print('Task 1 performed')\n",
    "    yield\n",
    "    print('Task 2 performed')\n",
    "    \n",
    "task_list = do_task()\n",
    "\n",
    "while True:\n",
    "    try:\n",
    "        next(task_list)\n",
    "    except StopIteration:\n",
    "        break\n",
    "        \n"
   ]
  },
  {
   "cell_type": "markdown",
   "id": "af84a772",
   "metadata": {},
   "source": [
    "### Invoking super"
   ]
  },
  {
   "cell_type": "code",
   "execution_count": 387,
   "id": "daddc99f",
   "metadata": {},
   "outputs": [],
   "source": [
    "class A:\n",
    "     def __init__(self, x):\n",
    "          self.x = x\n",
    "\n",
    "class B(A):\n",
    "     def __init__(self, x, y):\n",
    "          A.__init__(self, x) # Either this \n",
    "          self.y = y\n",
    "\n",
    "class B(A):\n",
    "     def __init__(self, x, y):\n",
    "          super().__init__(x) # or this \n",
    "          self.y = y"
   ]
  },
  {
   "cell_type": "markdown",
   "id": "061c45fd",
   "metadata": {},
   "source": [
    "### Formating strings"
   ]
  },
  {
   "cell_type": "code",
   "execution_count": 397,
   "id": "f5b9a4f4",
   "metadata": {},
   "outputs": [
    {
     "name": "stdout",
     "output_type": "stream",
     "text": [
      "Hello, Eric. You are 74.\n",
      "Hello, Eric. You are 74.\n",
      "Hello, Eric. You are 74.\n",
      "Hello, Eric. You are 74.\n",
      "74\n",
      "Eric Idle is 74.\n",
      "Eric Idle is 74. Surprise!\n"
     ]
    }
   ],
   "source": [
    "# Old way of formating strings\n",
    "name = \"Eric\"\n",
    "age = 74\n",
    "print(\"Hello, %s. You are %s.\" % (name, age))\n",
    "\n",
    "# Reference variables using str.format()\n",
    "print(\"Hello, {1}. You are {0}.\".format(age, name))\n",
    "\n",
    "person = {'name': 'Eric', 'age': 74}\n",
    "print(\"Hello, {name}. You are {age}.\".format(**person))\n",
    "\n",
    "# f-string formating\n",
    "print(f\"Hello, {name}. You are {age}.\")\n",
    "print(f\"{2 * 37}\")\n",
    "\n",
    "class Comedian:\n",
    "    def __init__(self, first_name, last_name, age):\n",
    "        self.first_name = first_name\n",
    "        self.last_name = last_name\n",
    "        self.age = age\n",
    "\n",
    "    def __str__(self):\n",
    "        return f\"{self.first_name} {self.last_name} is {self.age}.\"\n",
    "\n",
    "    def __repr__(self):\n",
    "        return f\"{self.first_name} {self.last_name} is {self.age}. Surprise!\"\n",
    "\n",
    "new_comedian = Comedian(\"Eric\", \"Idle\", \"74\")\n",
    "print(f\"{new_comedian}\")   # This calls str()\n",
    "print(f\"{new_comedian!r}\") # This calls repr()\n"
   ]
  },
  {
   "cell_type": "markdown",
   "id": "9f92968f",
   "metadata": {},
   "source": [
    "### Named arguments"
   ]
  },
  {
   "cell_type": "code",
   "execution_count": 409,
   "id": "27a11f0e",
   "metadata": {},
   "outputs": [
    {
     "name": "stdout",
     "output_type": "stream",
     "text": [
      "fname Sumeet\n",
      "lname Sarkar\n",
      "lname Sarkar\n",
      "print_arguments3\n",
      "args: ()\n",
      "kwargs: lname Sarkar\n",
      "print_arguments3\n",
      "args: ('hello',)\n",
      "kwargs: lname Sarkar\n"
     ]
    }
   ],
   "source": [
    "# https://github.com/sumeetsarkar/art-of-python/blob/master/arguments/kwargs.py\n",
    "\"\"\"Demonstrates kwargs in python\n",
    "\"\"\"\n",
    "\n",
    "def analyzekwargs(**kwargs):\n",
    "    print(kwargs)\n",
    "    # Since kwargs is a dictionary here, corresponding dict methods apply\n",
    "    print(kwargs.get('fname', 'Some Name'))\n",
    "    print(kwargs.get('name', 'Some Name'))\n",
    "    # passing kwargs to another function accepting kwargs\n",
    "    print_arguments(**kwargs)\n",
    "\n",
    "\n",
    "def print_arguments(**kwargs):\n",
    "    for k, v in kwargs.items():\n",
    "        print(k, v)\n",
    "\n",
    "\n",
    "print_arguments()  # no output\n",
    "\n",
    "print_arguments(fname='Sumeet', lname='Sarkar')\n",
    "# outputs\n",
    "# fname Sumeet\n",
    "# lname Sarkar\n",
    "\n",
    "\n",
    "def print_arguments2(fname, **kwargs):\n",
    "    for k, v in kwargs.items():\n",
    "        print(k, v)\n",
    "\n",
    "\n",
    "print_arguments2(fname='Sumeet', lname='Sarkar')\n",
    "# outputs\n",
    "# lname Sarkar\n",
    "\n",
    "\n",
    "def print_arguments3(fname, *args, **kwargs):\n",
    "    print('print_arguments3')\n",
    "    print('args:', args)\n",
    "    for k, v in kwargs.items():\n",
    "        print('kwargs:', k, v)\n",
    "\n",
    "# This is SyntaxError\n",
    "# print_arguments3(fname = 'Sumeet', 'hello', lname = 'Sarkar') # positional arguments follows argument\n",
    "\n",
    "# This is also SyntaxError\n",
    "# print_arguments3('hello', fname = 'Sumeet', lname = 'Sarkar') # still invalid as fname is a named recieving argument\n",
    "\n",
    "\n",
    "# fname recieves 'Sumeet', and kwargs recieve lname\n",
    "print_arguments3('Sumeet', lname='Sarkar')\n",
    "# fname recieves 'Sumeet', args recieve hello and kwargs recieve lname\n",
    "print_arguments3('Sumeet', 'hello', lname='Sarkar')\n",
    "\n",
    "analyzekwargs(fname='Sumeet', lname='Sarkar')"
   ]
  },
  {
   "cell_type": "code",
   "execution_count": 410,
   "id": "28d8eb00",
   "metadata": {},
   "outputs": [
    {
     "ename": "SyntaxError",
     "evalue": "unexpected EOF while parsing (<ipython-input-410-47751c3d7244>, line 2)",
     "output_type": "error",
     "traceback": [
      "\u001b[0;36m  File \u001b[0;32m\"<ipython-input-410-47751c3d7244>\"\u001b[0;36m, line \u001b[0;32m2\u001b[0m\n\u001b[0;31m    print(1/0\u001b[0m\n\u001b[0m             ^\u001b[0m\n\u001b[0;31mSyntaxError\u001b[0m\u001b[0;31m:\u001b[0m unexpected EOF while parsing\n"
     ]
    }
   ],
   "source": [
    "print(1)\n",
    "print(1/0"
   ]
  },
  {
   "cell_type": "markdown",
   "id": "97b5ba00",
   "metadata": {},
   "source": [
    "### Fibonacci with memoization and decorator"
   ]
  },
  {
   "cell_type": "code",
   "execution_count": 464,
   "id": "d8b808c5",
   "metadata": {
    "scrolled": false
   },
   "outputs": [
    {
     "name": "stdout",
     "output_type": "stream",
     "text": [
      "fibonacciWithMemAndClassDecorator: 3.37530073011294e-05\n",
      "fibonacciWithMem: 0.036030335002578795\n",
      "fibonacci: 0.0189088869956322\n"
     ]
    }
   ],
   "source": [
    "def fibonacci(num):\n",
    "#     print(num)\n",
    "    if num in (1,2):\n",
    "        return 1\n",
    "    return fibonacci(num-1) + fibonacci(num-2)\n",
    "        \n",
    "def fibonacciWithMem(num, d={}):\n",
    "    if num in (1,2):\n",
    "        val = 1\n",
    "    else:\n",
    "        val = fibonacciWithMem(num-1, d) + fibonacciWithMem(num-2, d)\n",
    "    d[num] = val\n",
    "#     print(num, d)\n",
    "    return d.get(num)\n",
    "\n",
    "def memoizeFib(fn):\n",
    "    mem = {}\n",
    "    def wrapper(*args):\n",
    "        if args not in mem:\n",
    "            mem[args] = fn(*args)\n",
    "#         print('mem wrapper: ', mem, args)\n",
    "        return mem.get(args)\n",
    "    return wrapper\n",
    "\n",
    "# class based decorator\n",
    "class MemoizeFib:\n",
    "    def __init__(self, fn):\n",
    "        self.__mem = {}\n",
    "        self.__fn = fn\n",
    "\n",
    "    def __call__(self, *args):\n",
    "#         print('Inside __call__ method')\n",
    "        if args not in self.__mem:\n",
    "#             print('Inside __call__ if block')\n",
    "            self.__mem[args] = self.__fn(*args)\n",
    "#         else:\n",
    "#             print('Inside __call__ else block')\n",
    "        return self.__mem[args]\n",
    "    \n",
    "# @timer\n",
    "def fibonacciWithMemAndClassDecorator(num):\n",
    "#     print('fibonacciWithDec:', num)\n",
    "    calcFib(num) \n",
    "    \n",
    "\n",
    "@MemoizeFib\n",
    "def calcFib(num):\n",
    "#     print('calcFib:', num)\n",
    "    if num in (1,2):\n",
    "        return 1\n",
    "    return calcFib(num-1) + calcFib(num-2)\n",
    "\n",
    "# print(fibonacci(6))\n",
    "# print(fibonacciWithMem(6))\n",
    "# print(fibonacciWithClassDecorator())\n",
    "\n",
    "num = 25\n",
    "with TestTimer() as timer:\n",
    "    fibonacciWithMemAndClassDecorator(num)\n",
    "print('fibonacciWithMemAndClassDecorator:', timer())\n",
    "\n",
    "with TestTimer() as timer:\n",
    "    fibonacciWithMem(num)\n",
    "print('fibonacciWithMem:', timer())\n",
    "\n",
    "with TestTimer() as timer:\n",
    "    fibonacci(num)\n",
    "print('fibonacci:', timer())\n",
    "\n"
   ]
  },
  {
   "cell_type": "code",
   "execution_count": 488,
   "id": "f31a7089",
   "metadata": {},
   "outputs": [],
   "source": [
    "# help(range)\n",
    "# import this\n",
    "# help(this)"
   ]
  },
  {
   "cell_type": "markdown",
   "id": "322f67a0",
   "metadata": {},
   "source": [
    "### Closures"
   ]
  },
  {
   "cell_type": "code",
   "execution_count": 489,
   "id": "7b5de400",
   "metadata": {},
   "outputs": [
    {
     "name": "stdout",
     "output_type": "stream",
     "text": [
      "8\n",
      "12\n"
     ]
    }
   ],
   "source": [
    "def multiplier(num1):\n",
    "    def multiply(num2):\n",
    "        return num1 * num2\n",
    "    return multiply\n",
    "\n",
    "\n",
    "twice = multiplier(2)\n",
    "thrice = multiplier(3)\n",
    "\n",
    "print(twice(4))\n",
    "print(thrice(4))\n",
    "\n",
    "# example 2"
   ]
  },
  {
   "cell_type": "code",
   "execution_count": 491,
   "id": "552aef23",
   "metadata": {},
   "outputs": [
    {
     "name": "stdout",
     "output_type": "stream",
     "text": [
      "Access denied: Age restriction\n",
      "Access denied: Age restriction\n"
     ]
    }
   ],
   "source": [
    "def on_success(data):\n",
    "    def validate():\n",
    "        if data.get('age') > 18:\n",
    "            print('Access granted to: ' + data.get('name'))\n",
    "        else:\n",
    "            print('Access denied: Age restriction')\n",
    "    return validate\n",
    "\n",
    "\n",
    "def do_some_task():\n",
    "    data = dict(name='Chandra Singh', age=12)\n",
    "    validateLater = on_success(data)\n",
    "    validateLater()\n",
    "    # or\n",
    "    on_success(data)()\n",
    "\n",
    "\n",
    "do_some_task()"
   ]
  },
  {
   "cell_type": "markdown",
   "id": "40eb9184",
   "metadata": {},
   "source": [
    "### [Closure vs Nested function](https://stackoverflow.com/questions/4020419/why-arent-python-nested-functions-called-closures)\n",
    "\n",
    "- Example 1 - Closure\n",
    "  - A closure occurs when a function has access to a local variable from an enclosing scope that has finished its execution.\n",
    "\n",
    "  - When make_printer is called, a new frame is put on the stack with the compiled code for the printer function as a constant and the value of msg as a local. It then creates and returns the function. Because the function printer references the msg variable, it is kept alive after the make_printer function has returned.\n",
    "\n",
    "- Example 2 - Not a Closure\n",
    "  - So, if your nested functions don't\n",
    "    - access variables that are local to enclosing scopes,\n",
    "    - do so when they are executed outside of that scope,\n",
    "  - then they are not closures.\n",
    "\n",
    "  - Here, we are binding the value to the default value of a parameter. This occurs when the function printer is created and so no reference to the value of msg external to printer needs to be maintained after make_printer returns. msg is just a normal local variable of the function printer in this context"
   ]
  },
  {
   "cell_type": "code",
   "execution_count": 492,
   "id": "61ea1513",
   "metadata": {},
   "outputs": [
    {
     "name": "stdout",
     "output_type": "stream",
     "text": [
      "Foo!\n",
      "Foo!\n"
     ]
    }
   ],
   "source": [
    "### This is a closure - Example 1\n",
    "def make_printer(msg):\n",
    "    def printer():\n",
    "        print(msg)\n",
    "    return printer\n",
    "\n",
    "printer = make_printer('Foo!')\n",
    "printer()\n",
    "\n",
    "### This is not a closure - Example 2\n",
    "def make_printer(msg):\n",
    "    def printer(msg=msg):\n",
    "        print(msg)\n",
    "    return printer\n",
    "\n",
    "printer = make_printer(\"Foo!\")\n",
    "printer()  #Output: Foo!"
   ]
  },
  {
   "cell_type": "markdown",
   "id": "cebbb307",
   "metadata": {},
   "source": [
    "### Example of closure attributes but no content inside as there is no free variable."
   ]
  },
  {
   "cell_type": "code",
   "execution_count": 507,
   "id": "0c8d110e",
   "metadata": {},
   "outputs": [
    {
     "name": "stdout",
     "output_type": "stream",
     "text": [
      "None\n",
      "True\n"
     ]
    }
   ],
   "source": [
    "def foo():\n",
    "    def fii():\n",
    "        pass\n",
    "    return fii\n",
    "f = foo()\n",
    "print(f.__closure__)\n",
    "print('__closure__' in dir(f))\n",
    "# print(f.__closure__[0].cell_contents) # No attribute"
   ]
  },
  {
   "cell_type": "markdown",
   "id": "c003ce41",
   "metadata": {},
   "source": [
    "### Example of closure attributes with content inside"
   ]
  },
  {
   "cell_type": "code",
   "execution_count": 503,
   "id": "e1f0f7dd",
   "metadata": {},
   "outputs": [
    {
     "name": "stdout",
     "output_type": "stream",
     "text": [
      "(<cell at 0x7f812a2defd0: str object at 0x7f81293453f0>,)\n",
      "True\n",
      "foooo\n"
     ]
    }
   ],
   "source": [
    "def foo(msg):\n",
    "    def fii():\n",
    "        print(msg)\n",
    "    return fii\n",
    "f = foo('foooo')\n",
    "print(f.__closure__)\n",
    "print('__closure__' in dir(f))\n",
    "print(f.__closure__[0].cell_contents)"
   ]
  },
  {
   "cell_type": "markdown",
   "id": "b26d9784",
   "metadata": {},
   "source": [
    "### Lambda"
   ]
  },
  {
   "cell_type": "code",
   "execution_count": 509,
   "id": "01e3aae9",
   "metadata": {},
   "outputs": [
    {
     "name": "stdout",
     "output_type": "stream",
     "text": [
      "8\n",
      "12\n"
     ]
    }
   ],
   "source": [
    "def multiplier(num):\n",
    "    return lambda a: a * num\n",
    "\n",
    "\n",
    "twice = multiplier(2)\n",
    "thrice = multiplier(3)\n",
    "\n",
    "print(twice(4))\n",
    "print(thrice(4))"
   ]
  },
  {
   "cell_type": "code",
   "execution_count": 510,
   "id": "9d3d6d0b",
   "metadata": {},
   "outputs": [
    {
     "name": "stdout",
     "output_type": "stream",
     "text": [
      "2\n",
      "4\n",
      "6\n",
      "8\n",
      "10\n",
      "2\n",
      "4\n",
      "6\n",
      "8\n",
      "10\n",
      "2\n",
      "4\n",
      "2000\n"
     ]
    }
   ],
   "source": [
    "list = [1, 2, 3, 4, 5]\n",
    "\n",
    "result = map(lambda n: n * 2, list)\n",
    "for x in result:\n",
    "    print(x)\n",
    "\n",
    "for n in list:\n",
    "    print((lambda a: a * 2)(n))\n",
    "\n",
    "result = filter(lambda n: n % 2 == 0, list)\n",
    "for x in result:\n",
    "    print(x)\n",
    "\n",
    "print((lambda a, b: a * b * 10)(10, 20))"
   ]
  },
  {
   "cell_type": "markdown",
   "id": "0a7b9a1f",
   "metadata": {},
   "source": [
    "### Using maps"
   ]
  },
  {
   "cell_type": "code",
   "execution_count": 515,
   "id": "dab51aa7",
   "metadata": {},
   "outputs": [
    {
     "name": "stdout",
     "output_type": "stream",
     "text": [
      "[1, 4, 9, 16, 25]\n",
      "<class 'map'>\n"
     ]
    },
    {
     "data": {
      "text/plain": [
       "<map at 0x7f812a268cd0>"
      ]
     },
     "execution_count": 515,
     "metadata": {},
     "output_type": "execute_result"
    }
   ],
   "source": [
    "numbers = [1, 2, 3, 4, 5]\n",
    "squared = []\n",
    "\n",
    "for num in numbers:\n",
    "    squared.append(num ** 2)\n",
    "\n",
    "print(squared)\n",
    "\n",
    "def square(number):\n",
    "    return number ** 2\n",
    "squared = map(square, numbers)\n",
    "print(type(squared))\n",
    "squared"
   ]
  },
  {
   "cell_type": "code",
   "execution_count": 516,
   "id": "e7a96082",
   "metadata": {},
   "outputs": [
    {
     "name": "stdout",
     "output_type": "stream",
     "text": [
      "Help on class map in module builtins:\n",
      "\n",
      "class map(object)\n",
      " |  map(func, *iterables) --> map object\n",
      " |  \n",
      " |  Make an iterator that computes the function using arguments from\n",
      " |  each of the iterables.  Stops when the shortest iterable is exhausted.\n",
      " |  \n",
      " |  Methods defined here:\n",
      " |  \n",
      " |  __getattribute__(self, name, /)\n",
      " |      Return getattr(self, name).\n",
      " |  \n",
      " |  __iter__(self, /)\n",
      " |      Implement iter(self).\n",
      " |  \n",
      " |  __next__(self, /)\n",
      " |      Implement next(self).\n",
      " |  \n",
      " |  __reduce__(...)\n",
      " |      Return state information for pickling.\n",
      " |  \n",
      " |  ----------------------------------------------------------------------\n",
      " |  Static methods defined here:\n",
      " |  \n",
      " |  __new__(*args, **kwargs) from builtins.type\n",
      " |      Create and return a new object.  See help(type) for accurate signature.\n",
      "\n"
     ]
    }
   ],
   "source": [
    "help(map)"
   ]
  }
 ],
 "metadata": {
  "kernelspec": {
   "display_name": "Python 3",
   "language": "python",
   "name": "python3"
  },
  "language_info": {
   "codemirror_mode": {
    "name": "ipython",
    "version": 3
   },
   "file_extension": ".py",
   "mimetype": "text/x-python",
   "name": "python",
   "nbconvert_exporter": "python",
   "pygments_lexer": "ipython3",
   "version": "3.8.8"
  },
  "toc": {
   "base_numbering": 1,
   "nav_menu": {},
   "number_sections": true,
   "sideBar": true,
   "skip_h1_title": false,
   "title_cell": "Table of Contents",
   "title_sidebar": "Contents",
   "toc_cell": false,
   "toc_position": {},
   "toc_section_display": true,
   "toc_window_display": true
  }
 },
 "nbformat": 4,
 "nbformat_minor": 5
}
