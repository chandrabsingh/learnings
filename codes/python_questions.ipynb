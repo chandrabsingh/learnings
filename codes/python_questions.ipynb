{
 "cells": [
  {
   "cell_type": "markdown",
   "id": "2886d8e6",
   "metadata": {},
   "source": [
    "### Object class\n",
    "\n",
    "- - What is the significance of \\_\\_class\\_\\_?\n",
    "- * What is the significance of \\_\\_delattr\\_\\_?\n",
    "- * What is the significance of \\_\\_dir\\_\\_?\n",
    "- * What is the significance of \\_\\_doc\\_\\_?\n",
    "- * What is the significance of \\_\\_eq\\_\\_?\n",
    "- * What is the significance of \\_\\_format\\_\\_?\n",
    "- * What is the significance of \\_\\_ge\\_\\_?\n",
    "- * What is the significance of \\_\\_getattribute\\_\\_?\n",
    "- * What is the significance of \\_\\_gt\\_\\_?\n",
    "- * What is the significance of \\_\\_hash\\_\\_?\n",
    "- * What is the significance of \\_\\_init\\_\\_?\n",
    "- * What is the significance of \\_\\_init_subclass\\_\\_?\n",
    "- * What is the significance of \\_\\_le\\_\\_?\n",
    "- * What is the significance of \\_\\_lt\\_\\_?\n",
    "- * What is the significance of \\_\\_ne\\_\\_?\n",
    "- * What is the significance of \\_\\_new\\_\\_?\n",
    "- * What is the significance of \\_\\_reduce\\_\\_?\n",
    "- * What is the significance of \\_\\_reduce_ex\\_\\_?\n",
    "- * What is the significance of \\_\\_repr\\_\\_?\n",
    "- * What is the significance of \\_\\_setattr\\_\\_?\n",
    "- * What is the significance of \\_\\_sizeof\\_\\_?\n",
    "- * What is the significance of \\_\\_str\\_\\_?\n",
    "- * What is the significance of \\_\\_subclasshook\\_\\_?\n",
    "<br>\n",
    "\n",
    "- What is the difference between inheriting object vs not inheriting object class?\n",
    "  - class Human:\n",
    "  - class Human(object):\n",
    "    - [Stackoverflow](https://stackoverflow.com/questions/1238606/is-it-necessary-or-useful-to-inherit-from-pythons-object-in-python-3-x/45893772)\n"
   ]
  },
  {
   "cell_type": "markdown",
   "id": "ffb14f83",
   "metadata": {},
   "source": [
    "### TODO\n",
    "https://openbookproject.net/thinkcs/python/english3e/index.html  \n",
    "[Pep questions]()  "
   ]
  },
  {
   "cell_type": "markdown",
   "id": "f85513f1",
   "metadata": {},
   "source": [
    "### Abstract Data Structures\n",
    "- * Array\n",
    "- * Linked List\n",
    "- * Stack and Queue\n",
    "- * Hash Table"
   ]
  },
  {
   "cell_type": "markdown",
   "id": "4d92825e",
   "metadata": {},
   "source": [
    "### Underscores\n",
    "\n",
    "#### Five underscore patterns and naming conventions and how they affect the behavior of your Python programs\n",
    "\n",
    "- Single Leading Underscore: _var\n",
    "- Single Trailing Underscore: var_\n",
    "- Double Leading Underscore: __var\n",
    "- Double Leading and Trailing Underscore: __var__\n",
    "- Single Underscore: _\n",
    "<br>\n",
    "\n",
    "- [Meaning of underscores](https://dbader.org/blog/meaning-of-underscores-in-python)\n",
    "- [PEP convention](https://pep8.org/#descriptive-naming-styles)"
   ]
  },
  {
   "cell_type": "markdown",
   "id": "8fc774c5",
   "metadata": {},
   "source": [
    "### Class"
   ]
  },
  {
   "cell_type": "markdown",
   "id": "a0145e57",
   "metadata": {},
   "source": [
    "### builtins package\n",
    "- * Read __help(builtins)__\n",
    "- * Read "
   ]
  },
  {
   "cell_type": "markdown",
   "id": "13540374",
   "metadata": {},
   "source": [
    "### Meta \n",
    "- [Python instantiation-Metaclass](https://www.honeybadger.io/blog/python-instantiation-metaclass/)"
   ]
  },
  {
   "cell_type": "markdown",
   "id": "075eb3b3",
   "metadata": {},
   "source": [
    "### Methods/Functions\n",
    "- * Class methods vs Static methods\n",
    "- * Read __class classmethod__ under builtins package\n",
    "- [Difference between functions and methods](https://stackoverflow.com/questions/155609/whats-the-difference-between-a-method-and-a-function)"
   ]
  }
 ],
 "metadata": {
  "kernelspec": {
   "display_name": "Python 3",
   "language": "python",
   "name": "python3"
  },
  "language_info": {
   "codemirror_mode": {
    "name": "ipython",
    "version": 3
   },
   "file_extension": ".py",
   "mimetype": "text/x-python",
   "name": "python",
   "nbconvert_exporter": "python",
   "pygments_lexer": "ipython3",
   "version": "3.8.8"
  },
  "toc": {
   "base_numbering": 1,
   "nav_menu": {},
   "number_sections": true,
   "sideBar": true,
   "skip_h1_title": false,
   "title_cell": "Table of Contents",
   "title_sidebar": "Contents",
   "toc_cell": false,
   "toc_position": {},
   "toc_section_display": true,
   "toc_window_display": true
  }
 },
 "nbformat": 4,
 "nbformat_minor": 5
}
