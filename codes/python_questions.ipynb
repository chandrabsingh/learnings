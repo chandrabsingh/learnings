{
 "cells": [
  {
   "cell_type": "markdown",
   "id": "2886d8e6",
   "metadata": {},
   "source": [
    "### Object class\n",
    "\n",
    "- - What is the significance of \\_\\_class\\_\\_?\n",
    "- * What is the significance of \\_\\_delattr\\_\\_?\n",
    "- * What is the significance of \\_\\_dir\\_\\_?\n",
    "- * What is the significance of \\_\\_doc\\_\\_?\n",
    "- * What is the significance of \\_\\_eq\\_\\_?\n",
    "- * What is the significance of \\_\\_format\\_\\_?\n",
    "- * What is the significance of \\_\\_ge\\_\\_?\n",
    "- * What is the significance of \\_\\_getattribute\\_\\_?\n",
    "- * What is the significance of \\_\\_gt\\_\\_?\n",
    "- * What is the significance of \\_\\_hash\\_\\_?\n",
    "- * What is the significance of \\_\\_init\\_\\_?\n",
    "- * What is the significance of \\_\\_init_subclass\\_\\_?\n",
    "- * What is the significance of \\_\\_le\\_\\_?\n",
    "- * What is the significance of \\_\\_lt\\_\\_?\n",
    "- * What is the significance of \\_\\_ne\\_\\_?\n",
    "- * What is the significance of \\_\\_new\\_\\_?\n",
    "- * What is the significance of \\_\\_reduce\\_\\_?\n",
    "- * What is the significance of \\_\\_reduce_ex\\_\\_?\n",
    "- * What is the significance of \\_\\_repr\\_\\_?\n",
    "- * What is the significance of \\_\\_setattr\\_\\_?\n",
    "- * What is the significance of \\_\\_sizeof\\_\\_?\n",
    "- What is the significance of \\_\\_str\\_\\_?\n",
    "  - the \\_\\_str\\_\\_() method returns the string representation of the object. It is called when print()or str() function is invoked on an object of the class.\n",
    "- * What is the significance of \\_\\_subclasshook\\_\\_?\n",
    "<br>\n",
    "\n",
    "- What is the difference between inheriting object vs not inheriting object class?\n",
    "  - class Human:\n",
    "  - class Human(object):\n",
    "    - [Stackoverflow](https://stackoverflow.com/questions/1238606/is-it-necessary-or-useful-to-inherit-from-pythons-object-in-python-3-x/45893772)\n"
   ]
  },
  {
   "cell_type": "markdown",
   "id": "ffb14f83",
   "metadata": {},
   "source": [
    "### TODO\n",
    "https://openbookproject.net/thinkcs/python/english3e/index.html  \n",
    "[Pep questions]()  \n",
    "[Functional programming]()  \n",
    "[Type checking]()  \n",
    "[Linting]()  \n",
    "[mypy]()  \n",
    "[]()  "
   ]
  },
  {
   "cell_type": "markdown",
   "id": "5c8c0514",
   "metadata": {},
   "source": [
    "### Abstract Data Structures\n",
    "- * Array\n",
    "- * Linked List\n",
    "- * Stack and Queue\n",
    "- * Hash Table"
   ]
  },
  {
   "cell_type": "markdown",
   "id": "ad00365f",
   "metadata": {},
   "source": [
    "### Underscores\n",
    "\n",
    "#### Five underscore patterns and naming conventions and how they affect the behavior of your Python programs\n",
    "\n",
    "- Single Leading Underscore: _var\n",
    "- Single Trailing Underscore: var_\n",
    "- Double Leading Underscore: \\_\\_var\n",
    "- Double Leading and Trailing Underscore: \\_\\_var\\_\\_\n",
    "- Single Underscore: _\n",
    "<br>\n",
    "\n",
    "- [Meaning of underscores](https://dbader.org/blog/meaning-of-underscores-in-python)\n",
    "- [PEP convention](https://pep8.org/#descriptive-naming-styles)"
   ]
  },
  {
   "cell_type": "markdown",
   "id": "c40d2211",
   "metadata": {},
   "source": [
    "### Class\n",
    "- default constructor vs parameterized constructor"
   ]
  },
  {
   "cell_type": "markdown",
   "id": "fb7cdcdf",
   "metadata": {},
   "source": [
    "### builtins package\n",
    "- * Read __help(builtins)__\n",
    "- * Read \n",
    "- bool is a subclass of int"
   ]
  },
  {
   "cell_type": "markdown",
   "id": "be8bc750",
   "metadata": {},
   "source": [
    "### functools package"
   ]
  },
  {
   "cell_type": "markdown",
   "id": "29ed7016",
   "metadata": {},
   "source": [
    "### Meta \n",
    "- [Python instantiation-Metaclass](https://www.honeybadger.io/blog/python-instantiation-metaclass/)"
   ]
  },
  {
   "cell_type": "markdown",
   "id": "fcb0497a",
   "metadata": {},
   "source": [
    "### Methods/Functions\n",
    "- [Class methods vs Static methods](https://www.geeksforgeeks.org/class-method-vs-static-method-python/?ref=lbp)\n",
    "  - Differences\n",
    "    - A class method takes cls as the first parameter while a static method needs no specific parameters.\n",
    "    - A class method can access or modify the class state while a static method can’t access or modify it.\n",
    "    - In general, static methods know nothing about the class state. They are utility-type methods that take some parameters and work upon those parameters. On the other hand class methods must have class as a parameter.\n",
    "    - We use @classmethod decorator in python to create a class method and we use @staticmethod decorator to create a static method in python.\n",
    "  - When to use what\n",
    "    - We generally use class method to create factory methods. Factory methods return class objects ( similar to a constructor ) for different use cases.\n",
    "    - We generally use static methods to create utility functions.\n",
    "- * Read __class classmethod__ under builtins package\n",
    "- [Difference between functions and methods](https://stackoverflow.com/questions/155609/whats-the-difference-between-a-method-and-a-function)\n",
    "- [Difference between property and attribute](https://stackoverflow.com/questions/7374748/whats-the-difference-between-a-python-property-and-attribute)\n",
    "- [what methods needs to be defined to make attribute a property](https://docs.python.org/3/reference/datamodel.html#implementing-descriptors)\n",
    "- [how does Python descriptor work](https://medium.com/@er.26yashiagarwal/python-descriptors-and-properties-48865cb1525e)\n",
    "  - Descriptors are invoked by the \\_\\_getattribute\\_\\_() method.\n",
    "  - Overriding \\_\\_getattribute\\_\\_() prevents automatic descriptor calls.\n",
    "  - object.\\_\\_getattribute__() and type.\\_\\_getattribute\\_\\_() make different calls to \\_\\_get\\_\\_().\n",
    "  - Data descriptors always override instance dictionaries.\n",
    "  - Non-data descriptors may be overridden by instance dictionaries.\n",
    "- [Bound vs unbound methods](https://stackoverflow.com/questions/114214/class-method-differences-in-python-bound-unbound-and-static)\n",
    "- [\"The concept of 'unbound methods' has been removed from the language. When referencing a method as a class attribute, you now get a plain function object.\"](https://stackoverflow.com/questions/3589311/get-defining-class-of-unbound-method-object-in-python-3#:~:text=%E2%80%9CUnbound%20methods%E2%80%9D%20are%20regular%20functions,get%20a%20plain%20function%20object.)\n",
    "- * @staticmethod decorator\n",
    "- * @classmethod decorator\n",
    "- [Multiple inheritance](https://www.geeksforgeeks.org/method-resolution-order-in-python-inheritance/)\n",
    "  - Method Resolution Order (MRO)\n",
    "    - Method resolution order(MRO) in both the declaration style is different. Old style classes use DLR or depth-first left to right algorithm whereas new style classes use C3 Linearization algorithm for method resolution while doing multiple inheritances.\n",
    "- * Decorators\n",
    "- [Scope resolution - LEGB rule](https://www.geeksforgeeks.org/scope-resolution-in-python-legb-rule/?ref=rp)\n",
    "  - Local(L): Defined inside function/class\n",
    "  - Enclosed(E): Defined inside enclosing functions(Nested function concept)\n",
    "  - Global(G): Defined at the uppermost level\n",
    "  - Built-in(B): Reserved names in Python builtin modules\n",
    "- [Scope resolution when a function is called or defined](https://www.geeksforgeeks.org/python-scope-resolution-when-a-function-is-called-or-defined/?ref=rp)\n",
    "- [Why python is called dynamically typed?](https://www.geeksforgeeks.org/why-python-is-called-dynamically-typed/?ref=rp)\n",
    "  - Python doesn’t know about the type of the variable until the code is run. So declaration is of no use. What it does is, It stores that value at some memory location and then binds that variable name to that memory container. And makes the contents of the container accessible through that variable name. So the data type does not matter. As it will get to know the type of the value at run-time.\n",
    "- [Decorators - Primer](https://realpython.com/primer-on-python-decorators/)\n",
    "  - functions can be passed around and used as arguments, just like any other object (string, int, float, list, and so on)\n",
    "  - the order in which the inner functions are defined does not matter.\n",
    "  - Python also allows you to use functions as return values\n",
    "  - decorators wrap a function, modifying its behavior.\n",
    "  - can decorate functions With arguments\n",
    "  - decorators should use the __@functools.wraps__ decorator, which will preserve information about the original function."
   ]
  }
 ],
 "metadata": {
  "kernelspec": {
   "display_name": "Python 3",
   "language": "python",
   "name": "python3"
  },
  "language_info": {
   "codemirror_mode": {
    "name": "ipython",
    "version": 3
   },
   "file_extension": ".py",
   "mimetype": "text/x-python",
   "name": "python",
   "nbconvert_exporter": "python",
   "pygments_lexer": "ipython3",
   "version": "3.8.8"
  },
  "toc": {
   "base_numbering": 1,
   "nav_menu": {},
   "number_sections": true,
   "sideBar": true,
   "skip_h1_title": false,
   "title_cell": "Table of Contents",
   "title_sidebar": "Contents",
   "toc_cell": false,
   "toc_position": {},
   "toc_section_display": true,
   "toc_window_display": true
  }
 },
 "nbformat": 4,
 "nbformat_minor": 5
}
