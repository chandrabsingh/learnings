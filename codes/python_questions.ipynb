{
 "cells": [
  {
   "cell_type": "markdown",
   "id": "2886d8e6",
   "metadata": {},
   "source": [
    "### Object class\n",
    "\n",
    "- - What is the significance of \\_\\_class\\_\\_?\n",
    "- * What is the significance of \\_\\_delattr\\_\\_?\n",
    "- * What is the significance of \\_\\_dir\\_\\_?\n",
    "- * What is the significance of \\_\\_doc\\_\\_?\n",
    "- * What is the significance of \\_\\_eq\\_\\_?\n",
    "- * What is the significance of \\_\\_format\\_\\_?\n",
    "- * What is the significance of \\_\\_ge\\_\\_?\n",
    "- * What is the significance of \\_\\_getattribute\\_\\_?\n",
    "- * What is the significance of \\_\\_gt\\_\\_?\n",
    "- * What is the significance of \\_\\_hash\\_\\_?\n",
    "- [What is the significance of \\_\\_init\\_\\_?](https://stackoverflow.com/questions/16126734/what-is-the-purpose-of-calling-init-directly)\n",
    "  - The \\_\\_init\\_\\_() method gets called for you when you instantiate a class. However, the \\_\\_init\\_\\_() method in a parent class doesn't get called automatically, so you need to call it directly if you want to extend its functionality using super()\n",
    "- * What is the significance of \\_\\_init_subclass\\_\\_?\n",
    "- * What is the significance of \\_\\_le\\_\\_?\n",
    "- * What is the significance of \\_\\_lt\\_\\_?\n",
    "- * What is the significance of \\_\\_ne\\_\\_?\n",
    "- * What is the significance of \\_\\_new\\_\\_?\n",
    "- * What is the significance of \\_\\_reduce\\_\\_?\n",
    "- * What is the significance of \\_\\_reduce_ex\\_\\_?\n",
    "- * What is the significance of \\_\\_repr\\_\\_?\n",
    "- * What is the significance of \\_\\_setattr\\_\\_?\n",
    "- * What is the significance of \\_\\_sizeof\\_\\_?\n",
    "- What is the significance of \\_\\_str\\_\\_?\n",
    "  - the \\_\\_str\\_\\_() method returns the string representation of the object. It is called when print()or str() function is invoked on an object of the class.\n",
    "- * What is the significance of \\_\\_subclasshook\\_\\_?\n",
    "<br>\n",
    "\n",
    "- What is the difference between inheriting object vs not inheriting object class?\n",
    "  - class Human:\n",
    "  - class Human(object):\n",
    "    - [Stackoverflow](https://stackoverflow.com/questions/1238606/is-it-necessary-or-useful-to-inherit-from-pythons-object-in-python-3-x/45893772)\n"
   ]
  },
  {
   "cell_type": "markdown",
   "id": "ffb14f83",
   "metadata": {},
   "source": [
    "### TODO\n",
    "https://openbookproject.net/thinkcs/python/english3e/index.html  \n",
    "[Pep questions]()  \n",
    "[Functional programming]()  \n",
    "[Type checking]()  \n",
    "[Linting]()  \n",
    "[mypy]()  \n",
    "[]()  "
   ]
  },
  {
   "cell_type": "markdown",
   "id": "8920f514",
   "metadata": {},
   "source": [
    "### Abstract Data Structures\n",
    "- * Array\n",
    "- * Linked List\n",
    "- * Stack and Queue\n",
    "- * Hash Table"
   ]
  },
  {
   "cell_type": "markdown",
   "id": "7dedcf1f",
   "metadata": {},
   "source": [
    "### Underscores\n",
    "\n",
    "#### Five underscore patterns and naming conventions and how they affect the behavior of your Python programs\n",
    "\n",
    "- Single Leading Underscore: _var\n",
    "- Single Trailing Underscore: var_\n",
    "- Double Leading Underscore: \\_\\_var\n",
    "- Double Leading and Trailing Underscore: \\_\\_var\\_\\_\n",
    "- Single Underscore: _\n",
    "<br>\n",
    "\n",
    "- [Meaning of underscores](https://dbader.org/blog/meaning-of-underscores-in-python)\n",
    "- [PEP convention](https://pep8.org/#descriptive-naming-styles)"
   ]
  },
  {
   "cell_type": "markdown",
   "id": "007c47d4",
   "metadata": {},
   "source": [
    "### Class\n",
    "- default constructor vs parameterized constructor"
   ]
  },
  {
   "cell_type": "markdown",
   "id": "27561578",
   "metadata": {},
   "source": [
    "### builtins package\n",
    "- * Read __help(builtins)__\n",
    "- * Read \n",
    "- bool is a subclass of int"
   ]
  },
  {
   "cell_type": "markdown",
   "id": "c55f25e9",
   "metadata": {},
   "source": [
    "### functools package"
   ]
  },
  {
   "cell_type": "markdown",
   "id": "c04de690",
   "metadata": {},
   "source": [
    "### dataclasses package\n",
    "- dataclasses remain classes. Therefore, you can implement any custom methods in them just like you’d do in a normal class.\n",
    "- less boilerplate code\n",
    "- "
   ]
  },
  {
   "cell_type": "markdown",
   "id": "ef3d8fd1",
   "metadata": {},
   "source": [
    "### contextlib package\n",
    "- "
   ]
  },
  {
   "cell_type": "markdown",
   "id": "f9c90bec",
   "metadata": {},
   "source": [
    "### Meta \n",
    "- [Python instantiation-Metaclass](https://www.honeybadger.io/blog/python-instantiation-metaclass/)"
   ]
  },
  {
   "cell_type": "markdown",
   "id": "be425d5a",
   "metadata": {},
   "source": [
    "### Methods/Functions\n",
    "- [Class methods vs Static methods](https://www.geeksforgeeks.org/class-method-vs-static-method-python/?ref=lbp)\n",
    "  - Differences\n",
    "    - A class method takes cls as the first parameter while a static method needs no specific parameters.\n",
    "    - A class method can access or modify the class state while a static method can’t access or modify it.\n",
    "    - In general, static methods know nothing about the class state. They are utility-type methods that take some parameters and work upon those parameters. On the other hand class methods must have class as a parameter.\n",
    "    - We use @classmethod decorator in python to create a class method and we use @staticmethod decorator to create a static method in python.\n",
    "  - When to use what\n",
    "    - We generally use class method to create factory methods. Factory methods return class objects ( similar to a constructor ) for different use cases.\n",
    "    - We generally use static methods to create utility functions.\n",
    "- * Read __class classmethod__ under builtins package\n",
    "- [Difference between functions and methods](https://stackoverflow.com/questions/155609/whats-the-difference-between-a-method-and-a-function)\n",
    "- [Difference between property and attribute](https://stackoverflow.com/questions/7374748/whats-the-difference-between-a-python-property-and-attribute)\n",
    "- [what methods needs to be defined to make attribute a property](https://docs.python.org/3/reference/datamodel.html#implementing-descriptors)\n",
    "- [how does Python descriptor work](https://medium.com/@er.26yashiagarwal/python-descriptors-and-properties-48865cb1525e)\n",
    "  - Descriptors are invoked by the \\_\\_getattribute\\_\\_() method.\n",
    "  - Overriding \\_\\_getattribute\\_\\_() prevents automatic descriptor calls.\n",
    "  - object.\\_\\_getattribute__() and type.\\_\\_getattribute\\_\\_() make different calls to \\_\\_get\\_\\_().\n",
    "  - Data descriptors always override instance dictionaries.\n",
    "  - Non-data descriptors may be overridden by instance dictionaries.\n",
    "- [Bound vs unbound methods](https://stackoverflow.com/questions/114214/class-method-differences-in-python-bound-unbound-and-static)\n",
    "- [\"The concept of 'unbound methods' has been removed from the language. When referencing a method as a class attribute, you now get a plain function object.\"](https://stackoverflow.com/questions/3589311/get-defining-class-of-unbound-method-object-in-python-3#:~:text=%E2%80%9CUnbound%20methods%E2%80%9D%20are%20regular%20functions,get%20a%20plain%20function%20object.)\n",
    "- * @staticmethod decorator\n",
    "- * @classmethod decorator\n",
    "- [Multiple inheritance](https://www.geeksforgeeks.org/method-resolution-order-in-python-inheritance/)\n",
    "  - Method Resolution Order (MRO)\n",
    "    - Method resolution order(MRO) in both the declaration style is different. Old style classes use DLR or depth-first left to right algorithm whereas new style classes use C3 Linearization algorithm for method resolution while doing multiple inheritances.\n",
    "- * Decorators\n",
    "- [Scope resolution - LEGB rule](https://www.geeksforgeeks.org/scope-resolution-in-python-legb-rule/?ref=rp)\n",
    "  - Local(L): Defined inside function/class\n",
    "  - Enclosed(E): Defined inside enclosing functions(Nested function concept)\n",
    "  - Global(G): Defined at the uppermost level\n",
    "  - Built-in(B): Reserved names in Python builtin modules\n",
    "- [Scope resolution when a function is called or defined](https://www.geeksforgeeks.org/python-scope-resolution-when-a-function-is-called-or-defined/?ref=rp)\n",
    "- [Why python is called dynamically typed?](https://www.geeksforgeeks.org/why-python-is-called-dynamically-typed/?ref=rp)\n",
    "  - Python doesn’t know about the type of the variable until the code is run. So declaration is of no use. What it does is, It stores that value at some memory location and then binds that variable name to that memory container. And makes the contents of the container accessible through that variable name. So the data type does not matter. As it will get to know the type of the value at run-time.\n",
    "- [Decorators - Primer](https://realpython.com/primer-on-python-decorators/)\n",
    "  - functions can be passed around and used as arguments, just like any other object (string, int, float, list, and so on)\n",
    "  - the order in which the inner functions are defined does not matter.\n",
    "  - Python also allows you to use functions as return values\n",
    "  - decorators wrap a function, modifying its behavior.\n",
    "  - can decorate functions With arguments\n",
    "  - decorators should use the __@functools.wraps__ decorator, which will preserve information about the original function.\n",
    "- [Class Decorators](https://towardsdatascience.com/9-reasons-why-you-should-start-using-python-dataclasses-98271adadc66)\n",
    "  - by using dataclass of dataclasses\n",
    "- [args and kwargs - Primer](https://realpython.com/python-kwargs-and-args/)\n",
    "  - args - positional arguments\n",
    "    - my_sum(\\*args) takes all the parameters that are provided in the input and packs them all into a single iterable object named args.\n",
    "    - you can use multiple unpacking operators to get values from several lists and pass them all to a single function.\n",
    "    - a single asterisk (*) to unpack iterables\n",
    "    - How to use two asterisks (\\*\\*) to unpack dictionaries\n",
    "  - kwargs - named arguments\n",
    "    - Just as non-default arguments have to precede default arguments, so \\*args must come before \\*\\*kwargs."
   ]
  },
  {
   "cell_type": "markdown",
   "id": "37387c32",
   "metadata": {},
   "source": [
    "### Python FAQs\n",
    "- [What is the difference between \\_\\_str\\_\\_ and \\_\\_repr\\_\\_](https://stackoverflow.com/questions/1436703/what-is-the-difference-between-str-and-repr)\n",
    "  - 1) \\_\\_repr\\_\\_() is invoked when you simply write object's name on interactive python console and press enter.\n",
    "  - 2) \\_\\_str\\_\\_() is invoked when you use object with print statement.\n",
    "  - 3) In case, if \\_\\_str\\_\\_ is missing, then print and any function using str() invokes \\_\\_repr\\_\\_() of object.\n",
    "  - 4) \\_\\_str\\_\\_() of containers, when invoked will execute \\_\\_repr\\_\\_() method of its contained elements.\n",
    "  - 5) str() called within \\_\\_str\\_\\_() could potentially recurse without a base case, and error on maximum recursion depth.\n",
    "  - 6) \\_\\_repr\\_\\_() can call repr() which will attempt to avoid infinite recursion automatically, replacing an already represented object with ....\n",
    "  \n",
    "- * [What is closure]()\n",
    "- * [Function annotations]()\n",
    "- Why \\_\\_debug\\_\\_?\n",
    "  - this constant is true if python was not started with -o option\n",
    "- Why does strings dont have an append function?\n",
    "  - strings don't have an append function because they're immutable\n",
    "- If a = 'dog', a[1] = 'a' is not allowed. Why?\n",
    "  - 'str' object does not support item assignment\" because they are immutable\n",
    "- How to disable assert in python run\n",
    "  - Using the -O flag (capital O) disables all assert statements in a process.\n",
    "- [how does the context manager works](https://realpython.com/python-with-statement/#creating-function-based-context-managers)\n",
    "  - A common use case of context managers is locking and unlocking resources and closing opened files\n",
    "  - The most widely used example of context managers is the with statement\n",
    "  - we can define multiple context managers with a single with statement\n",
    "  - handling locks in multithreaded programs, instead of acquire and release methods\n",
    "  - with context managers, you can perform any pair of operations that needs to be done before and after another operation or procedure, such as:\n",
    "    - Open and close\n",
    "    - Lock and release\n",
    "    - Change and reset\n",
    "    - Create and delete\n",
    "    - Enter and exit\n",
    "    - Start and stop\n",
    "    - Setup and teardown\n",
    "- how to use context manager as a class\n",
    "  - just be defining \\_\\_enter\\_\\_ and \\_\\_exit\\_\\_ methods \n",
    "- * can we create abstract class? how to create object of it?    \n",
    "- how does iterables work?\n",
    "  - Everything you can use \"for... in...\" on is an iterable; lists, strings, files...\n",
    "- how does generators work?\n",
    "  - Generators are iterators, a kind of iterable you can only iterate over once. Generators do not store all the values in memory, they generate the values on the fly\n",
    "  - generators cannot be used second time, they can only be used once: they calculate 0, then forget about it and calculate 1 and likewise\n",
    "- [how does yield work?](https://stackoverflow.com/questions/231767/what-does-the-yield-keyword-do)\n",
    "  - yield is a keyword that is used like return, except that the function will return a generator\n",
    "  - when you call the function, the code you have written in the function body does not run. The function only returns the generator object\n",
    "  - Then, your code will continue from where it left off each time for uses the generator.\n",
    "  - When f123() is called, it does not return any of the values in the yield statements! It returns a generator object. Also, the function does not really exit - it goes into a suspended state. When the for loop tries to loop over the generator object, the function resumes from its suspended state at the very next line after the yield it previously returned from, executes the next line of code, in this case, a yield statement, and returns that as the next item. This happens until the function exits, at which point the generator raises StopIteration, and the loop exits.\n",
    "  - So the generator object is sort of like an adapter - at one end it exhibits the iterator protocol, by exposing \\_\\_iter\\_\\_() and next() methods to keep the for loop happy. At the other end, however, it runs the function just enough to get the next value out of it, and puts it back in suspended mode.  \n",
    "- [What are the f-strings](https://realpython.com/python-f-strings/)\n",
    "  - it is the new way of formating strings\n",
    "- * Aliases or pointers in python\n",
    "- * what is the difference between == and is\n",
    "- * Iterable unpacking\n",
    "- [Closures](https://stackoverflow.com/questions/4020419/why-arent-python-nested-functions-called-closures)\n",
    "  - Closures are functions that inherit variables from their enclosing environment. When you pass a function callback as an argument to another function that will do I/O, this callback function will be invoked later, and this function will — almost magically — remember the context in which it was declared, along with all the variables available in that context.\n",
    "    - If a function does not use free variables it doesn't form a closure.\n",
    "    - If there is another inner level which uses free variables -- all previous levels save the lexical environment ( example at the end )\n",
    "    - function attributes func_closure in python < 3.X or __closure__ in python > 3.X save the free variables.\n",
    "    - Every function in python has the closure attribute, but if there are no free variables, it is empty.\n",
    "- * [Closures vs Nested functions](https://stackoverflow.com/questions/4020419/why-arent-python-nested-functions-called-closures)\n",
    "\n"
   ]
  },
  {
   "cell_type": "code",
   "execution_count": null,
   "id": "c35b1d61",
   "metadata": {},
   "outputs": [],
   "source": []
  }
 ],
 "metadata": {
  "kernelspec": {
   "display_name": "Python 3",
   "language": "python",
   "name": "python3"
  },
  "language_info": {
   "codemirror_mode": {
    "name": "ipython",
    "version": 3
   },
   "file_extension": ".py",
   "mimetype": "text/x-python",
   "name": "python",
   "nbconvert_exporter": "python",
   "pygments_lexer": "ipython3",
   "version": "3.8.8"
  },
  "toc": {
   "base_numbering": 1,
   "nav_menu": {},
   "number_sections": true,
   "sideBar": true,
   "skip_h1_title": false,
   "title_cell": "Table of Contents",
   "title_sidebar": "Contents",
   "toc_cell": false,
   "toc_position": {},
   "toc_section_display": true,
   "toc_window_display": true
  }
 },
 "nbformat": 4,
 "nbformat_minor": 5
}
