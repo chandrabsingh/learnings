{
 "cells": [
  {
   "cell_type": "markdown",
   "id": "cd509dc3",
   "metadata": {},
   "source": [
    ">>> Work in Progress (Following are the lecture notes of Prof Andrew Ng/Head TA - Anand Avati - CS229 - Stanford. This is my interpretation of his excellent teaching and I take full responsibility of any misinterpretation/misinformation provided herein.)"
   ]
  },
  {
   "cell_type": "markdown",
   "id": "8cc46f5a",
   "metadata": {},
   "source": [
    "## Lecture Notes\n",
    "\n",
    "#### Outline\n",
    "- Setup/Assumptions\n",
    "- Bias/Variance\n",
    "- Approximate Estimation\n",
    "- Empirical Risk Minimizer\n",
    "- Uniform Convergence\n",
    "- VC dimension"
   ]
  },
  {
   "cell_type": "markdown",
   "id": "fe5697e5",
   "metadata": {},
   "source": [
    "### Assumptions\n",
    "1. There exists a data distribution(data generating process) D from which $(x,y) \\sim D$\n",
    "  - the data coming from that process becomes the training set and is a finite number\n",
    "  - both test and train set is from the same process  \n",
    "1. All the samples are sampled independently\n",
    "\n",
    "<img src=\"images/09_assumptions.png\" width=400 height=400>  \n",
    "$\\tiny{\\text{YouTube-Stanford-CS229-Andrew Ng/Anand Avati}}$  \n",
    "\n",
    "- Suppose there is a set of m samples S, sampled from D data generating process, which is fed into the learning algorithm and the output of the learning algorithm is a hypothesis. A hypothesis is a function which accepts an input x and makes a prediction y about that x. This hypothesis $\\hat{h}$ is in the form of $\\hat{\\theta}$ \n",
    "\n",
    "- Variable \n",
    "  - The S here is random variable\n",
    "  - The learning algorithm is a deterministic function\n",
    "  - The hypothesis is again a random variable\n",
    "  \n",
    "- Distribution\n",
    "  - True parameter($\\theta^{*}, h^{*}$) that we wish to be the true - this is not random - a constant that we don't know\n",
    "  - Estimator\n",
    "  - Sampling distribution ($\\hat{\\theta}, \\hat{h}$)"
   ]
  },
  {
   "cell_type": "markdown",
   "id": "9730ac7d",
   "metadata": {},
   "source": [
    "### Bias and Variance\n",
    "\n",
    "<img src=\"images/09_biasVariance.png\" width=400 height=400>  \n",
    "$\\tiny{\\text{YouTube-Stanford-CS229-Andrew Ng/Anand Avati}}$  \n",
    "\n",
    "- A/B have high bias\n",
    "- C/D have low bias\n",
    "- A/C have low variance\n",
    "- B/D have high variance\n",
    "\n",
    "#### Properties of estimator\n",
    "\n",
    "- Bias and variance are properties of first and second moments of sampling distribution\n",
    "- As $m \\rightarrow \\infty$, $Var[\\theta] \\rightarrow 0$\n",
    "- The rate with which variance tends to 0 as m tends to $\\infty$ is called \"statistical efficiency\"\n",
    "- If $\\hat{\\theta} \\rightarrow \\theta^{*}$ as $m \\rightarrow \\infty$ - such algorithms are called consistent\n",
    "- If $E[\\hat{\\theta}] = \\theta^{*}$, then your estimator is called unbiased estimator\n",
    "- If your algorithm has high bias, no matter how much data or evidence is provided, it will always be away from $\\theta^{*}$. That is a high bias algorithm\n",
    "- If your algorithm has high variance, it means it gets easily swayed by the noise in the data\n",
    "- Bias and variance are independent of each other, there is no correlation among each other\n",
    "- Bias and variance are properties of algorithm at a given size m\n"
   ]
  },
  {
   "cell_type": "markdown",
   "id": "fe615b5a",
   "metadata": {},
   "source": [
    "#### Fighting Variance\n",
    "- If the variance is high, then increase the amount of data which will naturally reduce the variance in algorithm\n",
    "- The other way is to add regularization either L1 or L2\n",
    "  - If we care only about predictive accuracy, we can trade off high variance to some bias and reducing variance  \n",
    "\n",
    "<img src=\"images/09_fightingVariance.png\" width=400 height=400>  \n",
    "$\\tiny{\\text{YouTube-Stanford-CS229-Andrew Ng/Anand Avati}}$  \n"
   ]
  },
  {
   "cell_type": "markdown",
   "id": "ecd77bcd",
   "metadata": {},
   "source": [
    "#### Space of hypothesis\n",
    "\n",
    "<img src=\"images/09_hypothesisSpace.png\" width=400 height=400>  \n",
    "$\\tiny{\\text{YouTube-Stanford-CS229-Andrew Ng/Anand Avati}}$  \n",
    "\n",
    "- Let g be the \"best possible hypothesis\" - which is if we use this hypothesis and take the expected value of loss wrt the data generating distribution across infinite amount of data, and we get the lowest error with this hypothesis\n",
    "- Let H be the set/class of all hypothesis or logistic regression or set of all SVMs\n",
    "- Let $\\hat{h}$ be the hypothesis when a finite amount of data is used \n",
    "- Let $h^{*}$ be the hypothesis among the set of all logistic regression hypothesis functions, which gives you the lowest error. \n",
    "- The best possible hypothesis h may not be among the hypothesis class H\n",
    "- Let $\\epsilon(h)$ be the __risk/generalization error__\n",
    "  - this is the error of the entire distribution D \n",
    "> $\\epsilon(h) = E_{(x,y) \\sim D}[\\mathbb 1\\{h(x) \\ne y\\}]$\n",
    "\n",
    "- Let $\\hat{\\epsilon}_{s}(h)$ be the __empirical risk__\n",
    "  - this is the error generated on finite sample m\n",
    "> $\\hat{\\epsilon}_{s}(h) = \\frac{1}{m}\\sum\\limits_{i=1}^{m}[\\mathbb 1\\{h(x^{(i)}) \\ne y^{(i)}\\}]$\n",
    "\n",
    "- Let $\\epsilon(g)$ be the __Bayes error or irreducible error__\n",
    "  - say for the same x, if the data generating process generates different y, then no learning algorithm can reduce such error\n",
    "- Let $\\epsilon(h^{*}) - \\epsilon(g)$ be the __Approximation error__\n",
    "  - the difference between best possible error of the entire distribution and best possible error of the sample set\n",
    "  - what is the price we are paying for limiting ourself into a class\n",
    "  - attribute of class\n",
    "- Let $\\epsilon(\\hat{h}) - \\epsilon(h^{*})$ be the __Estimation error__\n",
    "  - using the m examples we sampled, what is the error due to estimation\n",
    "  - this is generally due to data\n",
    "> $\\epsilon(\\hat{h}) = $ Estimation error + Approximation error + Irreducible error \n",
    "- Estimation error can be decomposed into estimated variance and estimated bias\n",
    "> $\\epsilon(\\hat{h}) = $ Estimated variance + Estimated bias + Approximation error + Irreducible error \n",
    "- Estimated variance is simply called Variance\n",
    "- Estimated bias and Approximation error is called Bias\n",
    "> $\\epsilon(\\hat{h}) = $ Variance + Bias + Irreducible error "
   ]
  },
  {
   "cell_type": "markdown",
   "id": "1aeff4d0",
   "metadata": {},
   "source": [
    "#### How to reduce your bias\n",
    "- Make H bigger\n",
    "- If we have a class that has high bias and some variance, by increasing the H size, the bias decreases but some variance is introduced\n",
    "- By having a higher class, there is a higher probability that your estimate can vary a lot"
   ]
  },
  {
   "cell_type": "markdown",
   "id": "7b4202ca",
   "metadata": {},
   "source": [
    "#### How to reduce your variance\n",
    "- by adding regularization, we are shrinking the size of hypothesis class H\n",
    "- here we penalize those hypothesis whose $\\theta$ is very large\n"
   ]
  },
  {
   "cell_type": "markdown",
   "id": "4a9f14f1",
   "metadata": {},
   "source": [
    "### Empirical Risk Minimization ERM\n",
    "- This is trying to minimize the training error\n",
    "- from classification perspective, this is increasing the training accuracy\n",
    "> $\\hat{h}_{ERM} = \\text{arg }\\min\\limits_{h \\in H} \\frac{1}{m} \\sum\\limits_{i=1}^{m} \\mathbb 1 \\{h(x^{(i)}) \\ne y^{(i)}\\}$\n",
    "- if we limit ourselves to empirical risk minimizers, then we can come up with more theoretical results\n",
    "- 48:00"
   ]
  },
  {
   "cell_type": "markdown",
   "id": "122265af",
   "metadata": {},
   "source": [
    "(to cont)"
   ]
  },
  {
   "cell_type": "markdown",
   "id": "ff9bc968",
   "metadata": {},
   "source": []
  },
  {
   "cell_type": "markdown",
   "id": "ed7b92f0",
   "metadata": {},
   "source": []
  },
  {
   "cell_type": "markdown",
   "id": "cd1f960f",
   "metadata": {},
   "source": []
  },
  {
   "cell_type": "markdown",
   "id": "d32289a4",
   "metadata": {},
   "source": []
  }
 ],
 "metadata": {
  "kernelspec": {
   "display_name": "Python 3",
   "language": "python",
   "name": "python3"
  },
  "language_info": {
   "codemirror_mode": {
    "name": "ipython",
    "version": 3
   },
   "file_extension": ".py",
   "mimetype": "text/x-python",
   "name": "python",
   "nbconvert_exporter": "python",
   "pygments_lexer": "ipython3",
   "version": "3.8.8"
  },
  "toc": {
   "base_numbering": 1,
   "nav_menu": {},
   "number_sections": true,
   "sideBar": true,
   "skip_h1_title": false,
   "title_cell": "Table of Contents",
   "title_sidebar": "Contents",
   "toc_cell": false,
   "toc_position": {},
   "toc_section_display": true,
   "toc_window_display": false
  }
 },
 "nbformat": 4,
 "nbformat_minor": 5
}
