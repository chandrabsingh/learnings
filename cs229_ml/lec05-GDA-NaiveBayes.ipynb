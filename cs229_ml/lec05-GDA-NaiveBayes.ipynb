{
 "cells": [
  {
   "cell_type": "markdown",
   "id": "84dad90e",
   "metadata": {},
   "source": [
    ">>> Work in Progress"
   ]
  },
  {
   "cell_type": "markdown",
   "id": "82877b6a",
   "metadata": {},
   "source": [
    "# Lecture Notes\n",
    "\n",
    "### Outline\n",
    "* Discriminative Learning Algorithms (earlier)\n",
    "  * GLM\n",
    "  * Logistic Regression\n",
    "  * Linear Regression\n",
    "* Generative Learning Algorithms (this lecture)\n",
    "  * Gaussian Discriminant Analysis (GDA)\n",
    "  * Generative and Discriminative learning algorithm - comparision\n",
    "  * Naive Bayes - build spam filter\n"
   ]
  },
  {
   "cell_type": "markdown",
   "id": "2e5bfda6",
   "metadata": {},
   "source": [
    "## Discriminative and Generative algorithm\n",
    "\n",
    "- Difference between Discriminative and Generative algorithm\n",
    "* Say there are malignant and benign tumors, with 2 classes\n",
    "  * A discriminant learning algorithm like logistical regression will use gradient descent to find the line that separates the positive and negative class, tumor in this case. \n",
    "    * GD - Randomly initialize the parameter, which eventually evolves to be the separating line/plane to differentiate positive and negative examples\n",
    "    * It searches for the separation, trying to maximize the likelihood\n",
    "  * A generative learning algorithm instead looks into each of the classes one at a time, and try to make a model of how all the malignant tumors looks like in isolation\n",
    "    * If a new classification example\n",
    "    * It builds a model of how to classify the classes in isolation and test\n",
    "    * so when new patient example comes, it compares it to malignant tumor model compared to benign tumor model and then say which class example does it looks like"
   ]
  },
  {
   "cell_type": "markdown",
   "id": "c1efded7",
   "metadata": {},
   "source": [
    "## Generative Learning Algorithm  \n",
    "* Discrimative Learning Algorithm\n",
    "  * Learn __p(y|x)__ or \n",
    "    * Learn ($h_{\\theta}(x)$) = {0 or 1 directly} \n",
    "    * or learn about some function mapping from x to y directly  \n",
    "* Generative Learning Algorithm:  \n",
    "  * 1) Learns __p(x|y)__ where  \n",
    "    * x denotes features  \n",
    "    * y denotes class  \n",
    "    * given that the tumor is malignant, what will the features gone be like?\n",
    "  * 2) Learns __p(y)__ - class prior \n",
    "    - even before you see a patient what are the chances of having malignant tumors?\n",
    "  * Can solve p(y=1|x) using Bayes rule:\n",
    "    > $p(y=1|x) = \\frac{p(x|y=1)p(y=1)}{p(x)} \\\\ $\n",
    "    > where $p(x)=p(x|y=1)p(y=1)+p(x|y=0)p(y=0)$"
   ]
  },
  {
   "cell_type": "markdown",
   "id": "dbed8628",
   "metadata": {},
   "source": [
    "Examples of Generative Learning Algorithm:\n",
    "* Discrete value feature - Email spam filter, twitter positive/negative feature\n",
    "* Continuous value feature - Tumor classification"
   ]
  },
  {
   "cell_type": "markdown",
   "id": "d8d8e197",
   "metadata": {},
   "source": [
    "## Gaussian Discriminant Analysis (GDA)  \n",
    "- Suppose $x \\in \\mathbb R^{n}$  (drop out the convention $x_{0}=1$, instead of n+1)\n",
    "- Assume P(x|y) is distributed Gaussian, features are Gaussian (i.e., conditioned on the tumors being malignant, distribution of the features is Gaussian)\n",
    "  > $Z \\in N(\\mu, \\sum) $  \n",
    "  - where $Z \\in \\mathbb R^{n}, \\mu \\in \\mathbb R^{n}, \\sum \\in \\mathbb R^{nxn} $  \n",
    "  > $ E[Z] = \\mu $  \n",
    "  > $Cov(Z) = E[(Z-\\mu)(Z-\\mu)^{T}]$  \n",
    "  > $= Ezz^{T} - (Ez)(Ez)^{T}$  \n",
    "- Probability distribution for multivariate normal distribution  \n",
    "  > $P\\left(x;\\mu,\\sum\\right) = \\frac{1}{(2\\pi)^{d/2}|\\sum|^{1/2}}exp\\left(-\\frac{1}{2}(x-\\mu)^{T}\\sum^{-1}(x-\\mu)\\right)$  \n",
    "  \n",
    "### Covariance/mean matrix \n",
    "- Impact of shrinking the variance, ie, multiply covariance matrix by integer less than 1\n",
    "  - probability density becomes taller\n",
    "  - the area under the curve is always 1, it simply reduces the spread of Gaussian density\n",
    "- Impact of expanding the variance, ie, multiply covariance matrix by integer more than 1\n",
    "  - probability density spreads out\n",
    "  - the area under the curve is always 1, it simply widens the spread of Gaussian density\n",
    "- Standard multivariate distribution\n",
    "  - covariance matrix is identity matrix\n",
    "  - uncorrelated z1 and z2\n",
    "- For standard covariance matrix, the off diagonal matrix is 0. By increasing this to 0.8, \n",
    "  - changes from round shaped distribution to flatter\n",
    "  - positively correlated z1 and z2\n",
    "- For standard covariance matrix, the off diagonal matrix is 0. By increasing this to -0.8, \n",
    "  - changes from round shaped distribution to flatter\n",
    "  - negatively correlated z1 and z2\n",
    "- For standard Gaussian, the mean is centered at 0. By varying the mean\n",
    "  - shift the center of Gaussian density\n",
    "\n"
   ]
  },
  {
   "cell_type": "markdown",
   "id": "11d11324",
   "metadata": {},
   "source": [
    "### GDA Model\n",
    "Density of each feature is Gaussian - with parameters of GDA model are $\\mu_{0}, \\mu_{1}, \\sum$. Note the convention of covariance matrix is to use the same $\\sum$. \n",
    "- benign tumor\n",
    "  > $P(x|y=0) = \\frac{1}{(2\\pi)^{d/2}|\\sum|^{1/2}}exp\\left(-\\frac{1}{2}(x-\\mu_{0})^{T}\\sum^{-1}(x-\\mu_{0})\\right)$ \n",
    "\n",
    "- malignant tumor\n",
    "> $P(x|y=1) = \\frac{1}{(2\\pi)^{d/2}|\\sum|^{1/2}}exp\\left(-\\frac{1}{2}(x-\\mu_{1})^{T}\\sum^{-1}(x-\\mu_{1})\\right)$  \n",
    "\n",
    "- Assumption: the two Gaussian for positive and negative case have same covariance but different mean"
   ]
  },
  {
   "cell_type": "markdown",
   "id": "2d97773b",
   "metadata": {},
   "source": [
    "#### Model - class prior\n",
    "- Model P(y), where y is a Bernoulli random variable, which takes 0 or 1\n",
    "\\begin{align} P(y) = \\phi^{y}(1-\\phi)^{(1-y)} \\end{align}    \n",
    "\n",
    "- which means $P(y=1) = \\phi$. This is the way of writing if..else statement in mathematical terms  \n",
    "\\begin{align} \\mu_{0} \\in \\mathbb R^{n}, \\mu_{1}\\in \\mathbb R^{n}, \\sum\\in \\mathbb R^{nxn},\\phi \\in \\mathbb R \\end{align}  "
   ]
  },
  {
   "cell_type": "markdown",
   "id": "293dd616",
   "metadata": {},
   "source": [
    "#### How to fit the parameter:  \n",
    "##### Generative Learning Algorithm\n",
    "- Training set $\\{x^{(i)}, y^{(i)}\\}_{i=1}^{m}$\n",
    "- To fit the parameter, we will **maximize the joint likelihood**  and P(y)\n",
    "  - For generative models, we try to choose parameters such that P(x and y) is maximized. \n",
    "  - Likelihood of parameters\n",
    "    > $L\\left(\\phi, \\mu_{0}, \\mu_{1}, \\sum\\right) $  \n",
    "    > $= \\prod \\limits_{i=1}^{m} P\\left(x^{(i)}, y^{(i)}; \\phi,\\mu_{0},\\mu_{1},\\sum\\right) $  \n",
    "    > $=\\prod \\limits_{i=1}^{m} P\\left(x^{(i)}| y^{(i)};\\mu_{0},\\mu_{1},\\sum\\right) P(y^{(i)};\\phi)$ "
   ]
  },
  {
   "cell_type": "markdown",
   "id": "bb120b5b",
   "metadata": {},
   "source": [
    "##### Discriminant Learning Algorithm\n",
    "- Cost function that you **maximize the conditional likelihood**, such that \n",
    "  - Likelihood of parameters\n",
    "    > $L\\left(\\theta\\right) = \\prod \\limits_{i=1}^{m} P\\left(y^{(i)}|x^{(i)}; \\theta\\right) $  \n",
    "    \n",
    "  - Difference\n",
    "    - For logistic models or generalized linear models, we try to choose parameter $\\theta$, such that it maximizes P(y|x). \n",
    "    - For generative learning algorithms, we try to choose parameter that maximize p(x|y)"
   ]
  },
  {
   "cell_type": "markdown",
   "id": "e6573e16",
   "metadata": {},
   "source": [
    "##### Maximum likelihood estimate  \n",
    "- you choose the parameter $\\phi, \\mu_{0}, \\mu_{1}, \\sum$ that maximize the log likelihood $L\\left(\\phi, \\mu_{0}, \\mu_{1}, \\sum\\right) $\n",
    "- you take the derivative of log likelihood and set it to zero, to get the parameter values\n",
    "- The value of $\\phi$ that maximizes the estimate is:\n",
    "  - $\\phi$ is the estimate of probability of y being equal to 1\n",
    "  - what is the chance when the next patient walks into your clinic, that they have a malignant tumor? \n",
    "  > $\\phi = \\frac{\\sum\\limits_{i=1}^{m} y^{(i)}}{m} = \\frac{\\sum\\limits_{i=1}^{m} \\mathbb 1 \\{ y^{(i)} = 1 \\} }{m} $, \n",
    "    - where $\\mathbb 1 \\{true\\} = 1 \\space$ and $\\mathbb 1 \\{false\\} = 0 $. "
   ]
  },
  {
   "cell_type": "markdown",
   "id": "65543541",
   "metadata": {},
   "source": [
    "- The value of $\\mu_{0}$ that maximizes the estimate is (benign tumors in training set):\n",
    "\n",
    "> $\\mu_{0} = \\frac{\\sum\\limits_{i=1}^{m} \\mathbb 1 \\{ y^{(i)} = 0 \\}.x^{(i)} }{\\sum\\limits_{i=1}^{m} \\mathbb 1 \\{ y^{(i)} = 0 \\} } = \\frac{\\text{Sum of feature vectors for all the examples with y=0}}{\\text{Sum of all examples with y=0}}$. \n",
    "\n",
    "<br>\n",
    "\n",
    "- The value of $\\mu_{1}$ that maximizes the estimate is (malignant tumors in training set):\n",
    "\n",
    "> $\\mu_{1} = \\frac{\\sum\\limits_{i=1}^{m} \\mathbb 1 \\{ y^{(i)} = 1 \\}.x^{(i)} }{\\sum\\limits_{i=1}^{m} \\mathbb 1 \\{ y^{(i)} = 1 \\} } = \\frac{\\text{Sum of feature vectors for all the examples with y=1}}{\\text{Sum of all examples with y=1}}$. \n",
    "\n",
    "<br>\n",
    "\n",
    "- The value of $\\Sigma$ that maximizes the estimate is:  \n",
    "> $\\Sigma = \\frac{1}{m}\\sum\\limits_{i=1}^{m}(x^{(i)} - \\mu_{y^{(i)}})(x^{(i)} - \\mu_{y^{(i)}})^{T}$"
   ]
  },
  {
   "cell_type": "markdown",
   "id": "eb5791bf",
   "metadata": {},
   "source": [
    "#### How to make prediction\n",
    "Having fit these parameters, how to make a prediction\n",
    "- to make predict most likely class label, you choose $\\max\\limits_{y} p(y|x)$\n",
    "- by Bayes' rule\n",
    "> arg $ \\max\\limits_{y} p(y|x) = arg \\max\\limits_{y} \\frac{p(x|y)p(y)}{p(x)} $  \n",
    "- since p(x) is a constant  \n",
    "> = arg $ \\max\\limits_{y} p(x|y)p(y) $\n",
    "\n",
    "- If we care about prediction, computation can be saved by not calculating denominator\n",
    "- If we care about probability, then we must normalize the probability\n",
    "\n",
    "##### Questions\n",
    "\n",
    "- What is arg min?\n",
    "  - $min(z-5)^{2} = 0$\n",
    "  - arg $min(z-5)^{2} = 5$ - the value that is required to achieve the smallest possible value\n",
    "\n",
    "<br>\n",
    "\n",
    "- Why do we choose to have a single covariance matrix but different mean for each class variable?\n",
    "  - the decision boundary ends up being linear, if we go with this setting\n",
    "  - by choosing covariance matrix for each class variable\n",
    "    - you will end up with decision boundary that is non-linear\n",
    "    - and the number of parameters will get doubled up\n",
    "\n",
    "#### GDA vs Logistic Regression:  \n",
    "- How to plot \n",
    "\n",
    "<img src=\"images/05_gda_log_plot.png\" width=400 height=400>  \n",
    "$\\tiny{\\text{YouTube-Stanford-CS229-Andrew Ng}}$  \n",
    "\n",
    "- Assumptions\n",
    "  - GDA assumes that x|y=0 and x|y=1 are Gaussian and y is Bernoulli\n",
    "  - Logistic assumes that y=1|x is a sigmoid function\n",
    "  - GDA's assumption implies that p(y=1|x) is governed by logistic function\n",
    "  - But the implication in opposite direction is not true\n",
    "    - i.e., if you assume that p(y=1|x) is governed by logistic function, then this does not in any way assume that x|y is Gaussian  \n",
    "\n",
    "- What this means is \n",
    "  - GDA makes stronger set of assumptions\n",
    "  - Logistic makes weaker set of assumptions\n",
    "  \n",
    "- If you make strong modeling assumptions, and if your modeling assumptions are roughly correct, then your model will do better because you are telling more information to the algorithm.\n",
    "  - So if x|y is Gaussian, then GDA will do better because you are telling the algorithm that x|y is Gaussian and so it can be more efficient\n",
    "  \n",
    "- If the GDA assumptions are wrong, and if x|y is not at all Gaussian, then GDA assumptions will be bad set of assumptions to make and will make GDA perform badly.\n",
    "\n",
    "- When is each of the algorithm superior\n",
    "  - If you make weaker assumptions as in logistic regression, then your algorithm will be more robust to modeling assumptions such as accidently assuming the data is Gaussian and it is not\n",
    "   \n",
    "  - But if there is fewer data, making stronger assumptions is better\n",
    "\n",
    "<img src=\"images/05_gda_log1.png\" width=400 height=400>  \n",
    "$\\tiny{\\text{YouTube-Stanford-CS229-Andrew Ng}}$  \n",
    "\n",
    "- Given a choice between GDA and logistic regression, its better to use GDA because its very efficient algorithm, you compute mean, and covariance matrix and its done. There is no iterative process involved.  \n",
    "- When performance of all algorithm is better when the data is more. \n",
    "- But the performance of very good algorithm will perform better with less data\n",
    "- Skill comes in assumptions more when the data is less, as what is the underlying distribution"
   ]
  },
  {
   "cell_type": "markdown",
   "id": "669ae3f5",
   "metadata": {},
   "source": [
    "## Naive Bayes - Generative Learning \n",
    "- spam or not - text classification\n",
    "- based on the subject line, categorize the email\n",
    "\n",
    "### How do you categorize the feature vector \"x\"?  \n",
    "- make list of all words \n",
    "- make a binary feature vector of all the words, if it exists in email or not. $x \\in \\{0,1\\}^{n}$\n",
    "\n",
    "\n",
    "$x_{i} = \\mathbb 1$ {word i appear in email or not}\n",
    "\n",
    "In Naive Bayes, we will build a generative learning algorithm, so we need to model p(x|y) and p(y)  \n",
    "\n",
    "- say there are n = 10000 words - possible combinations of X are $2^{10000}$ \n",
    "  - excessive number of parameters, will not work\n",
    "\n",
    "\n",
    "- Assume $x_{i}^{'}s$ are conditionally independent given y  \n",
    "> $P(x_{1},x_{2},..,x_{10000}|y) = P(x_{1}|y)P(x_{2}|x_{1},y)P(x_{3}|x_{1},x_{2},y)..P(x_{10000}|...)$  \n",
    "- the above statement is true by chain rule of probability\n",
    "- using conditional independence assumption or Naive Bayes assumption, we get  \n",
    "> $ \\stackrel{assume}{=} P(x_{1}|y)P(x_{2}|y)P(x_{3}|y)..P(x_{10000}|y)$  \n",
    "> $= \\prod\\limits_{i=1}^{n}p(x_{i}|y)$\n",
    "- This is a strong assumption\n",
    "\n",
    "<br>\n",
    "\n",
    "- The reasoning behind conditional independence assumption is: given the information y is spam, it does not matter which words appear in email as $x_{1}$ is accountNumber, $x_{2}$ is mortgage, $x_{n}$ is yield, \n",
    "\n",
    "\n",
    "<img src=\"images/05_conditionalIndependence.png\" width=200 height=200>  \n",
    "$\\tiny{\\text{YouTube-Stanford-CS229-Andrew Ng}}$  \n",
    "\n"
   ]
  },
  {
   "cell_type": "markdown",
   "id": "6e208aa5",
   "metadata": {},
   "source": [
    "#### Parameters\n",
    "  - $\\phi_{j|y=1} = p(x_{j}=1|y=1)$\n",
    "    - if a spam email(y=1 is spam, y=0 is non-spam), what is the chance of word j appearing in the email? \n",
    "  - $\\phi_{j|y=0} = p(x_{j}=1|y=0)$\n",
    "    - if a non-spam email, what is the chance of word j appearing in the email?\n",
    "  - $\\phi_{y} = p(y=1)$\n",
    "    - what is the cost prior, i.e., what is the prior probability that the next email you receive in your inbox is spam email?\n",
    "\n",
    "#### Joint likelihood estimate\n",
    "- $L(\\phi_{y}, \\phi_{j|y}) = \\prod\\limits_{i=1}^{m} p(x^{(i)}, y^{(i)}; \\phi_{y}, \\phi_{j|y})$\n",
    "\n",
    "#### MLE\n",
    "- fraction of spam email\n",
    "> $\\phi_{y} = \\frac{\\sum\\limits_{i=1}^{m} \\mathbb 1 \\{y^{(i)} = 1\\} }{m}$\n",
    "\n",
    "- estimate that the chance of word j appearing \n",
    "  - denominator - find all the spam emails \n",
    "  - numerator - of all the spam emails, count what fraction of them had word j in it\n",
    "> $\\phi_{j|y=1} = \\frac{\\sum\\limits_{i=1}^{m} \\mathbb 1 \\{ x_{j}^{(i)} = 1, y^{(i)} = 1 \\}} {\\sum\\limits_{i=1}^{m} \\mathbb 1 \\{y^{(i)} = 1\\} }$"
   ]
  }
 ],
 "metadata": {
  "kernelspec": {
   "display_name": "Python 3",
   "language": "python",
   "name": "python3"
  },
  "language_info": {
   "codemirror_mode": {
    "name": "ipython",
    "version": 3
   },
   "file_extension": ".py",
   "mimetype": "text/x-python",
   "name": "python",
   "nbconvert_exporter": "python",
   "pygments_lexer": "ipython3",
   "version": "3.8.8"
  },
  "toc": {
   "base_numbering": 1,
   "nav_menu": {},
   "number_sections": true,
   "sideBar": true,
   "skip_h1_title": false,
   "title_cell": "Table of Contents",
   "title_sidebar": "Contents",
   "toc_cell": false,
   "toc_position": {},
   "toc_section_display": true,
   "toc_window_display": true
  }
 },
 "nbformat": 4,
 "nbformat_minor": 5
}
