{
 "cells": [
  {
   "cell_type": "markdown",
   "id": "fa7e6341",
   "metadata": {},
   "source": [
    ">>> Work in Progress (Following are the lecture notes of Prof Andrew Ng - CS229 - Stanford. This is my interpretation of his excellent teaching and I take full responsibility of any misinterpretation/misinformation provided herein.)"
   ]
  },
  {
   "cell_type": "markdown",
   "id": "6ea298f8",
   "metadata": {},
   "source": [
    "## Lecture 16\n",
    "\n",
    "#### Outline\n",
    "- Independent Component Analysis (ICA)\n",
    "  - CDFs (cumulative distribution function)\n",
    "  - ICA model\n",
    "- Reinforcement Learning \n",
    "  - MDP"
   ]
  },
  {
   "cell_type": "markdown",
   "id": "0715b1e8",
   "metadata": {},
   "source": [
    "### ICA problem statement\n",
    "- sound emitted by speaker j at time i = $s_{j}^{(i)}$\n",
    "- microphone record $x^{(i)} = As^{(i)}, x \\in \\mathbb R^{n}$\n",
    "  - say if you have n=2 speakers, A will be 2x2 matrix\n",
    "  - A is called mixing matrix\n",
    "  - assumption is number of speaker and microphone is same\n",
    "- __Goal__: Find $W = A^{-1}$, so $s^{(i)} = Wx^{(i)}$\n",
    "  - W is the unmixing matrix\n",
    "  - the speakers record different combination of speaker voices.\n",
    "  - Can we separate out the original n speaker speech signals?"
   ]
  },
  {
   "cell_type": "markdown",
   "id": "62414190",
   "metadata": {},
   "source": [
    "- How is it possible to separate out?\n",
    "  - $s_{1}$ and $s_{2}$ are uniform between -1 and +1 (- Snapshot1 below)\n",
    "  - when this passes through mixing matrix A, the axis changes to $x_{1}$ and $x_{2}$ (- Snapshot2 below)\n",
    "  - on applying unmixing matrix W, the axis changes back to $s_{1}$ and $s_{2}$\n",
    "  - this transformation was possible because the source $s_{1}$ and $s_{2}$ were distributed uniformly between -1 and +1\n",
    "  - in realty in real time, human voices are not distributed uniformly between -1 and +1\n",
    "  - if the data is Gaussian, then ICA is not possible. Why?\n",
    "    - uniform distribution is highly non-Gaussian distribution, which makes ICA possible\n",
    "    - what if $s_{1}$ and $s_{2}$ came from Gaussian densities?\n",
    "      - if so, the distribution $s_{1}$ and $s_{2}$ would be rotationally symmetric (- Snapshot3 below)\n",
    "      - there will be rotational ambiguity, any axis could be $s_{1}$ and $s_{2}$ \n",
    "      - you cannot map parallelogram back to square\n",
    "      - Gaussian distribution is rotationally symmetric\n",
    "    - so there is some ambiguity in the output of ICA \n",
    "  - there are two types of ambiguity here\n",
    "    - we dont know which is speaker 1 and which is speaker 2\n",
    "    - we can flip this data horizontally or vertically or reflect this and we wont be able to differentiate which one is +$s_{1}$ and which is -$s_{1}$\n",
    "      \n",
    "      \n",
    "    \n",
    "  \n",
    "  \n",
    "- Snapshot 1   \n",
    "\n",
    "<img src=\"images/16_ica1.png\" width=400 height=400>  \n",
    "$\\tiny{\\text{YouTube-Stanford-CS229-Andrew Ng}}$   \n",
    "\n",
    "- Snapshot 2   \n",
    "\n",
    "<img src=\"images/16_ica2.png\" width=400 height=400>  \n",
    "$\\tiny{\\text{YouTube-Stanford-CS229-Andrew Ng}}$   \n",
    "\n",
    "- Snapshot 3   \n",
    "\n",
    "<img src=\"images/16_ica3.png\" width=400 height=400>  \n",
    "$\\tiny{\\text{YouTube-Stanford-CS229-Andrew Ng}}$   \n",
    "\n"
   ]
  },
  {
   "cell_type": "markdown",
   "id": "dd81257a",
   "metadata": {},
   "source": [
    "- Gaussian density is the only distribution that is rotationally symmetric\n",
    "- if $s_{1}$ and $s_{2}$ are independent and rotationally symmetric, then the distribution has circular contours and it must be Gaussian density\n",
    "- __ICA is possible only if data is non-Gaussian, and only then it is possible to recover the independent sources__"
   ]
  },
  {
   "cell_type": "markdown",
   "id": "f00294f5",
   "metadata": {},
   "source": [
    "### CDF\n",
    "- Relation between pdf and cdf\n",
    "> $p_{s}(s) = F'(s)$\n",
    "\n",
    "<img src=\"images/16_cdf.png\" width=400 height=400>  \n",
    "$\\tiny{\\text{YouTube-Stanford-CS229-Andrew Ng}}$   \n"
   ]
  },
  {
   "cell_type": "markdown",
   "id": "6ca0bd27",
   "metadata": {},
   "source": [
    "### ICA derivation\n",
    "- Let the cdf be $F(s)$ and its corresponding pdf be $p_{s}(s)$\n",
    "- Our model is $x = As = W^{-1}s$ and $s=Wx$\n",
    "- If we know $p_{s}(s)$, what is the density of $p_{x}(x)$\n",
    "  - We might consider $p_{x}(x) = p_{s}(Wx) = p_{s}(s)$, assuming w is an invertible matrix, this is a bijection. There is a one-to-one mapping between x and s.\n",
    "    - This is incorrect\n",
    "    - This works for probability mass function for discrete probability distribution but not for continuous probability distribution\n",
    "    - The correct answer is $p_{x}(x) = p_{s}(Wx)|W| = p_{s}(s)|W|$, where $|W|$ is the determinant of matrix W\n",
    "    - We need the determinant to make sure the distribution still normalizes to 1\n",
    "    - determinant tells us how much the matrix/veector stretches out\n",
    "    \n",
    "- We want to compute density of x because in the training set, we get to observe x only. To find the MLE parameters, we need to know the density of x, so that we can map and choose parameters W to maximize the likelihood. "
   ]
  },
  {
   "cell_type": "markdown",
   "id": "bfad8ff6",
   "metadata": {},
   "source": [
    "- Density of s is indicator function between 0 and 1\n",
    "> $p_{s}(s) = \\mathbb 1\\{0 \\le s \\le 1\\}$ and $s \\sim$ Uniform(0,1)\n",
    "- Let x = 2s in $\\mathbb R^{1}$ (A=2, W=1/2)\n",
    "> $x \\sim$ Uniform(0,2)  \n",
    "- Area under curve for both $p_{s}(s)$ and $p_{x}(x)$ is 1\n",
    "> $p_{x}(x) = \\frac{1}{2}\\mathbb 1\\{0 \\le x \\le 2\\}$ \n",
    "- where $p_{x}(x) = p_{s}(Wx)|W|$\n",
    "- and |W| = 1/2 = determinant of matrix W\n",
    "\n",
    "<img src=\"images/16_ica4.png\" width=400 height=400>  \n",
    "$\\tiny{\\text{YouTube-Stanford-CS229-Andrew Ng}}$   \n",
    "\n"
   ]
  },
  {
   "cell_type": "markdown",
   "id": "73bfca27",
   "metadata": {},
   "source": [
    "- $F(s) = P(S \\le s) = \\frac{1}{1+e^{-s}}$ - sigmoid function as the cdf\n",
    "- pdf for sigmoid function will be F'(s)\n",
    "  - the pdf that this induces will have fatter tails\n",
    "  - which implies that it goes to 0 more slowly and this captures human voice and many other natural phenomenon lot better than the Gaussian density because there are larger number of extreme outliers\n",
    "- there are other distributions that work well - double exponential distribution or two sided exponential density or Laplacian distributio\n",
    "- this works well for many symmetric distributions\n",
    "\n",
    "\n",
    "<img src=\"images/16_ica5.png\" width=400 height=400>  \n",
    "$\\tiny{\\text{YouTube-Stanford-CS229-Andrew Ng}}$   \n"
   ]
  },
  {
   "cell_type": "markdown",
   "id": "e5a323d9",
   "metadata": {},
   "source": [
    "- Density of s is equal to \n",
    "> $p_{s}(s) = \\prod\\limits_{i=1}^{n}p_{s}(s_{i})$\n",
    "- here n speakers are independent and they independently choose what sound to emit\n",
    "- So the density of x is equal to\n",
    "> $p_{x}(x) = p_{s}(Wx)|W| = \\left(\\prod\\limits_{j=1}^{n}p_{s}(W_{j}^{T}x)\\right)|W|$"
   ]
  },
  {
   "cell_type": "markdown",
   "id": "0e81390d",
   "metadata": {},
   "source": [
    "#### MLE \n",
    "- the log likelihood of W is \n",
    "> $l(W) = \\sum\\limits_{i=1}^{m}\\log\\left[\\left(\\prod\\limits_{j}p_{s}\\left(W_{j}^{T}x^{(i)}\\right) \\right)|W|\\right]$\n",
    "- apply stochastic gradient descent $\\nabla_{W}l(W)$ to maximize the log likelihood, run it \n",
    "- this finds a pretty good matrix W for unmixing the sources"
   ]
  },
  {
   "cell_type": "markdown",
   "id": "78683d08",
   "metadata": {},
   "source": [
    "### Reinforcement Learning\n",
    "- make a computer learn how to move helicopter\n",
    "- give state at any point in time, you are asked to take action on how to move the control stick, to make helicopter fly in certain trajectory\n",
    "- there is no one right answer for how to move the control sticks of a helicopter\n",
    "- there is no one X to Y mapping as what is the true way to fly a helicopter\n",
    "- its an algorithm that doesn't ask you to tell it exactly the right answer/one true way at every step\n",
    "- instead as a AI engineer, our job is to specify the reward function that tells when it's flying well and when it's flying poorly\n",
    "- write a cost function or a reward function that gives a high reward when its doing well and a large negative reward whenever it crashes or does something bad\n",
    "- something like training dog when its behaving well by saying good dog or bad dog\n",
    "- AlphaGo/chess \n",
    "  - say it lost at step 50, but made a very bad move/blunder at step 20 and then continued for another 30 steps. The reward function must be able to tell that at step 30 it made a very bad move and have a large negative reward\n",
    "- the function is R(s) where R is the reward and s is the state"
   ]
  },
  {
   "cell_type": "markdown",
   "id": "a3b14809",
   "metadata": {},
   "source": [
    "#### Markov Decision Process (MDP)\n",
    "- RL solves problem using this MDP\n",
    "- MDP is a 5 set tuple $(S, A, \\{P_{sa}\\}, \\gamma, R)$\n",
    "  - S - set of states\n",
    "  - A - set of actions\n",
    "  - $P_{sa}$ - state transition probabilities $(\\sum_{s'}P_{sa}(s') = 1)$\n",
    "    - this tells if you take action a from state s, what is the probability of ending at a particular different state s'\n",
    "  - $\\gamma$ - discount factor $\\gamma \\in$ (0,1]\n",
    "  - R - reward function"
   ]
  },
  {
   "cell_type": "markdown",
   "id": "0ed47f8f",
   "metadata": {},
   "source": [
    "- 11 possible states\n",
    "- actions A:{N,S,E,W}\n",
    "- there might be a wheel slip and probability may be {0.8 to N, 0.1 to W, 0.1 to E}\n",
    "\n",
    "<img src=\"images/16_rl1.png\" width=400 height=400>  \n",
    "$\\tiny{\\text{YouTube-Stanford-CS229-Andrew Ng}}$   \n",
    "\n"
   ]
  },
  {
   "attachments": {},
   "cell_type": "markdown",
   "id": "32bc7bef",
   "metadata": {},
   "source": [
    "#### Design the reward function\n",
    "- Incentivize reward to the end state as +1 and negative reward to state where you don't want it to go as -1\n",
    "  - Choose action $a_{0}$\n",
    "  - Based on the action you took, you will end up in state $s_{1} \\sim P_{s_{0} a_{0}}$ \n",
    "    - which is distributed according to state transition probabilities governed by the previous state and the action it chose. Based on the action it chooses it has different chances of moving N,E,W,S\n",
    "  - From state $s_{1}$, it will take new action $a_{1}$\n",
    "  - Based on the action you took, it will end up in state $s_{2} \\sim P_{s_{1} a_{1}}$ "
   ]
  },
  {
   "cell_type": "markdown",
   "id": "c02a302c",
   "metadata": {},
   "source": [
    "- The process is as follows:\n",
    "> $s_{0} \\buildrel \\rm a_{0} \\over \\rightarrow\n",
    "s_{1} \\buildrel \\rm a_{1} \\over \\rightarrow\n",
    "s_{2} \\buildrel \\rm a_{2} \\over \\rightarrow\n",
    "s_{3} \\buildrel \\rm a_{3} \\over \\rightarrow ... $\n",
    "- The reward function is as follows:\n",
    "> $R(s_{0}, a_{0}) + \\gamma R(s_{1}, a_{1}) + \\gamma^{2} R(s_{2}, a_{2}) + ...$\n",
    "- The total rewards is the sum of rewards or sum of discounted rewards. The further reward is in future, the value of reward reduces because of lesser weight. \n",
    "- Generally the reward is $\\gamma = 0.99 (0,1]$\n",
    "- This also encourages robot to get positive reward faster and postpone the negative rewards\n",
    "- Another interpretation of $\\gamma$ can be drawn from time value of money\n",
    "- Another interpretation of discount factor $\\gamma$ is they converge much faster with it. Its much harder for the algorithm to converge, if it is set to 1\n"
   ]
  },
  {
   "cell_type": "markdown",
   "id": "6494e77b",
   "metadata": {},
   "source": [
    "- Goal: Choose actions over time to maximize total payoff\n",
    "> $E[R(s_{0}, a_{0}) + \\gamma R(s_{1}, a_{1}) + \\gamma^{2} R(s_{2}, a_{2}) + ...]$\n",
    "\n",
    "- Most reinforcement algorithms define a policy(controller), which maps from states to actions\n",
    "> Policy(controller) $\\pi: S \\rightarrow A$\n",
    "- In the figure below, the optimal policy diagram it says the policy applied to cell (3,1) is West\n",
    "\n",
    "\n",
    "<img src=\"images/16_optimalPolicy1.png\" width=400 height=400>  \n",
    "$\\tiny{\\text{YouTube-Stanford-CS229-Andrew Ng}}$   \n",
    "\n",
    "\n",
    "- Instead at step (3,1), if policy North is applied, at step (3,2) there is 0.1 probability to end up with a negative reward of -1. A policy of West at cell (3,1) although leads to a longer route, but leads to a better optimal policy.\n",
    "\n",
    "\n",
    "<img src=\"images/16_optimalPolicy2.png\" width=400 height=400>  \n",
    "$\\tiny{\\text{YouTube-Stanford-CS229-Andrew Ng}}$   \n",
    "\n",
    "\n"
   ]
  }
 ],
 "metadata": {
  "kernelspec": {
   "display_name": "Python 3",
   "language": "python",
   "name": "python3"
  },
  "language_info": {
   "codemirror_mode": {
    "name": "ipython",
    "version": 3
   },
   "file_extension": ".py",
   "mimetype": "text/x-python",
   "name": "python",
   "nbconvert_exporter": "python",
   "pygments_lexer": "ipython3",
   "version": "3.8.8"
  },
  "toc": {
   "base_numbering": 1,
   "nav_menu": {},
   "number_sections": true,
   "sideBar": true,
   "skip_h1_title": false,
   "title_cell": "Table of Contents",
   "title_sidebar": "Contents",
   "toc_cell": false,
   "toc_position": {},
   "toc_section_display": true,
   "toc_window_display": true
  }
 },
 "nbformat": 4,
 "nbformat_minor": 5
}
