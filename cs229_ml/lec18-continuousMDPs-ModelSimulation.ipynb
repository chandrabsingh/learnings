{
 "cells": [
  {
   "cell_type": "markdown",
   "id": "9d0e6786",
   "metadata": {},
   "source": [
    ">>> Work in Progress (Following are the lecture notes of Prof Andrew Ng - CS229 - Stanford. This is my interpretation of his excellent teaching and I take full responsibility of any misinterpretation/misinformation provided herein.)"
   ]
  },
  {
   "cell_type": "markdown",
   "id": "461678ed",
   "metadata": {},
   "source": [
    "## Lecture 18\n",
    "\n",
    "#### Outline\n",
    "- Continuous State MDPs \n",
    "  - Discretization\n",
    "  - Models/Simulation\n",
    "  - Fitted value iteration"
   ]
  },
  {
   "cell_type": "markdown",
   "id": "bb1567d5",
   "metadata": {},
   "source": [
    "### Continuous state space \n",
    "- In the last lecture we learnt about finite state models. \n",
    "- The state space representation of car \n",
    "  - kinematic model of car\n",
    "    - x - units in x direction\n",
    "    - y - units in y direction\n",
    "    - $\\theta$ - orientation wrt some direction say North \n",
    "  - dynamic model of car\n",
    "    - $\\dot{x}$ - linear velocity in x direction\n",
    "    - $\\dot{y}$ - linear velocity in y direction\n",
    "    - $\\dot{\\theta}$ - angular velocity \n",
    "- it depends on how we want to model the car, if we are interested in modeling race car, we need to include the temperature as well, we will need to model the 4 car tires separately\n",
    "\n",
    "- the state space representation of helicopter will have 3-dimensions instead of 2\n",
    "- inverted pendulum\n",
    "- the dimensions for the above problem statement will be $\\mathbb R^{6}(\\text{car}), \\mathbb R^{12}(\\text{helicopter}), \\mathbb R^{4}(\\text{pendulum})$"
   ]
  },
  {
   "cell_type": "markdown",
   "id": "88c5468e",
   "metadata": {},
   "source": [
    "- one easy way would be discretize continuous state space and solve it as discrete state space problem\n",
    "- its fine to solve low dimensional state space problem using discretization, but for higher dimensional problem we need to use fitted value iteration \n",
    "- disadvantages of discretization:\n",
    "  - 1) Naive representation for $V^{*}$ and $\\pi^{*}$\n",
    "    - in the house price prediction problem, fit a constant function\n",
    "    - the buckets will represent the price of a house as a function of the size \n",
    "    - same applies to state-space problem, where we approximate the value function as a staircase function, as a function of set of stairs\n",
    "    - this can be applied if there is lot of data and very few input features, but it does not allow to fit a smoother function\n",
    "    - its not a very good representation\n",
    "    \n",
    "13:56\n",
    "<img src=\"images/18_discretizationHousePricePrediction.png\" width=600 height=600>  \n",
    "$\\tiny{\\text{YouTube-Stanford-CS229-Andrew Ng}}$   \n",
    "\n",
    "\n",
    "  - 2) Curse of dimensionality\n",
    "    - if state space $s \\in \\mathbb R^{n}$, and if we discretize each dimension into k values, then we get $k^{n}$ discrete states which grows exponentially \n",
    "    - this is not a good representation in large dimensions say more than 8-10 \n",
    "    - way of reducing/taking control of exponential blow up would be to use _unequal grid_ for state space\n",
    "      - define finer or more number of state for more sensitive state-space and lesser number of state for less sensitive state-space"
   ]
  },
  {
   "cell_type": "markdown",
   "id": "f3b9002c",
   "metadata": {},
   "source": [
    "### Alternative s\n",
    "- approximate $V^{*}$ directly without using discretization directly\n",
    "  - in linear regression problem\n",
    "    - approximate the value function where we learn V as a function of s\n",
    "    - approximate $y \\approx \\theta^{T}x$ or $\\theta^{T} \\phi(x)$  \n",
    "      - where $\\phi(x)$ is the representation of features of x\n",
    "      - in the housing price problem, $\\phi(x)$ is vector of x's the housing price $\\{x_{1}, x_{2}, x_{1}^{2}, x_{1}x_{2}\\}$, either as a function of real feature or complex set of features of house\n",
    "  - in fitted value iteration problem\n",
    "    - is a model where we will approximate $V^{*}(s)$, as a linear function of features of the state, with lot of modifications to approximate the value function\n",
    "    - approximate $V^{*}(s) \\approx \\theta^{T} \\phi(s)$  \n",
    "    - once we have a good approximation of value function, we can compute the optimal action for every state"
   ]
  },
  {
   "cell_type": "markdown",
   "id": "066f740b",
   "metadata": {},
   "source": [
    "- fitted value iteration problem works best with a model with simulator of the MDP\n",
    "- what does that mean?\n",
    "- Model (simulator) of a robot is a function that takes an input state s, an action a and outputs state s', drawn from the state space probability $P_{sa}$\n",
    "- for most of the MDP problems, the state space will be very high dimensional and the action space is much lower dimensional than the state space\n",
    "  - for car state s will be 6 dimensional, and action a will be 2 dimensional - steering and wheel\n",
    "  - for helicopter state s will be 12 dimensional, and action a will be 4 dimensional - left and right sticks with 2 controls each\n",
    "  - for pendulum state space s will be 4 dimensional and action a will be 1 - left or right\n",
    "- later we will see we will not need to discretize action space\n",
    "    \n",
    "24:20\n",
    "<img src=\"images/18_simulationModel.png\" width=400 height=400>  \n",
    "$\\tiny{\\text{YouTube-Stanford-CS229-Andrew Ng}}$   \n",
    "\n"
   ]
  },
  {
   "cell_type": "markdown",
   "id": "8ad716b4",
   "metadata": {},
   "source": []
  },
  {
   "cell_type": "markdown",
   "id": "93dbbbaf",
   "metadata": {},
   "source": []
  },
  {
   "cell_type": "markdown",
   "id": "0ab5c233",
   "metadata": {},
   "source": []
  },
  {
   "cell_type": "markdown",
   "id": "302d0499",
   "metadata": {},
   "source": []
  },
  {
   "cell_type": "markdown",
   "id": "83f3176d",
   "metadata": {},
   "source": []
  },
  {
   "cell_type": "markdown",
   "id": "a4638a29",
   "metadata": {},
   "source": []
  },
  {
   "cell_type": "markdown",
   "id": "10082176",
   "metadata": {},
   "source": []
  },
  {
   "cell_type": "markdown",
   "id": "0e979b78",
   "metadata": {},
   "source": []
  },
  {
   "cell_type": "markdown",
   "id": "6ebf0563",
   "metadata": {},
   "source": []
  },
  {
   "cell_type": "markdown",
   "id": "13ec7f0a",
   "metadata": {},
   "source": []
  },
  {
   "cell_type": "markdown",
   "id": "f66dd8cd",
   "metadata": {},
   "source": []
  },
  {
   "cell_type": "markdown",
   "id": "b38bd796",
   "metadata": {},
   "source": []
  },
  {
   "cell_type": "markdown",
   "id": "5cc8d862",
   "metadata": {},
   "source": []
  },
  {
   "cell_type": "markdown",
   "id": "c2cdc0e5",
   "metadata": {},
   "source": []
  },
  {
   "cell_type": "markdown",
   "id": "663d46d0",
   "metadata": {},
   "source": []
  }
 ],
 "metadata": {
  "kernelspec": {
   "display_name": "Python 3",
   "language": "python",
   "name": "python3"
  },
  "language_info": {
   "codemirror_mode": {
    "name": "ipython",
    "version": 3
   },
   "file_extension": ".py",
   "mimetype": "text/x-python",
   "name": "python",
   "nbconvert_exporter": "python",
   "pygments_lexer": "ipython3",
   "version": "3.8.8"
  },
  "toc": {
   "base_numbering": 1,
   "nav_menu": {},
   "number_sections": true,
   "sideBar": true,
   "skip_h1_title": false,
   "title_cell": "Table of Contents",
   "title_sidebar": "Contents",
   "toc_cell": false,
   "toc_position": {},
   "toc_section_display": true,
   "toc_window_display": false
  }
 },
 "nbformat": 4,
 "nbformat_minor": 5
}
