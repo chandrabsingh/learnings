{
 "cells": [
  {
   "cell_type": "markdown",
   "id": "95d4d7bd",
   "metadata": {},
   "source": [
    ">>> Work in Progress (Following are the lecture notes of Prof Andrew Ng - CS229 - Stanford. This is my interpretation of his excellent teaching and I take full responsibility of any misinterpretation/misinformation provided herein.)"
   ]
  },
  {
   "cell_type": "markdown",
   "id": "5956c2ca",
   "metadata": {},
   "source": [
    "## Lecture 18\n",
    "\n",
    "#### Outline\n",
    "- Continuous State MDPs \n",
    "  - Discretization\n",
    "  - Models/Simulation\n",
    "  - Fitted value iteration"
   ]
  },
  {
   "cell_type": "markdown",
   "id": "95896f34",
   "metadata": {},
   "source": [
    "### Continuous state space \n",
    "- In the last lecture we learnt about finite state models. \n",
    "- The state space representation of car \n",
    "  - kinematic model of car\n",
    "    - x - units in x direction\n",
    "    - y - units in y direction\n",
    "    - $\\theta$ - orientation wrt some direction say North \n",
    "  - dynamic model of car\n",
    "    - $\\dot{x}$ - linear velocity in x direction\n",
    "    - $\\dot{y}$ - linear velocity in y direction\n",
    "    - $\\dot{\\theta}$ - angular velocity \n",
    "- it depends on how we want to model the car, if we are interested in modeling race car, we need to include the temperature as well, we will need to model the 4 car tires separately\n",
    "\n",
    "- the state space representation of helicopter will have 3-dimensions instead of 2\n",
    "- inverted pendulum\n",
    "- the dimensions for the above problem statement will be $\\mathbb R^{6}(\\text{car}), \\mathbb R^{12}(\\text{helicopter}), \\mathbb R^{4}(\\text{pendulum})$"
   ]
  },
  {
   "cell_type": "markdown",
   "id": "c0d0ed98",
   "metadata": {},
   "source": [
    "- one easy way would be discretize continuous state space and solve it as discrete state space problem\n",
    "- its fine to solve low dimensional state space problem using discretization, but for higher dimensional problem we need to use fitted value iteration \n",
    "- disadvantages of discretization:\n",
    "  - 1) Naive representation for $V^{*}$ and $\\pi^{*}$\n",
    "    - in the house price prediction problem, fit a constant function\n",
    "    - the buckets will represent the price of a house as a function of the size \n",
    "    - same applies to state-space problem, where we approximate the value function as a staircase function, as a function of set of stairs\n",
    "    - this can be applied if there is lot of data and very few input features, but it does not allow to fit a smoother function\n",
    "    - its not a very good representation\n",
    "    \n",
    "  - 2) Curse of dimensionality\n",
    "    - if state space $s \\in \\mathbb R^{n}$, and if we discretize each dimension into k values, then we get $k^{n}$ discrete states which grows exponentially \n",
    "    - this is not a good representation in large dimensions say more than 8-10 \n",
    "    - way of reducing/taking control of exponential blow up would be to use _unequal grid_ for state space\n",
    "      - define finer or more number of state for more sensitive state-space and lesser number of state for less sensitive state-space\n",
    "      \n",
    "\n",
    "<img src=\"images/18_discretizationHousePricePrediction.png\" width=400 height=400>  \n",
    "$\\tiny{\\text{YouTube-Stanford-CS229-Andrew Ng}}$   \n",
    "\n"
   ]
  },
  {
   "cell_type": "markdown",
   "id": "94b2dba8",
   "metadata": {},
   "source": [
    "### Alternative approach\n",
    "- approximate $V^{*}$ directly without using discretization directly\n",
    "  - in linear regression problem\n",
    "    - approximate the value function where we learn V as a function of s\n",
    "    - approximate $y \\approx \\theta^{T}x$ or $\\theta^{T} \\phi(x)$  \n",
    "      - where $\\phi(x)$ is the representation of features of x\n",
    "      - in the housing price problem, $\\phi(x)$ is vector of x's the housing price $\\{x_{1}, x_{2}, x_{1}^{2}, x_{1}x_{2}\\}$, either as a function of real feature or complex set of features of house\n",
    "  - in fitted value iteration problem\n",
    "    - is a model where we will approximate $V^{*}(s)$, as a linear function of features of the state, with lot of modifications to approximate the value function\n",
    "    - approximate $V^{*}(s) \\approx \\theta^{T} \\phi(s)$  \n",
    "    - once we have a good approximation of value function, we can compute the optimal action for every state"
   ]
  },
  {
   "cell_type": "markdown",
   "id": "86bff1a0",
   "metadata": {},
   "source": [
    "- fitted value iteration problem works best with a model with simulator of the MDP\n",
    "- what does that mean?\n",
    "- Model (simulator) of a robot is a function that takes an input state s, an action a and outputs state s', drawn from the state space probability $P_{sa}$\n",
    "- for most of the MDP problems, the state space will be very high dimensional and the action space is much lower dimensional than the state space\n",
    "  - for car state s will be 6 dimensional, and action a will be 2 dimensional - steering and wheel\n",
    "  - for helicopter state s will be 12 dimensional, and action a will be 4 dimensional - left and right sticks with 2 controls each\n",
    "  - for pendulum state space s will be 4 dimensional and action a will be 1 - left or right\n",
    "- later we will see we will not need to discretize action space\n",
    "    \n",
    "\n",
    "<img src=\"images/18_simulationModel.png\" width=400 height=400>  \n",
    "$\\tiny{\\text{YouTube-Stanford-CS229-Andrew Ng}}$   \n",
    "\n"
   ]
  },
  {
   "cell_type": "markdown",
   "id": "d9c32b8b",
   "metadata": {},
   "source": [
    "### How do we make a model\n",
    "- One way - use physics simulator package\n",
    "  - in pendulum case, \n",
    "    - state space is 4 dim, use physics simulator package, plug in the dimension details, mass and other details, and the simulator will spit out how the state evolves from one time step to another time step\n",
    "- Second way - learn model from data\n",
    "  - more generally used\n",
    "  - lets say we have a helicopter and we want to build an autonomous controller for it\n",
    "    - start helicopter in some state $s_{0}$\n",
    "    - a human pilot will command the helicopter with some action $a_{0}$\n",
    "    - say in few seconds, the helicopter reaches a new position and orientation as $s_{1}$\n",
    "    - human pilot will keep on taking actions say every 10 times a second and we record its action and state. repeat for t seconds\n",
    "    - record multiple trajectories say m times\n",
    "    - apply supervised learning to predict $s_{t+1}$($s^{'}$) as function of state $s_{t}$($s$) and action $a_{t}$($a$)\n",
    "    - in linear regression version\n",
    "      - this model is fine for helicopter moving at slow speed\n",
    "      > $s_{t+1} = As_{t} + Ba_{t}$\n",
    "        - we can also plug in non-linear form of model depending on your choice of features of A as $\\phi(s)$ and B as $\\phi(a)$\n",
    "      - to fit the parameters A and B, that minimizes the squared difference of left and right hand side\n",
    "      > $\\min\\limits_{A,B}\\sum\\limits_{i=1}^{m}\\sum\\limits_{t=0}^{T}\\|s_{t+1}^{(i)}-(As_{t}^{(i)} + Ba_{t}^{(i)}) \\|^{2}$\n",
    "      - we can either model it as \n",
    "        - deterministic\n",
    "          > $s_{t+1} = As_{t} + Ba_{t}$\n",
    "        - stochastic\n",
    "          > $s_{t+1} = As_{t} + Ba_{t} + \\epsilon_{t}$\n",
    "          - where $\\epsilon_{t} \\sim N(0, \\sigma^{2}I)$\n",
    "          - in this case, we will be sampling $\\epsilon$ from a Gaussian vector and add it to the prediction of linear model \n",
    "          - if we simulate the helicopter flying around, the simulator will generate random noise that adds or subtracts to the state space of helicopter as if there were little wind gusts blowing the helicopter around\n",
    "      - for high speed helicopters, this model will not work  \n",
    "  - this approach is called __model based reinforcement learning__\n",
    "    - to build a model of robot, we train the reinforcement learning algorithm in the simulator \n",
    "    - then take the policy we learn in simulation\n",
    "    - apply back on the real robot\n",
    "    - this field is evolving quickly in robotics\n",
    "  - alternative is __model-free reinforcement learning__, \n",
    "    - this is generally not much used as we cannot afford to run actual helicopter and learn from it\n",
    "    - instead model-free rl is generally used in video games "
   ]
  },
  {
   "cell_type": "markdown",
   "id": "3596f871",
   "metadata": {},
   "source": [
    "- if we design a deterministic simulators for robots and use it in a real robot, the odds of its success is very low\n",
    "- instead if we design a stochastic simulators and add noise term into it, the chances of its success increases for robotic control problems"
   ]
  },
  {
   "cell_type": "markdown",
   "id": "2f20a319",
   "metadata": {},
   "source": [
    "### How do you approximate the value function\n",
    "- in order to apply, fitted value iteration\n",
    "- first step is to choose features $\\phi(s)$ of the state s\n",
    "- approximate V(s)\n",
    "> $V(s) = \\theta^{T}\\phi(s)$\n",
    "- determine the features of $\\phi(s)$ as nonlinear features that we suppose might be representative of value/how well the robot is doing\n",
    "- value of state is the expected payoff/discounted rewards from that state\n",
    "- the value function captures if the robot starts off in that state, how well would it do"
   ]
  },
  {
   "cell_type": "markdown",
   "id": "f1f795b5",
   "metadata": {},
   "source": [
    "### Fitted value algorithm\n",
    "- Value iteration\n",
    "> $\\begin{equation}\\\\\n",
    "\\begin{aligned}\\\\\n",
    "V(s) &= R(s) + \\gamma\\max\\limits_{a}\\sum\\limits_{s'\\in S}P_{sa}(s')V(s')\\\\\n",
    "&= R(s) + \\gamma\\max\\limits_{a}E_{s'\\sim P_{sa}}[V(s')]\\\\\n",
    "\\end{aligned}\\\\\n",
    "\\end{equation}\\\\\n",
    "$\n",
    "\n",
    "- Fitted value iteration\n",
    "  - Choose set of states randomly $\\{ s^{(1)}, s^{(2)}, ..., s^{(m)}\\} \\in S$\n",
    "  - Initialize $\\theta := 0$\n",
    "    - in general\n",
    "      - we map $x \\rightarrow y$, \n",
    "      - as we have a finite set of examples that we see as values of x in the training set for predicting housing prices\n",
    "    - similarly\n",
    "      - here we map $s \\rightarrow V(s)$\n",
    "      - we will use a certain set of states, and use that finite set of examples s in a linear regression to fit V(s)\n",
    "  - that is the use of sample above\n",
    "  - Repeat { - _Loop1_\n",
    "    - for i = 1,2,..,m {  - _Loop2_\n",
    "      - for each action $a \\in A$ { - _Loop3_\n",
    "        - sample $\\{ s'^{(1)}, s'^{(2)}, ..., s^{(k)}\\} \\sim P_{s^{(i)},a}$ - _Step4_\n",
    "        - set $q(a) = \\frac{1}{k}\\sum\\limits_{j=1}^{k}[R(s^{(i)}) + \\gamma V(s'_{j})]$ - which is the estimate of expectation - _Step5_\n",
    "      - }\n",
    "      - set $y^{(i)} = \\max\\limits_{a}q(a)$ - _Step6_\n",
    "    - }\n",
    "    - $\\theta := \\arg\\min\\limits_{\\theta}\\frac{1}{2}\\sum\\limits_{i=1}^{m}(\\theta^{T}\\phi(s^{(i)}) - y^{(i)})^{2}$ - _Step7_\n",
    "  - }\n",
    "  \n",
    "  - In _Loop2_, m represents how many times we fly the helicopter in order to build a model\n",
    "  - in _Step4_, we took k samples from $V(s'_{j})$ distribution, average V(s') in _Step5_\n",
    "    - we sampled k times because we use stochastic simulator here\n",
    "    - if we use a deterministic simulator instead, for a given state and action, it will always result in same state $s^{(i)},a \\rightarrow s'$\n",
    "    - for deterministic simulator, we set k=1\n",
    "  - in _Step5_, we get $V(s'_{j})$ from using the parameters of $\\theta^{T}\\phi(s_{j}')$ from the last iteration of fitted value iteration\n",
    "\n",
    "> $\\begin{equation}\\\\\n",
    "\\begin{aligned}\\\\\n",
    "V(s) &= R(s) + \\gamma\\max\\limits_{a}\\sum\\limits_{s'\\in S}P_{sa}(s')V(s')\\\\\n",
    "&= R(s) + \\gamma\\max\\limits_{a}E_{s'\\sim P_{sa}}[V(s')]\\\\\n",
    "&= \\max\\limits_{a}E_{s'\\sim P_{sa}}[R(s) + \\gamma V(s')]\\\\\n",
    "&= \\max\\limits_{a}E_{s'\\sim P_{sa}}[q(a)]\\\\\n",
    "\\end{aligned}\\\\\n",
    "\\end{equation}\\\\\n",
    "$"
   ]
  },
  {
   "cell_type": "markdown",
   "id": "7a355c16",
   "metadata": {},
   "source": [
    "- In _Step6_, we set $y^{(i)} = \\max\\limits_{a}q(a)$ - is the estimate at right-hand side of value iteration\n",
    "  - in the original value iteration \n",
    "    - $V(s^{(i)}) := y^{(i)}$\n",
    "  - in fitted value iteration \n",
    "    - we want $V(s^{(i)}) \\approx y^{(i)}$\n",
    "    - i.e., $\\theta^{T}\\phi(s^{(i)}) \\approx y^{(i)}$"
   ]
  },
  {
   "cell_type": "markdown",
   "id": "7cf88e99",
   "metadata": {},
   "source": [
    "- In _Step7_: run linear regression to choose the parameters $\\theta$ that minimizes the squared error\n",
    "> $\\theta := \\arg\\min\\limits_{\\theta}\\frac{1}{2}\\sum\\limits_{i=1}^{m}(\\theta^{T}\\phi(s^{(i)}) - y^{(i)})^{2}$"
   ]
  },
  {
   "cell_type": "markdown",
   "id": "502a46d9",
   "metadata": {},
   "source": [
    "### Some practical aspects\n",
    "- After we learn all the parameters, fitted VI gives approximation to $V^{*}$, which implicitly defines $\\pi^{*}$\n",
    "> $\\pi^{*}(s) = \\arg\\max\\limits_{a}E_{s'\\in P_{s,a}}[V^{*}(s')]$\n",
    "- in real world helicopter fly, we will have to choose control actions at 10Hertz, i.e., 10 times a second we are given the state, and we have to choose an action\n",
    "- same would be with a self driving car, where we choose a new action 10 times a second\n",
    "- but how do we compute this expectation and maximize this 10 times per second?\n",
    "  - we used samples $\\{ s'^{(1)}, s'^{(2)}, ..., s^{(k)}\\} \\sim P_{s^{(i)},a}$ to approximate expectation\n",
    "- Tricks\n",
    "  - simulator is of the form\n",
    "    - $s_{t+1} = f(s_{t}, a_{t}) + \\epsilon_{t}$, i.e., $(As_{t} + Ba_{t} + \\epsilon_{t})$ - previous state and action plus some noise\n",
    "  - for deployment/runtime\n",
    "    - set $\\epsilon_{t}=0$ and $k=1$ \n",
    "    - in simulator we need to have noise and randomness\n",
    "    - but for real practical purposes, we can use discretized state and action V"
   ]
  }
 ],
 "metadata": {
  "kernelspec": {
   "display_name": "Python 3",
   "language": "python",
   "name": "python3"
  },
  "language_info": {
   "codemirror_mode": {
    "name": "ipython",
    "version": 3
   },
   "file_extension": ".py",
   "mimetype": "text/x-python",
   "name": "python",
   "nbconvert_exporter": "python",
   "pygments_lexer": "ipython3",
   "version": "3.8.8"
  },
  "toc": {
   "base_numbering": 1,
   "nav_menu": {},
   "number_sections": true,
   "sideBar": true,
   "skip_h1_title": false,
   "title_cell": "Table of Contents",
   "title_sidebar": "Contents",
   "toc_cell": false,
   "toc_position": {},
   "toc_section_display": true,
   "toc_window_display": true
  }
 },
 "nbformat": 4,
 "nbformat_minor": 5
}
