{
 "cells": [
  {
   "cell_type": "markdown",
   "id": "f7e2ed7a",
   "metadata": {},
   "source": [
    ">>> Work in Progress (Following are the lecture notes of Prof Andrew Ng/Kian Katanforoosh - CS229 - Stanford. This is my interpretation of his excellent teaching and I take full responsibility of any misinterpretation/misinformation provided herein.)"
   ]
  },
  {
   "cell_type": "markdown",
   "id": "62a3b47f",
   "metadata": {},
   "source": [
    "## Lecture 12\n",
    "\n",
    "#### Outline\n",
    "- Logistic Regression as NN (last lecture)\n",
    "- Neural Network (last lecture)\n",
    "  - Backpropagation (this lecture)\n",
    "- Improving your NN (this lecture)"
   ]
  },
  {
   "cell_type": "markdown",
   "id": "3b33731d",
   "metadata": {},
   "source": [
    "### Backpropagation\n",
    "- in order to define optimization problem and find right parameters, define a cost function\n",
    "- forward propagating m examples at a time\n",
    "  - cost function is the average of loss function\n",
    "  > $J(\\hat{y}, y) = \\frac{1}{m}\\sum\\limits_{i=1}^{m}L^{(i)}$\n",
    "  - where \n",
    "  > $L^{(i)} = -[y^{(i)}\\log\\hat{y}^{(i)} + (1-y^{(i)})\\log(1-\\hat{y}^{(i)}) ]$\n",
    "  - the parameters $W^{[1]}, b^{[1]}, W^{[2]}, b^{[2]}, W^{[3]}, b^{[3]}$ \n",
    "    - the square bracket denotes the layer\n",
    "    - we need to train all these parameters\n",
    "- backward propagation\n",
    "  - here we start from back and move forward\n",
    "  - we compute derivative of $W^{[3]}$ and $b^{[3]}$, then $W^{[2]}$ and $b^{[2]}$ and finally $W^{[1]}$ and $b^{[1]}$\n",
    "  > $w^{[l]} = w^{[l]} - \\alpha\\frac{\\partial L}{\\partial w^{[l]}}$"
   ]
  },
  {
   "cell_type": "markdown",
   "id": "e6bf390e",
   "metadata": {},
   "source": [
    "#### Derivative of loss function wrt $W^{[3]}$\n",
    "- Lets compute derivation of loss function wrt to $W^{[3]}$, then we can compute cost function as it will be summation over all training example\n",
    "> $\\frac{\\partial L}{\\partial W^{[3]}} = - [y^{(i)} \\frac{\\partial}{\\partial W^{[3]}} (\\log\\sigma(W^{[3]} a^{[2]} + b^{[3]}))  +  (1-y^{(i)}) \\frac{\\partial}{\\partial W^{[3]}} (\\log(1-\\sigma(W^{[3]} a^{[2]} + b^{[3]})))]$\n",
    "\n",
    "- The reason we have $a^{[2]}$ in this equation is because  $a^{[2]}$ is one of the parameter and input for $Z^{[3]}$  activation node\n",
    "\n",
    "<img src=\"images/11_nn_propagationEq.png\" width=400 height=400>  \n",
    "$\\tiny{\\text{YouTube-Stanford-CS229-Andrew Ng/Kian Katanforoosh}}$   "
   ]
  },
  {
   "cell_type": "markdown",
   "id": "307b5d66",
   "metadata": {},
   "source": [
    "#### Breaking down derivative \n",
    "- There is a composition of three functions here:\n",
    "  - logarithm\n",
    "  - sigmoid\n",
    "  - linear function\n",
    "- Derivative of log function\n",
    "> $(\\log x)' = \\frac{1}{x}$\n",
    "- Derivative of sigmoid function $\\sigma(x) = \\frac{1}{1+e^{-x}}$\n",
    "> $\\sigma'(x) = \\sigma(x)(1-\\sigma(x))$\n",
    "- Derivative of log of sigmoid function $\\log\\sigma(..)$ wrt $W^{[3]}$\n",
    "> $\\frac{\\partial \\log\\sigma(..)}{\\partial w} = \\frac{1}{\\log\\sigma(..)} \\frac{\\partial\\sigma(..)}{W^{[3]}}$\n",
    "- Derivative of log of sigmoid function $\\log\\sigma(Z^{[3]})$ wrt $W^{[3]}$\n",
    "> $\\begin{equation}\\\\\n",
    "\\begin{aligned}\\\\\n",
    "\\frac{\\partial \\log\\sigma(Z^{[3]})}{\\partial W^{[3]}} &= \\frac{1}{\\sigma(Z^{[3]})} \\frac{\\partial\\sigma(Z^{[3]})}{\\partial W^{[3]}}\\\\\n",
    "&= \\frac{1}{a^{[3]}} \\frac{\\partial\\sigma(W^{[3]}a^{[2]} + b^{[3]} )}{\\partial W^{[3]}}\\\\\n",
    "\\end{aligned}\\\\\n",
    "\\end{equation}$\n",
    "  - Applying derivative of sigmoid function from above  \n",
    "> $\\begin{equation}\\\\\n",
    "\\begin{aligned}\\\\\n",
    "&= \\frac{1}{a^{[3]}}.{a^{[3]}(1-a^{[3]})}. \\frac{\\partial(W^{[3]}a^{[2]} + b^{[3]} )}{\\partial W^{[3]}}\\\\\n",
    "\\end{aligned}\\\\\n",
    "\\end{equation}$\n",
    "- Derivative of linear function $Z^{[3]}$ wrt $W^{[3]}$\n",
    "> $\\frac{\\partial}{\\partial W^{[3]}}(W^{[3]}a^{[2]} + b^{[3]}) = a^{[2]T}$\n",
    "  - Matrix shape of linear function $(W^{[3]}a^{[2]} + b^{[3]})$ is (1,1)\n",
    "  - Matrix shape of $W^{[3]}$ is (1,2) because it is connected to 2 neurons\n",
    "    - So the matrix shape of whole derivative will be the shape of $W^{[3]}$ i.e., (1,2)\n",
    "    - because we are taking the derivative of scalar (numerator) wrt higher dimension matrix, i.e., row vector(denominator) here. \n",
    "  - if not in matrix form, derivative of linear function would be $a^{[2]}$. But the shape of $a^{[2]}$ is (2,1) which will not match with the overall derivative shape which is (1,2). So the result should be in $a^{[2]T}$ which will have the same shape as $W^{[3]}$\n",
    "    - (1,2)\n",
    "- Derivative of log of sigmoid function $\\log\\sigma(Z^{[3]})$ wrt $W^{[3]}$ (contd from above)\n",
    "> $\\begin{equation}\\\\\n",
    "\\begin{aligned}\\\\\n",
    "\\frac{\\partial \\log\\sigma(Z^{[3]})}{\\partial W^{[3]}} &= \\frac{1}{a^{[3]}}.{a^{[3]}(1-a^{[3]})}.  \\frac{\\partial(W^{[3]}a^{[2]} + b^{[3]} )}{\\partial W^{[3]}}\\\\ \n",
    "&= \\frac{1}{a^{[3]}}.{a^{[3]}(1-a^{[3]})}.  a^{[2]T}\\\\ \n",
    "\\end{aligned}\\\\\n",
    "\\end{equation}$\n",
    "- Similarly derivative of 2nd log piece of sigmoid function $(1-\\log\\sigma(Z^{[3]}))$ wrt $W^{[3]}$ \n",
    "> $\\begin{equation}\\\\\n",
    "\\begin{aligned}\\\\\n",
    "\\frac{\\partial (1-\\log\\sigma(Z^{[3]}))}{\\partial W^{[3]}} &= \\frac{1}{1-a^{[3]}}.(-1){a^{[3]}(1-a^{[3]})}.  a^{[2]T}\\\\ \n",
    "\\end{aligned}\\\\\n",
    "\\end{equation}$\n"
   ]
  },
  {
   "cell_type": "markdown",
   "id": "12951a42",
   "metadata": {},
   "source": [
    "\n",
    "<img src=\"images/11_calculus1.png\" width=400 height=400>  \n",
    "$\\tiny{\\text{YouTube-Stanford-CS229-Andrew Ng/Kian Katanforoosh}}$   \n",
    "\n",
    "\n",
    "<img src=\"images/11_calculus2.png\" width=400 height=400>  \n",
    "$\\tiny{\\text{YouTube-Stanford-CS229-Andrew Ng/Kian Katanforoosh}}$   \n",
    "\n",
    "\n"
   ]
  },
  {
   "cell_type": "markdown",
   "id": "dc429cf6",
   "metadata": {},
   "source": [
    "- (Continuing from above) derivative of loss function wrt to $W^{[3]}$\n",
    "> $\\begin{equation}\\\\\n",
    "\\begin{aligned}\\\\\n",
    "\\frac{\\partial L}{\\partial W^{[3]}} &= - [y^{(i)} \\frac{\\partial}{\\partial W^{[3]}} (\\log\\sigma(W^{[3]} a^{[2]} + b^{[3]})) + (1-y^{(i)}) \\frac{\\partial}{\\partial W^{[3]}} (\\log(1-\\sigma(W^{[3]} a^{[2]} + b^{[3]})))]\\\\\n",
    "&= - [y^{(i)} \\frac{1}{a^{[3]}}.{a^{[3]}(1-a^{[3]})}. a^{[2]T} + (1-y^{(i)}) \\frac{1}{1-a^{[3]}}.(-1){a^{[3]}(1-a^{[3]})}. a^{[2]T}]\\\\\n",
    "&= -[y^{(i)}(1-a^{[3]})a^{[2]T} -  (1-y^{(i)})a^{[3]}a^{[2]T}]\\\\\n",
    "&= -[y^{(i)}a^{[2]T} - a^{[3]}a^{[2]T}]\\\\\n",
    "&= -(y^{(i)} - a^{[3]})a^{[2]T}\\\\\n",
    "\\end{aligned}\\\\\n",
    "\\end{equation}$\n",
    "\n",
    "\n",
    "<img src=\"images/11_backpropagationEq.png\" width=400 height=400>  \n",
    "$\\tiny{\\text{YouTube-Stanford-CS229-Andrew Ng/Kian Katanforoosh}}$   \n",
    "\n",
    "\n"
   ]
  },
  {
   "cell_type": "markdown",
   "id": "0b518137",
   "metadata": {},
   "source": [
    "#### Derivative of cost function wrt $W^{[3]}$\n",
    "> $\\frac{\\partial J}{\\partial W^{[3]}} = -\\frac{1}{m}\\sum\\limits_{i=1}^{m}(y^{(i)} - a^{[3]})a^{[2]T}$"
   ]
  },
  {
   "cell_type": "markdown",
   "id": "87810032",
   "metadata": {},
   "source": [
    "#### Derivative of loss function wrt $W^{[2]}$\n",
    "\n",
    "> $\\frac{\\partial L}{\\partial W^{[2]}} = \\frac{\\partial L}{\\partial a^{[3]}} \\frac{\\partial a^{[3]}}{\\partial Z^{[3]}} \\frac{\\partial Z^{[3]}}{\\partial a^{[2]}} \\frac{\\partial a^{[2]}}{\\partial Z^{[2]}} \\frac{\\partial Z^{[2]}}{\\partial W^{[2]}} $\n",
    "\n",
    "\n",
    "<img src=\"images/11_nn1.png\" width=400 height=400>  \n",
    "$\\tiny{\\text{YouTube-Stanford-CS229-Andrew Ng/Kian Katanforoosh}}$   \n"
   ]
  },
  {
   "cell_type": "markdown",
   "id": "38fa4762",
   "metadata": {},
   "source": [
    "#### Backpropagation using chain rule \n",
    "- What is the thought process of writing chain rule?\n",
    "  - We need to take derivative wrt variables thorough which errors will backpropagate. We dont want errors to get stuck. We need to go through variables that are connected to each other.\n",
    "  - $\\hat{y}$ also called $a^{[3]}$ is the first thing that is connected to loss function\n",
    "  - $\\frac{\\partial L}{\\partial a^{[3]}}$ - the output neuron is directly connected to loss function \n",
    "  - $\\frac{\\partial a^{[3]}}{\\partial Z^{[3]}}$ - $a^{[3]}$ which is the output activation of the last neuron is connected to the linear part of the last neuron which is $Z^{[3]}$ \n",
    "    - which will be derivative of sigmoid ($\\sigma'(x)$) because $a^{[3]} = \\sigma({Z^{[3]}})$ and $\\sigma'(x) = \\sigma(x)(1-\\sigma(x))$\n",
    "  - $\\frac{\\partial Z^{[3]}}{\\partial a^{[2]}}$ - We know $Z^{[3]} = W^{[3]}a^{[2]} + b^{[3]}$\n",
    "    - which path should we take in order to back propagate?\n",
    "      - Not $W^{[3]}$, as we will be stuck\n",
    "      - Not $b^{[3]}$, as we will be stuck\n",
    "      - we should derivate wrt $a^{[2]}$, as it is connected to $Z^{[2]}$ and $Z^{[2]}$ is connected to $a^{[1]}$, and then we can backpropagate using this path\n",
    "  - $\\frac{\\partial a^{[2]}}{\\partial Z^{[2]}}$ - from above\n",
    "  - $\\frac{\\partial Z^{[2]}}{\\partial W^{[2]}}$ - from above"
   ]
  },
  {
   "cell_type": "markdown",
   "id": "9b8e1b47",
   "metadata": {},
   "source": [
    "#### How to use the derivative of loss function wrt $W^{[3]}$ in derivative of loss function wrt $W^{[2]}$\n",
    "- Term 1 and 2\n",
    "  - We calculated earlier\n",
    "  > $\\frac{\\partial L}{\\partial W^{3}} = -(y^{(i)} - a^{[3]}) = (a^{[3]} - y^{(i)})$\n",
    "  - But\n",
    "  > $\\frac{\\partial L}{\\partial W^{3}} = \\frac{\\partial L}{\\partial a^{3}} \\frac{\\partial a^{3}}{\\partial W^{3}} $\n",
    "  - So\n",
    "  > $\\frac{\\partial L}{\\partial a^{3}} \\frac{\\partial a^{3}}{\\partial W^{3}} = (a^{[3]} - y^{(i)})$\n",
    "- Term 3\n",
    "  - We calculated earlier\n",
    "  > $Z^{[3]} = W^{[3]}a^{[2]}+b^{[3]}$  \n",
    "  - So\n",
    "  > $\\frac{\\partial Z^{[3]}}{\\partial a^{[2]}} = W^{[3]T}$\n",
    "  - Why transpose?\n",
    "    - Size of $Z^{[3]}$ - (1,1)\n",
    "    - Size of $a^{[2]}$ - (2,1)\n",
    "    - Size of $W^{[3]}$ - (1,2) - so we need to transpose this - $W^{[3]T}$\n",
    "- Term 4\n",
    "  - This is the derivative of sigmoid ($\\sigma'(x)$) because $a^{[2]} = \\sigma({Z^{[2]}})$ and $\\sigma'(x) = \\sigma(x)(1-\\sigma(x))$\n",
    "  > $\\frac{\\partial a^{[2]}}{\\partial Z^{[2]}} = a^{[2]}(1 - a^{[2]})$\n",
    "    - sigmoid times 1 minus sigmoid\n",
    "- Term 5\n",
    "  - As calculated earlier, derivative of linear function $Z^{[3]}$ wrt $W^{[3]}$\n",
    "  > $\\frac{\\partial Z^{[3]}}{\\partial W^{[3]}} = \\frac{\\partial}{\\partial W^{[3]}}(W^{[3]}a^{[2]} + b^{[3]}) = a^{[2]T}$\n",
    "  - So derivative of linear function $Z^{[2]}$ wrt $W^{[2]}$\n",
    "  > $\\frac{\\partial Z^{[2]}}{\\partial W^{[2]}} = \\frac{\\partial}{\\partial W^{[2]}}(W^{[2]}a^{[1]} + b^{[2]}) = a^{[1]T}$\n"
   ]
  },
  {
   "cell_type": "markdown",
   "id": "705a6473",
   "metadata": {},
   "source": [
    "#### Derivative of loss function wrt $W^{[2]}$ (contd)\n",
    "> $\\begin{equation}\\\\\n",
    "\\begin{aligned}\\\\\n",
    "\\frac{\\partial L}{\\partial W^{[2]}} &= \\frac{\\partial L}{\\partial a^{[3]}} \\frac{\\partial a^{[3]}}{\\partial Z^{[3]}} \\frac{\\partial Z^{[3]}}{\\partial a^{[2]}} \\frac{\\partial a^{[2]}}{\\partial Z^{[2]}} \\frac{\\partial Z^{[2]}}{\\partial W^{[2]}}\\\\ \n",
    "&= (a^{[3]} - y^{(i)}).W^{[3]T}.a^{[2]}(1 - a^{[2]}).a^{[1]T}\\\\\n",
    "\\end{aligned}\\\\\n",
    "\\end{equation}$\n",
    "- Size of matrix: \n",
    "> $(2,3) = (1,1).(2,1).(2,1).(1,3)$\n",
    "  - This is not correct\n",
    "- For derivative of sigmoid we use element wise product (Details in the note)\n",
    "  > $W^{[3]T}*a^{[2]}(1 - a^{[2]})$\n",
    "- Rearranging elements we get\n",
    "  > $\\{\\{\\{W^{[3]T}*a^{[2]}(1 - a^{[2]})\\}.(a^{[3]} - y^{(i)})\\}.a^{[1]T}\\}$\n",
    "- Matrix size \n",
    "  > $\\{\\{\\{(2,1)*(2,1)\\}.(1,1)\\}.(1,3)\\}$\n",
    "  \n",
    "\n",
    "\n",
    "<img src=\"images/12_derivativeOfLossFunw2.png\" width=400 height=400>  \n",
    "$\\tiny{\\text{YouTube-Stanford-CS229-Andrew Ng/Kian Katanforoosh}}$   \n"
   ]
  },
  {
   "cell_type": "markdown",
   "id": "0b982355",
   "metadata": {},
   "source": [
    "- The results must be cached during forward propagation so that it gets reused during backward propagation step\n",
    "- It results in computational efficiency\n"
   ]
  },
  {
   "cell_type": "markdown",
   "id": "cce36d35",
   "metadata": {},
   "source": [
    "### Improving Neural Networks\n",
    "- Use different activation functions\n",
    "  - One of the activation function we used was sigmoid function\n",
    "    - Sigmoid $\\sigma(z) = \\frac{1}{1+e^{-z}}$\n",
    "      - this ranges from 0 to 1\n",
    "      - adv: it is used for classification as probability\n",
    "      - disadv: if you have high or low z's (activation), the gradient is very close to 0\n",
    "        - __it works very well in the linear regime but has trouble working in saturating regimes because the network doesn't update parameters properly__ \n",
    "        - __What is the problem with low gradients/saturating regimes?__\n",
    "          - when we backpropagate, if z we cached was big, the gradient will be very small and it will be super hard to update parameters that are early in the network because the gradient will be negligible\n",
    "    - $\\sigma'(x) = \\sigma(x)(1-\\sigma(x))$\n",
    "  - Other activation function we used was ReLU\n",
    "    - ReLU(z) = $\\begin{equation}\n",
    "    \\begin{cases}\n",
    "      0 & \\text{if } z \\le 0\\\\\n",
    "      z & \\text{if } z \\gt 0\\\\\n",
    "    \\end{cases} \\end{equation}$  \n",
    "      - adv: if z is very big in positives, there is no saturation, the gradient will be 1\n",
    "        - In house prediction problem, it makes sense to use ReLU compared to sigmoid or tanh, because the value is within 0 to $+\\infty$  \n",
    "    - ReLU'(z) = $\\mathbb 1\\{z \\gt 0\\}$\n",
    "  - one other commonly used activation function is tanh\n",
    "    - tanh(z) = $\\frac{e^{z} - e^{-z}}{e^{z} + e^{-z}}$\n",
    "      - this ranges from -1 to 1\n",
    "      - adv: this is used in problems where there is positive reward or negative reward like in reinforcement learning\n",
    "      - disadv: same as sigmoid\n",
    "    - tanh'(z) = 1 - tanh(z)$^{2}$\n",
    "  "
   ]
  },
  {
   "cell_type": "markdown",
   "id": "5e2ffe61",
   "metadata": {},
   "source": [
    "#### Why do we need activation functions\n",
    "- Lets say we use identity function as activation function $z \\rightarrowtail z$\n",
    "- Lets derive forward propagation\n",
    "\n",
    "<img src=\"images/12_identityFun1.png\" width=400 height=400>  \n",
    "$\\tiny{\\text{YouTube-Stanford-CS229-Andrew Ng/Kian Katanforoosh}}$   \n",
    "\n",
    "<img src=\"images/12_identityFun2.png\" width=400 height=400>  \n",
    "$\\tiny{\\text{YouTube-Stanford-CS229-Andrew Ng/Kian Katanforoosh}}$   \n",
    "\n",
    "\n",
    "- from this we see that we need activation functions \n",
    "- otherwise no matter how deep your network is, it will be equivalent to linear regression\n",
    "- generally we use the same activation function in the whole network\n",
    "- there are experiments using different activation function in different layers of network, but the consensus is using a single activation function\n"
   ]
  },
  {
   "cell_type": "markdown",
   "id": "2f89eb6e",
   "metadata": {},
   "source": [
    "#### Initialization Methods\n",
    "- If z is too small or too big, it will lead to saturation of network\n",
    "- Inorder to avoid that we can use normalization of input\n",
    "- One method is to take average of x's and take difference of x's with the average. This method brings examples on the axes, but they are still dissipated\n",
    "- to fully solve the problem, divide the x's by standard dev. This method centers examples on the \n",
    "- what is good about this method?\n",
    "  - Earlier the loss function contours were ellipsoidal in nature, so gradient descent algorithm took multiple iteration to reach over the global minima\n",
    "  - with examples normalized, the gradient descent points towards the middle\n",
    "  - that is the reason why the second loss function is easier to train \n",
    "- __Important point__: __the $\\sigma$ and $\\mu$ computed over the training set must be used over the test set as well.__ We should not compute the mean and standard deviation of the test set and normalize your test inputs through the network because your network is not used to seeing this type of transformation as an input. We want the distribution of inputs at the first neuron to be always the same, no matter if it is train or test set.\n",
    "\n",
    "<img src=\"images/12_normalizationMethod1.png\" width=400 height=400>  \n",
    "$\\tiny{\\text{YouTube-Stanford-CS229-Andrew Ng/Kian Katanforoosh}}$   \n",
    "\n",
    "<img src=\"images/12_normalizationMethod2.png\" width=400 height=400>  \n",
    "$\\tiny{\\text{YouTube-Stanford-CS229-Andrew Ng/Kian Katanforoosh}}$   \n"
   ]
  },
  {
   "cell_type": "markdown",
   "id": "3bbaaa38",
   "metadata": {},
   "source": [
    "#### Vanishing/Exploding gradients\n",
    "- Lets consider very deep network, with identity activation function and zero bias, the $\\hat{y}$ and gradient will explode if the number is higher than 1 or the gradient will vanish if it is lower than 1. \n",
    "- The solution is initialize the weights properly, with right range of values\n",
    "- The weight range should be as close as 1, which will avoid the vanishing/exploding gradients problem\n",
    "\n",
    "\n",
    "<img src=\"images/12_vanishExplodeNN.png\" width=400 height=400>  \n",
    "$\\tiny{\\text{YouTube-Stanford-CS229-Andrew Ng/Kian Katanforoosh}}$   \n",
    "\n"
   ]
  },
  {
   "cell_type": "markdown",
   "id": "b4fba496",
   "metadata": {},
   "source": [
    "#### Initialization problem\n",
    "- Example with 1 neuron\n",
    "  - if the number of features are large, we should have small weight, otherwise z will explode \n",
    "\n",
    "<img src=\"images/12_weightRange.png\" width=400 height=400>  \n",
    "$\\tiny{\\text{YouTube-Stanford-CS229-Andrew Ng/Kian Katanforoosh}}$   \n",
    "\n",
    "- Few other intializations\n",
    "\n",
    "<img src=\"images/12_otherInitialization.png\" width=400 height=400>  \n",
    "$\\tiny{\\text{YouTube-Stanford-CS229-Andrew Ng/Kian Katanforoosh}}$   \n",
    "\n"
   ]
  },
  {
   "cell_type": "markdown",
   "id": "6b77a253",
   "metadata": {},
   "source": [
    "#### Optimization\n",
    "- Gradient Descent\n",
    "- Stochastic Gradient Descent\n",
    "- Batch Gradient Descent\n",
    "- Mini-Batch Gradient Descent\n",
    "  - trade-off between stochasticity and vectorization\n",
    "  \n",
    "##### Notation\n",
    "- m training example\n",
    "> $X = \\left(x^{(1)} x^{(2)} ... x^{(m)}\\right)$\n",
    "> $Y = \\left(y^{(1)} y^{(2)} ... y^{(m)}\\right)$\n",
    "- T batches each containing 1000 training example\n",
    "> $X = \\left(X^{\\{1\\}} X^{\\{2\\}} ... X^{\\{T\\}}\\right)$\n",
    "> $Y = \\left(Y^{\\{1\\}} Y^{\\{2\\}} ... Y^{\\{T\\}}\\right)$\n",
    "\n",
    "<img src=\"images/12_miniBatchGD.png\" width=400 height=400>  \n",
    "$\\tiny{\\text{YouTube-Stanford-CS229-Andrew Ng/Kian Katanforoosh}}$   \n",
    "\n",
    "\n",
    "\n",
    "##### Momentum Gradient Descent\n",
    "- loss is extended a lot in one direction compared to the other\n",
    "- the gd will be orthogonal to the contour\n",
    "- we would be interested in moving faster/larger update in horizontal line and slower/smaller update in vertical side\n",
    "- momentum tells us look at the past update and take an average of the past update \n",
    "> $v := \\beta v + (1-\\beta)\\frac{\\partial L}{\\partial w}$  \n",
    "> $w := w - \\alpha v$  \n",
    "- velocity variable tracks the direction that we should take for the current iteration with a factor/weight beta\n",
    "- in terms of implementation/memory it is just one more line of code, but gives lot of efficiency\n",
    "\n",
    "<img src=\"images/12_momentumGD.png\" width=400 height=400>  \n",
    "$\\tiny{\\text{YouTube-Stanford-CS229-Andrew Ng/Kian Katanforoosh}}$   \n",
    "\n",
    "\n"
   ]
  }
 ],
 "metadata": {
  "kernelspec": {
   "display_name": "Python 3",
   "language": "python",
   "name": "python3"
  },
  "language_info": {
   "codemirror_mode": {
    "name": "ipython",
    "version": 3
   },
   "file_extension": ".py",
   "mimetype": "text/x-python",
   "name": "python",
   "nbconvert_exporter": "python",
   "pygments_lexer": "ipython3",
   "version": "3.8.8"
  },
  "toc": {
   "base_numbering": 1,
   "nav_menu": {},
   "number_sections": true,
   "sideBar": true,
   "skip_h1_title": false,
   "title_cell": "Table of Contents",
   "title_sidebar": "Contents",
   "toc_cell": false,
   "toc_position": {},
   "toc_section_display": true,
   "toc_window_display": true
  }
 },
 "nbformat": 4,
 "nbformat_minor": 5
}
