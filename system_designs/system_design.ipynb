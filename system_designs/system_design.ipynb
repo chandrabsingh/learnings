{
 "cells": [
  {
   "cell_type": "markdown",
   "id": "e0988e7c",
   "metadata": {},
   "source": [
    "### Git design\n",
    "- how does git work\n",
    "----\n",
    "\n"
   ]
  },
  {
   "cell_type": "markdown",
   "id": "e594e271",
   "metadata": {},
   "source": [
    "### Unix architecture\n",
    "----"
   ]
  },
  {
   "cell_type": "markdown",
   "id": "77bad08c",
   "metadata": {},
   "source": [
    "### Windows architecture\n",
    "----"
   ]
  },
  {
   "cell_type": "markdown",
   "id": "d9ac0e25",
   "metadata": {},
   "source": [
    "### Linux vs Windows\n",
    "- how does linux and windows differ\n",
    "----"
   ]
  },
  {
   "cell_type": "markdown",
   "id": "db481174",
   "metadata": {},
   "source": [
    "### Recommender system\n",
    "* [Recommender system](https://en.wikipedia.org/wiki/Recommender_system)\n",
    "- what is collaborative filtering\n",
    "- what is content based filtering\n",
    "- Hybrid recommender system\n",
    "  - combining collaborative filtering, content-based filtering, and other approaches\n",
    "----"
   ]
  },
  {
   "cell_type": "markdown",
   "id": "55ef7fb4",
   "metadata": {},
   "source": [
    "### Amazon\n",
    "  - how does amazon work\n",
    "----"
   ]
  },
  {
   "cell_type": "markdown",
   "id": "a92ea877",
   "metadata": {},
   "source": [
    "### Cold start problem in Netflix or Amazon\n",
    "  - how does a recommender system deal with cold start problem - MAB\n",
    "-----"
   ]
  },
  {
   "cell_type": "markdown",
   "id": "3f88c050",
   "metadata": {},
   "source": [
    "### Netflix\n",
    "- How does netflix work?\n",
    "  - how does netflix maintain its viewing history?\n",
    "  - how does netflix maintain its viewing progress?\n",
    "  - what type of recommendation algorithms does it use?\n",
    "  - what are the key metrics to the algorithm?\n",
    "  - how does netflix make recommendation to an existing user?\n",
    "  - how does netflix make recommendation to a new user?\n",
    "  - how does netflix \n",
    "  - how does netflix maintain its viewing history in memory?\n",
    "  - how does netflix scale out?\n",
    "  - how does netflix concurrently stream/handle multiple users?\n",
    "  - how does netflix partition data? by user? by locality? by country? \n",
    "  - what are the fallback mechanisms that it adopts?\n",
    "  - how is the data partitioning done\n",
    "    - horizontal\n",
    "    - vertical\n",
    "    - load balancing\n",
    "    - distributed computing\n",
    "    - on cloud\n",
    "    - fallback mechanisms\n",
    "    - replication mechanisms\n",
    "    - fault tolerance\n",
    "    - throughput/response time\n",
    "    - caching mechanisms\n",
    "    - \n",
    "    \n",
    "\n",
    "- [Netflix Github repository](https://github.com/Netflix)\n",
    "- [Netflix Viewing Data](https://netflixtechblog.com/netflixs-viewing-data-how-we-know-where-you-are-in-house-of-cards-608dd61077da)\n",
    "\n",
    "----"
   ]
  },
  {
   "cell_type": "markdown",
   "id": "b9d53902",
   "metadata": {},
   "source": [
    "### Microservices\n",
    "- [Microservices](https://martinfowler.com/articles/microservices.html)\n",
    "----"
   ]
  },
  {
   "cell_type": "markdown",
   "id": "96a071f0",
   "metadata": {},
   "source": [
    "### Database design\n",
    "- New database design consideration/evolution\n",
    "- SQL vs NoSQL\n",
    "- RDBMS\n",
    "- Cassandra\n",
    "- MongoDB\n",
    "- Reddis\n",
    "- Kafka\n",
    "- BigData\n",
    "- Data warehousing\n",
    "- OLAP\n",
    "- OLTP\n",
    "\n",
    "----"
   ]
  },
  {
   "cell_type": "markdown",
   "id": "e6a2c616",
   "metadata": {},
   "source": [
    "### Cassandra\n",
    "\n",
    "  - Cassandra\n",
    "    - started by Facebook\n",
    "    - NoSQL open source database\n",
    "    - now licensed as Apache project\n",
    "    - stores data in key:value store/pair compared to document store in MongoDB\n",
    "    - the underlying architecture supports clusters by master list and not master-slave concept\n",
    "    - can easily configure nodes in cluster for replication\n",
    "    - gossip\n",
    "        - nodes are connected in the form of ring\n",
    "        - when request comes, the request goes to one node in the cluster\n",
    "        - the particular node will write into the database of its local node\n",
    "        - then it gossips it to the other nodes in the cluster\n",
    "    - failure detection\n",
    "        - it works on the principal of master list \n",
    "        - so there is no central database\n",
    "        - if one node goes down\n",
    "        - the second node gets the request and processes it\n",
    "    - split/replication\n",
    "      - say there is one year worth of data\n",
    "      - this can be split in 12 nodes of a cluster\n",
    "      - with each node containing one month data\n",
    "      - or 2 nodes containing Jan data and likewise\n",
    "    - data writes/data\n",
    "      - it writes data faster than relational database\n",
    "      - [DZone cassandra](https://dzone.com/articles/introduction-apache-cassandras)\n",
    "      - it supports unstructured data\n",
    "      - it doesnot support relationship like RDBMS but supports collections\n",
    "      - so database fit must be analyzed before\n",
    "      - it first writes into the commit log and then into the memtable\n",
    "      - memtable is an-inmemory structure and is written only when memtable is flushed into the disk\n",
    "        - It reaches its maximum allocated size in memory\n",
    "        - The number of minutes a memtable can stay in memory elapses.\n",
    "        - Manually flushed by a user\n",
    "    - how are schemas maintained\n",
    "      - KeySpace is similar concept to RDBMS schema\n",
    "        - each keyspace defines its specific replication strategy\n",
    "      - columns are synonymous to RDBMS columns\n",
    "      - but each rows here can have different number of columns, which is managed as map of sorted maps\n",
    "      > Map<RowKey, SortedMap<ColumnKey, ColumnValue>>\n",
    "      - its called CQL - Cassandra Query Language\n",
    "      \n",
    "      \n",
    "<img src=\"images/Cassandra-Write-Path-Ring.png\" width=600 height=600>  \n",
    "$\\tiny{\\text{DZone - Cassandra-Write-Path-Ring}}$   \n",
    "    \n",
    "    \n",
    "<img src=\"images/Cassandra-Write-Path.jpeg\" width=600 height=600>  \n",
    "$\\tiny{\\text{DZone - Cassandra-Write-Path}}$   \n",
    "\n",
    "----"
   ]
  },
  {
   "cell_type": "markdown",
   "id": "35a09675",
   "metadata": {},
   "source": [
    "### Cloud design\n",
    "- [Cloud design considerations]()\n",
    "----"
   ]
  },
  {
   "cell_type": "markdown",
   "id": "e890c904",
   "metadata": {},
   "source": [
    "### AWS vs Azure vs Google Cloud\n",
    "----"
   ]
  },
  {
   "cell_type": "markdown",
   "id": "71a8d4e7",
   "metadata": {},
   "source": [
    "### Amazon Web Services\n",
    "- Infrastructure as a service\n",
    "  - ec2 - virtual machine\n",
    "    - launch any application\n",
    "    - based on memory requirement\n",
    "    - configure with different data centers\n",
    "    - install software and get started\n",
    "- Platform as a service\n",
    "  - not interested in virtual machine\n",
    "  - but use platform\n",
    "  - use elastic beanstalk\n",
    "  - we deploy our application\n",
    "  - which gets deployed on AWS cloud\n",
    "  - no control on middleware such as Java\n",
    "- Software as a service\n",
    "- Database as a service\n",
    "  - RDBMS\n",
    "  - Load balancing services\n",
    "- flexible billings\n",
    "\n",
    "----\n",
    "- Services\n",
    "  - Batch\n",
    "    - can run batch/overnight applications\n",
    "  - Lambda\n",
    "    - based on event triggered, a program will run and will give response back\n",
    "    - no server is running in background\n",
    "    - server gets initialized when the request comes in\n",
    "    - server will be initialized, it will be served and then will be destroyed once complete\n",
    "  - Elastic container service\n",
    "    - equivalent to docker container\n",
    "    - deploy containers into AWS\n",
    "  - Developer tools\n",
    "    - CodeStar/CodeCommit/CodeBuild/CodeDeploy\n",
    "    - code, build, deploy and pipe it into the queue\n",
    "  - Services for Machine Learning\n",
    "    - to check\n",
    "  - Storage \n",
    "    - S3\n",
    "      - simple storage\n",
    "      - can use in any of the computing design pattern\n",
    "    - EFS\n",
    "    - Glacier\n",
    "    - Storage Gateway\n",
    "  - Management Tools\n",
    "    - CloudWatch\n",
    "    - AWS Auto scaling\n",
    "      - automatically deploy and spawn new instance of say Tomcat server\n",
    "  - Analytics\n",
    "    - Athena\n",
    "    - EMR\n",
    "    - CloudSearch\n",
    "  - Security\n",
    "  - Migration services\n",
    "  - Networking"
   ]
  },
  {
   "cell_type": "markdown",
   "id": "4aaa4715",
   "metadata": {},
   "source": [
    "### Chaos Engineering\n",
    "- discipline of experimenting distributed system in production to build system capability\n",
    "- designed by Netflix\n",
    "- nothing breaks in production\n",
    "- if it breaks how do we address system availability\n",
    "- helps in identifying loopholes in system\n",
    "- what are the principles\n",
    "  - build a hypothesis around steady state behaviour\n",
    "  - real world events\n",
    "    - plugging out the real world scenario and experimenting on it\n",
    "    - increasing the traffic\n",
    "    - adding failure events\n",
    "    - adding non-expected events\n",
    "  - run experiments in production\n",
    "  - automate experiments in a continuous manner\n",
    "  - minimize the blast radius\n",
    "    - identify the problem and localize the problem to an extent\n",
    "    - live traffic does not get impacted heavily or is minimalized\n",
    "- how does it work in AWS \n",
    "  - different services are launched for NA-East, NA-West, EU-East, EU-West and APAC\n",
    "  - if one service goes down the traffic is rerouted to another service and server request is handled by another service\n",
    "- Open Source Tools \n",
    "  - Netflix \n",
    "    - Chaos Monkey\n",
    "      - randomly kills a service not a server in production\n",
    "      - identify resilence\n",
    "      - checks system behaviour\n",
    "    - Chaos Gorilla\n",
    "      - kill entire availability zone\n",
    "      - NA West will be killed\n",
    "    - Chaos Kong\n",
    "      - kill the whole region\n",
    "    - Latency Monkey\n",
    "      - delay the response\n",
    "  - Facebook\n",
    "    - Facebook Storm\n",
    "      - datacenter goes down\n",
    "  - AWS\n",
    "    - AWS gamedays"
   ]
  },
  {
   "cell_type": "markdown",
   "id": "f228d44e",
   "metadata": {},
   "source": []
  },
  {
   "cell_type": "markdown",
   "id": "268209e6",
   "metadata": {},
   "source": []
  },
  {
   "cell_type": "markdown",
   "id": "a54ae2fc",
   "metadata": {},
   "source": []
  },
  {
   "cell_type": "markdown",
   "id": "b99de437",
   "metadata": {},
   "source": []
  },
  {
   "cell_type": "markdown",
   "id": "65bc0d13",
   "metadata": {},
   "source": []
  },
  {
   "cell_type": "markdown",
   "id": "941464df",
   "metadata": {},
   "source": [
    "### Intelligent Automation \n",
    "----"
   ]
  }
 ],
 "metadata": {
  "kernelspec": {
   "display_name": "Python 3",
   "language": "python",
   "name": "python3"
  },
  "language_info": {
   "codemirror_mode": {
    "name": "ipython",
    "version": 3
   },
   "file_extension": ".py",
   "mimetype": "text/x-python",
   "name": "python",
   "nbconvert_exporter": "python",
   "pygments_lexer": "ipython3",
   "version": "3.8.8"
  },
  "toc": {
   "base_numbering": 1,
   "nav_menu": {},
   "number_sections": true,
   "sideBar": true,
   "skip_h1_title": false,
   "title_cell": "Table of Contents",
   "title_sidebar": "Contents",
   "toc_cell": false,
   "toc_position": {},
   "toc_section_display": true,
   "toc_window_display": true
  }
 },
 "nbformat": 4,
 "nbformat_minor": 5
}
