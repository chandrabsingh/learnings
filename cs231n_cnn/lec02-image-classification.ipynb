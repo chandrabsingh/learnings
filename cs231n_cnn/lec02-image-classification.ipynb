{
 "cells": [
  {
   "cell_type": "markdown",
   "id": "d73b72c2",
   "metadata": {},
   "source": [
    ">>> Work in Progress (Following are the lecture notes of Prof Fei-Fei Li/Prof Justin Johnson/Prof Serena Yeung - CS231n - Stanford. This is my interpretation of their excellent teaching and I take full responsibility of any misinterpretation/misinformation provided herein.)"
   ]
  },
  {
   "cell_type": "markdown",
   "id": "7ded184d",
   "metadata": {},
   "source": [
    "### Lecture 2: Image Classification"
   ]
  },
  {
   "cell_type": "markdown",
   "id": "cea9fbe4",
   "metadata": {},
   "source": [
    "#### Syllabus  \n",
    "\n",
    "<img src=\"images/02_syllabus.png\" width=400 height=200>  \n",
    "$\\tiny{\\text{YouTube-Stanford-CS231n-Justin Johnson}}$   "
   ]
  },
  {
   "cell_type": "markdown",
   "id": "be95ab7a",
   "metadata": {},
   "source": [
    "#### Outline\n",
    "- Basic data driven approaches\n",
    "  - K-nearest neighbor and linear classifier(SVM, Softmax)\n",
    "- Image\n",
    "  - Tensor of integers [0,255]\n",
    "  - Challenges\n",
    "    - Viewpoint variation - pixels change when camera moves\n",
    "    - Scale variation\n",
    "    - Background Clutter\n",
    "    - Illumination\n",
    "    - Occulusion\n",
    "    - Deformation\n",
    "    - Intraclass variation\n",
    "    - find edges, find corners\n",
    "<br>\n",
    "- Machine Learning - data driven approach\n",
    "    - collect dataset of images and labels\n",
    "    - use ml algorithms to train classifier\n",
    "    - evaluate classifier on new images\n"
   ]
  },
  {
   "cell_type": "markdown",
   "id": "5178290d",
   "metadata": {},
   "source": [
    "#### Nearest Neighbor classifier   \n",
    "  - Distance metric to compare images  \n",
    "    - Manhattan or L1 distance   \n",
    "       - $d_{1}(I_{1}, I_{2}) = \\sum_{p}|I_{1}^{p} - I_{2}^{p}|$  \n",
    "  - Memorize the training data\n",
    "  - For each test image\n",
    "    - Find closest train image\n",
    "    - Predict label of nearest image\n",
    "      - Fast in training, slow in predicting\n",
    "        - We need training to be slow and fast predictions\n",
    "  - Nearest neighbor Classifier\n",
    "    - too noisy\n",
    "  - K-Nearest neighbor\n",
    "    - instead of copying label from nearest neighbor, take majority vote from K closest points\n",
    "    - smoothes out\n",
    "    - some vlue of K which is > 1, so it smoothens out the boundaries\n",
    "    - might be regions where there are no majority among the k-nearest neighbors\n",
    "    - "
   ]
  },
  {
   "cell_type": "markdown",
   "id": "d421fade",
   "metadata": {},
   "source": [
    "#### Computer vision\n",
    "- Two ways of seeing things\n",
    "  - Concrete way of viewing pixels\n",
    "  - Generalized/smoothened view\n",
    "  - can view images as 3-dimensional"
   ]
  },
  {
   "cell_type": "markdown",
   "id": "74e0d36d",
   "metadata": {},
   "source": [
    "#### Distance Metric\n",
    "- choosing different metric has different assumptions\n",
    "  - L1\n",
    "    - it depends on the coordinate system you choose, rotating will change L1\n",
    "    - if input features have some important meaning, then L1 migh be a more natural fit\n",
    "  - L2\n",
    "    - the coordinate system doesn't matter, rotating will not change L2\n",
    "    - if it is a generic vector in space, then L2 is more natural\n",
    "- by applying different distance/metric functions, we can classify the text, paragraphs, or images\n",
    "\n",
    "\n",
    "<img src=\"images/02_dist_metric.png\" width=400 height=400>  \n",
    "$\\tiny{\\text{YouTube-Stanford-CS231n-Justin Johnson}}$   \n"
   ]
  },
  {
   "cell_type": "markdown",
   "id": "db8f571a",
   "metadata": {},
   "source": [
    "#### Hyperparameters - What is happening geometrically?\n",
    "- Choose different distance metrics\n",
    "- Choose different K\n",
    "  - How do you set? Problem dependent\n",
    "    - Idea 1 - train only\n",
    "    - Idea 2 - train and test\n",
    "    - Idea 3 - split into training, validation and test\n",
    "    - Idea 4 - Cross validation - split into folds - not frequently used in deep learning\n",
    "      - 5 folds, cycle through each folds, validate using the folds each time\n",
    "      - useful for small datasets, but not used for large datasets\n",
    "    \n",
    "- Training vs Validation set\n",
    "  - training set is the set which has labels. to classify - take element and compare to each element in training data, and transfer the label from the nearest training point\n",
    "  - algorithm will memorize from the training set. Now take each element in the validation set and compare each element in training data and then use this to determine what is the accuracy of classifier when it's applied on the validation set\n",
    "  \n",
    "- Be aware of splitting data randomly otherwise time shift might occur in the train/test data sets\n",
    "\n",
    "- Setting hyperparameters\n",
    "  - 5-fold cross validation for the value of k\n",
    "    - distribution of performance\n",
    "    - what is the accuracy, performance as a function of hyperparameters\n",
    "    \n",
    "- k-Nearest neighbor on images are never used\n",
    "  - distance metrics are not informative\n",
    "  - L2 distance are the same for different variations of same \n",
    "  - Curse of dimensionality\n",
    "    - the classifier partitions the space\n",
    "    - for k-nearest classifier to work well, we need training examples to cover the space densely. Otherwise nearest neighbors would be far away and not actually be very similar to our testing points\n",
    "    - having more data points is exponential with the dimensions, which is bad\n",
    "    - would not get enough to cover the high dimensional space"
   ]
  },
  {
   "cell_type": "markdown",
   "id": "ef8d4b95",
   "metadata": {},
   "source": [
    "#### Linear Classification\n",
    "- helps in building neural network\n",
    "- Linear classifier - NN is like lego blocks, to build large CNN\n",
    "  - For example - input a image and output descriptive sentence of what the image is\n",
    "  - the way to do is:\n",
    "    - there is one CNN looking at the image\n",
    "    - and one RNN that knows about the language\n",
    "    - connect these two NN like lego boxes, resulting in a cool system\n",
    "    - and these linear classifier are the most basic building blocks of this network"
   ]
  },
  {
   "cell_type": "markdown",
   "id": "5045a0be",
   "metadata": {},
   "source": [
    "#### CIFAR10 dataset\n",
    "- 50000 training images each image is 32x32 pixel of 3 color channels(RGB)\n",
    "- 10000 test images\n",
    "\n",
    "Parametric Approach\n",
    "> Image(Array of 32x32x3 numbers) $\\rightarrow f(x, W) \\rightarrow$ 10 numbers giving class scores  \n",
    "> - where x - Image has 3072 numbers total)   \n",
    "> - and W is the parameters/weights  \n",
    "\n",
    "\n",
    "\n",
    "- larger score implies higher chances of x being cat\n",
    "\n",
    "Linear classifier\n",
    "> f(x,W) = Wx + b\n",
    "> - where f(x,W) is 10x1\n",
    "> - W is 10x3072\n",
    "> - x is 3072x1\n",
    "> - b is 10x1\n",
    "- f spits out 10x1 numbers giving class scores\n"
   ]
  },
  {
   "cell_type": "markdown",
   "id": "fd2b29e3",
   "metadata": {},
   "source": [
    "<img src=\"images/02_linearClassifier.png\" width=400 height=400>  \n",
    "$\\tiny{\\text{YouTube-Stanford-CS231n-Justin Johnson}}$   "
   ]
  }
 ],
 "metadata": {
  "kernelspec": {
   "display_name": "Python 3",
   "language": "python",
   "name": "python3"
  },
  "language_info": {
   "codemirror_mode": {
    "name": "ipython",
    "version": 3
   },
   "file_extension": ".py",
   "mimetype": "text/x-python",
   "name": "python",
   "nbconvert_exporter": "python",
   "pygments_lexer": "ipython3",
   "version": "3.8.8"
  },
  "toc": {
   "base_numbering": 1,
   "nav_menu": {},
   "number_sections": true,
   "sideBar": true,
   "skip_h1_title": false,
   "title_cell": "Table of Contents",
   "title_sidebar": "Contents",
   "toc_cell": false,
   "toc_position": {},
   "toc_section_display": true,
   "toc_window_display": true
  }
 },
 "nbformat": 4,
 "nbformat_minor": 5
}
