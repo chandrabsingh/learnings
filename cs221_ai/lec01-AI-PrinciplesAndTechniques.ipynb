{
 "cells": [
  {
   "cell_type": "markdown",
   "id": "548b9df9",
   "metadata": {},
   "source": [
    ">>> Work in Progress (Following are the lecture notes of Prof Percy Liang/Prof Dorsa Sadigh - CS221 - Stanford. This is my interpretation of his excellent teaching and I take full responsibility of any misinterpretation/misinformation provided herein.)"
   ]
  },
  {
   "cell_type": "markdown",
   "id": "46fdc723",
   "metadata": {},
   "source": [
    "## Lecture 01: Machine Learning 1 - AI Principles and Techniques | Stanford CS221\n",
    "\n",
    "<img src=\"images/01_history.png\" width=400 height=400>"
   ]
  },
  {
   "cell_type": "markdown",
   "id": "5ab65ec6",
   "metadata": {},
   "source": [
    "#### Course overview:\n",
    "\n",
    "- An intelligent agent\n",
    "  - Perception\n",
    "\n",
    "- Bias in machine translation - not distinction between he/she\n",
    " - open areas of research\n",
    "\n",
    "- AI agents - achieving human level intelligence\n",
    "- AI tools - consequences, making system that help human\n",
    "  - Predicting poverty\n",
    "  - saving energy in data centees\n",
    "  - self driving cars\n",
    "  - bias in machine translation(he/she)\n",
    "\n",
    "- Paradigm - How to solve complex AI problems - gap\n",
    "  - learn how to solve problem\n",
    "    - Modeling\n",
    "      - take real world problem, formulate simple mathematical models around it\n",
    "        - build best way to get around in the city using graphs\n",
    "    - Inference\n",
    "      - asking questions to the model\n",
    "        - what is the shortest path from point A to point B\n",
    "    - Learning\n",
    "      - where did this model come from\n",
    "        - Model without parameters (skeleton)\n",
    "        - by adding data\n",
    "        - Model with parameters (trained)\n",
    "        - go back and do inference and ask questions\n",
    "        \n",
    "----"
   ]
  },
  {
   "cell_type": "markdown",
   "id": "7084c2a4",
   "metadata": {},
   "source": [
    "#### Course plan\n",
    "- go from low level to high level intelligence\n",
    "  - Machine learning\n",
    "    - you have data, make a model around it, then have faith in the model to predict in future - generalization\n",
    "  - Reflex based model (low level intelligence)\n",
    "    - requires fix set of computation\n",
    "      - linear classifiers, deep neural networks\n",
    "  - State based model\n",
    "    - powerful and gives foresight\n",
    "    - chess - agents who can plan and think, like position in a game\n",
    "    - robotics - motion planning\n",
    "    - NLP - machine translation, \n",
    "    - 3 types of state based model problems\n",
    "      - Search problems \n",
    "        - you control everything - looking for best path\n",
    "      - Markov decision processes \n",
    "        - randomness - while going from point A to point B, there is traffic or \n",
    "        - you are rolling dice\n",
    "      - Adversial games\n",
    "        - playing against opponents - chess\n"
   ]
  },
  {
   "cell_type": "markdown",
   "id": "4620ce17",
   "metadata": {},
   "source": [
    "  - Variable based models\n",
    "    - for example - Sudoku - set of constraints - order in how you solve problem is not important, whereas in Chess its important\n",
    "    - 2 types\n",
    "      - Constraint satisfaction problems\n",
    "        - hard constraints - e.g., Sudoku, scheduling, a person cannot be at 2 places at once\n",
    "      - Bayesian networks\n",
    "        - soft dependencies - trying to track car over time using positions and sensor readings\n",
    "  - Logic based model (high level intelligence)\n",
    "    - Motivation - Virtual assistant\n",
    "      - talk to using NLP\n",
    "      - ask question\n",
    "        - digest heterogenous information\n",
    "        - reason deeply with the given information\n",
    "        \n",
    "-----"
   ]
  },
  {
   "cell_type": "markdown",
   "id": "4fff93f0",
   "metadata": {},
   "source": [
    "#### Homeworks\n",
    "- **Introduction:** foundations\n",
    "- **Machine learning:** sentiment classification\n",
    "- **Search:** text reconstruction\n",
    "- **MDPs:** blackjack\n",
    "- **Games:** Pac-Man (+ competition with extra credit)\n",
    "- **CSPs:** course scheduling\n",
    "- **Bayesian networks:** car tracking\n",
    "- **Logic:** language and logic\n",
    "\n",
    "------"
   ]
  },
  {
   "cell_type": "markdown",
   "id": "a657ab8d",
   "metadata": {},
   "source": [
    "### Optimization\n",
    "- **Discrete optimization:** find the best discrete object (path that minimizes the cost)\n",
    "  - Algorithm tool: Dynamic programming\n",
    "  > $min_{p \\in \\text{Paths}} \\text{Cost}(p)$\n",
    "    - best path where path p minimizes the cost \n",
    "    - the number of paths is huge\n",
    "- **Continuous optimization:** find the best vector of real numbers that minimizes the objective\n",
    "  - Algorithm tool: gradient descent\n",
    "  > $min_{w \\in \\mathbb R^{d}} \\text{TrainingError}(w)$\n",
    "    - minimizes the objective function\n",
    "    \n",
    "-----"
   ]
  },
  {
   "cell_type": "markdown",
   "id": "1d40d0d3",
   "metadata": {},
   "source": [
    "### Discrete optimization\n",
    "- Input: two strings s and t\n",
    "- Output: minimum no of character insertions, deletions and substitutions it takes to change s into t\n",
    "- Examples:\n",
    "  > \"cat\", \"cat\" $\\rightarrow$ 0  \n",
    "  > \"cat\", \"dog\" $\\rightarrow$ 3  \n",
    "  > \"cat\", \"at\" $\\rightarrow$ 1  \n",
    "  > \"cat\", \"cats\" $\\rightarrow$ 1  \n",
    "  > \"a cat!\", \"the cats!\" $\\rightarrow$ 4  \n",
    "  \n",
    "- Solve using DP\n",
    "  - simplify the problem\n",
    "  - use recurrence\n",
    "  \n",
    "- Memoization\n",
    "  - use cache\n",
    "  \n",
    "----"
   ]
  },
  {
   "cell_type": "markdown",
   "id": "f0a9f354",
   "metadata": {},
   "source": [
    "### Example - compute edit distance\n",
    "- basic dynamic programming  \n",
    "\n",
    "<img src=\"images/01_editDistance.png\" width=400 height=400>\n",
    "$\\tiny{\\text{YouTube-Stanford-CS221-Percy Liang}}$   \n",
    "\n",
    "\n",
    "----"
   ]
  },
  {
   "cell_type": "code",
   "execution_count": 1,
   "id": "0eb76002",
   "metadata": {},
   "outputs": [
    {
     "name": "stdout",
     "output_type": "stream",
     "text": [
      "40\n"
     ]
    }
   ],
   "source": [
    "def computeEditDistance(s,t):\n",
    "    cache = {} # (m,n) => result\n",
    "    def recurse(m,n):\n",
    "        \"\"\"\n",
    "        Return the minimum edit distance between\n",
    "        - first m letters of s\n",
    "        - first n letters of t\n",
    "        \"\"\"\n",
    "        if (m,n) in cache:\n",
    "            return cache[(m,n)]\n",
    "        elif m == 0:\n",
    "            result = n\n",
    "        elif n == 0:\n",
    "            result = m\n",
    "        elif s[m-1] == t[n-1]: # Last letter matches\n",
    "            result = recurse(m-1, n-1)\n",
    "        else:\n",
    "            subCost = 1 + recurse(m-1, n-1)\n",
    "            delCost = 1 + recurse(m-1, n  )\n",
    "            insCost = 1 + recurse(m  , n-1)\n",
    "            result = min(subCost, delCost, insCost)\n",
    "        cache[(m,n)] = result\n",
    "        return result\n",
    "    return recurse(len(s), len(t))\n",
    "\n",
    "# print(computeEditDistance('a cat!', 'the cats!'))\n",
    "# print(computeEditDistance('cat', 'cat'))\n",
    "# print(computeEditDistance('cat', 'dog'))\n",
    "print(computeEditDistance('a cat!'*10, 'the cats!'*10))\n"
   ]
  },
  {
   "cell_type": "markdown",
   "id": "416cd95e",
   "metadata": {},
   "source": [
    "----\n",
    "\n",
    "### Continuous optimization\n",
    "  - how do you do regression\n",
    "    - For a given slope vector, tell me how bad the fit is\n",
    "\n",
    "      <img src=\"images/01_regression.png\" width=400 height=400>\n",
    "      $\\tiny{\\text{YouTube-Stanford-CS221-Percy Liang}}$   \n",
    "\n",
    "    - how to solve regression problem i.e., how to optimize\n",
    "      - abstract away the details\n",
    "        - minimize F(w)\n",
    "        - take the derivative\n",
    "        - use gradient descent\n",
    "        \n",
    "        <img src=\"images/01_regressionOpt.png\" width=400 height=400>\n",
    "        $\\tiny{\\text{YouTube-Stanford-CS221-Percy Liang}}$   \n",
    "\n",
    "-----"
   ]
  },
  {
   "cell_type": "code",
   "execution_count": 2,
   "id": "f613c635",
   "metadata": {},
   "outputs": [
    {
     "name": "stdout",
     "output_type": "stream",
     "text": [
      "                  w       F(w)\n",
      "Iteration                     \n",
      "0          0.320000  20.000000\n",
      "1          0.512000  11.808000\n",
      "2          0.627200   8.858880\n",
      "3          0.696320   7.797197\n",
      "4          0.737792   7.414991\n",
      "...             ...        ...\n",
      "95         0.800000   7.200000\n",
      "96         0.800000   7.200000\n",
      "97         0.800000   7.200000\n",
      "98         0.800000   7.200000\n",
      "99         0.800000   7.200000\n",
      "\n",
      "[100 rows x 2 columns]\n"
     ]
    }
   ],
   "source": [
    "import pandas as pd\n",
    "\n",
    "points = [(2,4), (4,2)]\n",
    "\n",
    "def F(w):\n",
    "    return sum((w * x - y)**2 for x, y in points)\n",
    "\n",
    "def dF(w):\n",
    "    return sum(2*(w * x - y) * x for x, y in points)\n",
    "\n",
    "def gradientDescent():\n",
    "    w = 0\n",
    "    eta = 0.01\n",
    "\n",
    "    lst = []\n",
    "    for t in range(100):\n",
    "        value = F(w)\n",
    "        gradient = dF(w)\n",
    "        w = w - eta * gradient\n",
    "        lst.append([w, value])\n",
    "    df = pd.DataFrame(lst, columns = ['w', 'F(w)'])\n",
    "    df.index.name = 'Iteration'\n",
    "    return df\n",
    "\n",
    "print(gradientDescent())\n"
   ]
  },
  {
   "cell_type": "markdown",
   "id": "058b9ed9",
   "metadata": {},
   "source": [
    "----\n",
    "\n",
    "## TODO\n",
    "\n",
    "- Overview of AI\n",
    "  - AI agents\n",
    "    - Perception, communicate, Reason, Learn, \n",
    "  - Variable step size\n"
   ]
  }
 ],
 "metadata": {
  "kernelspec": {
   "display_name": "Python 3",
   "language": "python",
   "name": "python3"
  },
  "language_info": {
   "codemirror_mode": {
    "name": "ipython",
    "version": 3
   },
   "file_extension": ".py",
   "mimetype": "text/x-python",
   "name": "python",
   "nbconvert_exporter": "python",
   "pygments_lexer": "ipython3",
   "version": "3.8.8"
  },
  "toc": {
   "base_numbering": 1,
   "nav_menu": {},
   "number_sections": true,
   "sideBar": true,
   "skip_h1_title": false,
   "title_cell": "Table of Contents",
   "title_sidebar": "Contents",
   "toc_cell": false,
   "toc_position": {},
   "toc_section_display": true,
   "toc_window_display": true
  }
 },
 "nbformat": 4,
 "nbformat_minor": 5
}
