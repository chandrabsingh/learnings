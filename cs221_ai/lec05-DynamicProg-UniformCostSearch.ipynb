{
 "cells": [
  {
   "cell_type": "markdown",
   "id": "cf289967",
   "metadata": {
    "slideshow": {
     "slide_type": "slide"
    }
   },
   "source": [
    ">>> Work in Progress (Following are the lecture notes of Prof Percy Liang/Prof Dorsa Sadigh - CS221 - Stanford. This is my interpretation of his excellent teaching and I take full responsibility of any misinterpretation/misinformation provided herein.)"
   ]
  },
  {
   "cell_type": "markdown",
   "id": "62a3b4cf",
   "metadata": {
    "slideshow": {
     "slide_type": "slide"
    }
   },
   "source": [
    "## Lecture 5: Search 1 - Dynamic Programming, Uniform Cost Search | Stanford CS221"
   ]
  },
  {
   "cell_type": "markdown",
   "id": "c3d43c41",
   "metadata": {
    "slideshow": {
     "slide_type": "slide"
    }
   },
   "source": [
    "State based models\n",
    "- we learn search/state based problems here\n",
    "- we completed reflex based models earlier  \n",
    "\n",
    "<img src=\"images/01_modelTypes.png\" width=400 height=400> \n",
    "$\\tiny{\\text{YouTube-Stanford-CS221-Dorsa Sadigh}}$   \n",
    "\n",
    "-----"
   ]
  },
  {
   "cell_type": "markdown",
   "id": "bd9ffc96",
   "metadata": {
    "slideshow": {
     "slide_type": "subslide"
    }
   },
   "source": [
    "For reflex based models\n",
    "- Model - can be Linear Predictor, or NN\n",
    "- Inference - was simple, evaluate the NN function say\n",
    "- Learning - how to use gd or sgd"
   ]
  },
  {
   "cell_type": "markdown",
   "id": "9610fe55",
   "metadata": {
    "slideshow": {
     "slide_type": "subslide"
    }
   },
   "source": [
    "- Will learn the same way for state based models\n",
    "\n",
    "-----"
   ]
  },
  {
   "cell_type": "markdown",
   "id": "81250e86",
   "metadata": {
    "slideshow": {
     "slide_type": "slide"
    }
   },
   "source": [
    "### Application of Search problems\n",
    "- Route finding\n",
    "  - Objective\n",
    "    - Shortest\n",
    "    - Fastest\n",
    "    - Most scenic\n",
    "  - Actions\n",
    "    - left, right, straight\n",
    "- Robot motion planning\n",
    "  - Objective - go from point A to point B\n",
    "    - fastest\n",
    "    - most energy efficient\n",
    "    - safest\n",
    "    - most expressive\n",
    "  - Actions\n",
    "    - different joint\n",
    "    - translation joints\n",
    "    - rotation joints\n",
    "- Games\n",
    "  - Objective\n",
    "    - Rubik \n",
    "    - 15 puzzle\n",
    "  - Action\n",
    "    - move pieces\n",
    "----"
   ]
  },
  {
   "cell_type": "markdown",
   "id": "e0f35848",
   "metadata": {
    "slideshow": {
     "slide_type": "subslide"
    }
   },
   "source": [
    "### Difference between reflex and search based model\n",
    "- Classifier (reflex based models)\n",
    "  - based on input, find f, output was a single label\n",
    "  - $x \\rightarrow \\fbox{f} \\rightarrow \\text{single action } y \\in ${+1, -1}\n",
    "- Search problem (state based models)\n",
    "  - given a input/state, and given that I have that state, we want an output that is a sequence of actions\n",
    "  - _key idea_ - consider future consequences of an action\n",
    "  - $x \\rightarrow \\fbox{f} \\rightarrow \\text{action sequence} (a_{1}, a_{2},a_{3},a_{4},...)$\n",
    "----"
   ]
  },
  {
   "cell_type": "markdown",
   "id": "47cbf153",
   "metadata": {
    "slideshow": {
     "slide_type": "slide"
    }
   },
   "source": [
    "### Roadmap\n",
    "- Tree search\n",
    "- Dynamic programming\n",
    "- Uniform cost search\n",
    "-----"
   ]
  },
  {
   "cell_type": "markdown",
   "id": "4f7722e4",
   "metadata": {
    "slideshow": {
     "slide_type": "slide"
    }
   },
   "source": [
    "### Search Problem - Farmer - (7)\n",
    "- Steps\n",
    "  - create library of actions\n",
    "  - create search tree (what if?)\n",
    "  - explore other solutions as well, which can be better\n",
    "  - this can also be formulated as optimization problem  \n",
    "- Definition\n",
    "  - starting state(s)\n",
    "  - Action(s) - possible actions\n",
    "  - Cost(s,a) - cost of action\n",
    "  - Succ(s,a) - successor\n",
    "  - IsEnd(s) - reached end state  \n",
    "\n",
    "<img src=\"images/05_farmerProb.png\" width=400 height=400> \n",
    "$\\tiny{\\text{YouTube-Stanford-CS221-Dorsa Sadigh}}$   \n",
    "\n",
    "-----"
   ]
  },
  {
   "cell_type": "markdown",
   "id": "bc304469",
   "metadata": {
    "slideshow": {
     "slide_type": "slide"
    }
   },
   "source": [
    "### Transportation Problem\n",
    "- Problem\n",
    "  - streets with blocks numbered 1 to n\n",
    "  - walking from s to s+1 takes 1 minute\n",
    "  - taking magic tram from s to 2s takes 2 minute\n",
    "  - how to travel from 1 to n in least time?\n",
    "- How to define the initial state?  \n",
    "\n",
    "<img src=\"images/05_transportationProb.png\" width=400 height=400> \n",
    "$\\tiny{\\text{YouTube-Stanford-CS221-Dorsa Sadigh}}$  \n",
    "\n",
    "-----"
   ]
  },
  {
   "cell_type": "markdown",
   "id": "27be9282",
   "metadata": {
    "slideshow": {
     "slide_type": "subslide"
    }
   },
   "source": [
    "### Algorithms - Backtracking search\n",
    "\n",
    "| Algorithms | Cost | Time | Space |\n",
    "| --- | --- | --- | --- |\n",
    "| Backtracking Search | Any | O($b^{D}$) | O(D) | \n",
    "\n",
    "-----"
   ]
  },
  {
   "cell_type": "markdown",
   "id": "b928048c",
   "metadata": {
    "slideshow": {
     "slide_type": "subslide"
    }
   },
   "source": [
    "<img src=\"images/05_transportationProb2.png\" width=400 height=400> \n",
    "$\\tiny{\\text{YouTube-Stanford-CS221-Dorsa Sadigh}}$   \n",
    "\n",
    "- To set the recursion in python\n",
    "```python\n",
    "import sys\n",
    "sys.setrecursionlimit 100000\n",
    "```\n",
    "-----"
   ]
  },
  {
   "cell_type": "markdown",
   "id": "e4b18094",
   "metadata": {
    "slideshow": {
     "slide_type": "subslide"
    }
   },
   "source": [
    "### Algorithm - Depth first search(DFS)\n",
    "\n",
    "| Algorithms | Cost | Time | Space |\n",
    "| --- | --- | --- | --- |\n",
    "| Backtracking Search | Any | O($b^{D}$) | O(D) | \n",
    "| DFS | 0 | O($b^{D}$) | O(D) | \n",
    "\n",
    "- DFS puts in a restriction that cost has to be 0\n",
    "- Once it finds a solution, it does not look over the entire tree\n",
    "- cost of edge is 0\n",
    "- the worst case scenario is still the same, but it performs better comparatively\n",
    "- _Backtracking search + stop when you find the first end state_\n",
    "- _Action costs(s,a) = 0_\n",
    "-----"
   ]
  },
  {
   "cell_type": "markdown",
   "id": "87d24d0b",
   "metadata": {
    "slideshow": {
     "slide_type": "subslide"
    }
   },
   "source": [
    "### Algorithm - Breadth first search(BFS)\n",
    "\n",
    "\n",
    "| Algorithms | Cost | Time | Space |\n",
    "| --- | --- | --- | --- |\n",
    "| Backtracking | Any | O($b^{D}$) | O(D) | \n",
    "| DFS | 0 | O($b^{D}$) | O(D) | \n",
    "| BFS | const $\\geq0$ | O($b^{d}$) | O($b^{d}$) | \n",
    "\n",
    "\n",
    "- useful when cost is some constant\n",
    "- All the edges have the same cost\n",
    "- search layer by layer and find the solution, so in that sense better than DFS that it doesn't have to search till the very bottom leaf nodes\n",
    "- it might happen that search finds solution in the 2nd layer, and wont look further \n",
    "- limited to a reduced depth (d<D), so the time complexity improves\n",
    "- store every thing because the current node information may be needed later to find child node, so the space complexity is lot worse\n",
    "-----"
   ]
  },
  {
   "cell_type": "markdown",
   "id": "7f677171",
   "metadata": {},
   "source": [
    "### Algorithm - DFS with Iterative Deepening\n",
    "\n",
    "| Algorithms | Cost | Time | Space |\n",
    "| --- | --- | --- | --- |\n",
    "| Backtracking | Any | O($b^{D}$) | O(D) | \n",
    "| DFS | 0 | O($b^{D}$) | O(D) | \n",
    "| BFS | const $\\geq0$ | O($b^{d}$) | O($b^{d}$) | \n",
    "| DFS-ID | const $\\geq0$ | O($b^{d}$) | O(d) | \n",
    "\n",
    "- combine the benefits of DFS and BFS\n",
    "- goes level by level like BFS, for every level it runs a full DFS\n",
    "- if you find solution early on, its good that you have run few DFS\n",
    "- Analogy - dog with a leash, where you extend the leash everytime if it does not find anything\n",
    "- extending the leash is synonymous to extending the levels\n",
    "-----"
   ]
  },
  {
   "cell_type": "markdown",
   "id": "a79a60fa",
   "metadata": {},
   "source": [
    "### Disadvantages\n",
    "\n",
    "- these searches have exponential time\n",
    "- we try to avoid using DFS-ID, but not always\n",
    "- the exponential time can be brought down to polynomial time using dynamic programming\n",
    "-----"
   ]
  },
  {
   "cell_type": "markdown",
   "id": "f0af17dd",
   "metadata": {
    "slideshow": {
     "slide_type": "slide"
    }
   },
   "source": [
    "### Dynamic programming\n",
    "- suppose there is a state _s_, and we are interested in reaching at end state, but we take action a to reach state _s'_. \n",
    "- the cost required to arrive at state s' is _cost(s,a)_\n",
    "- from state s', we take bunch of actions to arrive at end state _End_\n",
    "- the objective is to calculate the future cost of state s _FutureCost(s)_\n",
    "- in the same way, the future cost from state s' to reach end state is _FutureCost(s')_\n",
    "- this saves exponential space and time  \n",
    "- key idea is to think of how to define the state\n",
    "- _a state is a summary of all the past actions sufficient to choose future actions optimally_\n",
    "- the future cost will be  \n",
    "\n",
    "<img src=\"images/05_dynProgCost2.png\" width=400 height=400> \n",
    "$\\tiny{\\text{YouTube-Stanford-CS221-Dorsa Sadigh}}$   \n",
    "\n",
    "-----"
   ]
  },
  {
   "cell_type": "markdown",
   "id": "69757841",
   "metadata": {
    "slideshow": {
     "slide_type": "subslide"
    }
   },
   "source": [
    "### Problem - Route finding \n",
    "- find the minimum cost path from city 1 to city n, only moving forward\n",
    "- it costs $c_{ij}$ to go from i to j\n",
    "- the picture below is the representation of problem statement\n",
    "- future cost is recursive and only depends on state\n",
    "- if we save it, we dont have to recompute\n",
    "- _future cost only depends on current city, which is enough to compute future cost_\n",
    "\n",
    "<img src=\"images/05_dynProgRouteFinding.png\" width=200 height=200>  \n",
    "$\\tiny{\\text{YouTube-Stanford-CS221-Dorsa Sadigh}}$   \n",
    "\n",
    "-----\n"
   ]
  },
  {
   "cell_type": "markdown",
   "id": "ed5d37ae",
   "metadata": {
    "slideshow": {
     "slide_type": "subslide"
    }
   },
   "source": [
    "### Algorithm - Route finding\n",
    "\n",
    "<img src=\"images/05_dynProgRouteFindingAlgo.png\" width=400 height=400> \n",
    "$\\tiny{\\text{YouTube-Stanford-CS221-Dorsa Sadigh}}$   \n",
    "\n",
    "-----"
   ]
  },
  {
   "cell_type": "markdown",
   "id": "a029a329",
   "metadata": {
    "slideshow": {
     "slide_type": "subslide"
    }
   },
   "source": [
    "- Assumption here is \n",
    "  - works only for acyclic graphs\n",
    "    - there is a natural ordering that exists here regarding future costs, so cycle is not possible here\n",
    "  - does not work for cyclic graphs\n",
    "  \n",
    "-----"
   ]
  },
  {
   "cell_type": "markdown",
   "id": "39738a66",
   "metadata": {
    "slideshow": {
     "slide_type": "subslide"
    }
   },
   "source": [
    "### Adding constraints to the problem\n",
    "- can't visit three odd cities in a row\n",
    "- City 1 -> City 3 -> ~~City 7~~\n",
    "  - Now the current city state is not enough\n",
    "    - One possible solution is\n",
    "      > S = (Previous city, Current city)  \n",
    "      > |S| = $N^{2}$  \n",
    "      - Here the problem is there are N possible combinations here, which results in exponential cost\n",
    "    - Other possible solution is\n",
    "      > S = (if prev city was odd(a counter True/False), current city)  \n",
    "      > |S| = 2N\n",
    "      - 2 comes from the fact that we have two choices, if previous city was odd or even\n",
    "      - N comes from the fact that we have N choices for current city  \n",
    "      \n",
    "<img src=\"images/05_dynProgRouteFindingAlgo2.png\" width=200 height=200>  \n",
    "$\\tiny{\\text{YouTube-Stanford-CS221-Dorsa Sadigh}}$   \n",
    "\n",
    "-----\n"
   ]
  },
  {
   "cell_type": "markdown",
   "id": "1d213150",
   "metadata": {
    "slideshow": {
     "slide_type": "subslide"
    }
   },
   "source": [
    "### Adding another constraint to the problem\n",
    "- Problem\n",
    "  - travel from city 1 to city n, visiting at least 3 odd cities\n",
    "- Solution\n",
    "  - Possible option\n",
    "    - (# of odd cities, current city)  \n",
    "    - all we care about is 3+ odd cities  \n",
    "    - if we keep track of all odd cities  \n",
    "      > $|S| = N/2 * N = N^{2}/2$  \n",
    "    - but if we keep track of 3+ odd cities  \n",
    "      > $|S| = 3 * N = 3N$  \n",
    "      > S = min((# of odd cities, 3), Current city)  \n",
    "    \n",
    "-----"
   ]
  },
  {
   "cell_type": "markdown",
   "id": "20db7dc3",
   "metadata": {
    "slideshow": {
     "slide_type": "slide"
    }
   },
   "source": [
    "### Uniform cost search (UCS)\n",
    "- When do we use UCS\n",
    "  - when the step costs are not the same and we are interested in optimal path\n",
    "- very similar to Dijkstra's algorithm  \n",
    "- we have 3 states we need to keep track of\n",
    "  - Explored state \n",
    "    - the state we have found optimal path of\n",
    "    - things we are sure about\n",
    "    - we are done with it\n",
    "  - Frontier state \n",
    "    - we have computed it, but not sure if that is the best way of all\n",
    "    - still finding out how to get there cheaply\n",
    "    - its a known unknown\n",
    "  - Unexplored state\n",
    "    - unexplored part of states\n",
    "    - dont know how to get there\n",
    "    - its an unknown unknown\n",
    "-----"
   ]
  },
  {
   "cell_type": "markdown",
   "id": "41ff144b",
   "metadata": {
    "slideshow": {
     "slide_type": "subslide"
    }
   },
   "source": [
    "### Problem\n",
    "<img src=\"images/05_uniformCostSearchProb.png\" width=400 height=400> \n",
    "$\\tiny{\\text{YouTube-Stanford-CS221-Dorsa Sadigh}}$   \n",
    "\n",
    "-----"
   ]
  },
  {
   "cell_type": "markdown",
   "id": "a1745854",
   "metadata": {
    "slideshow": {
     "slide_type": "subslide"
    }
   },
   "source": [
    "### Algorithm\n",
    "<img src=\"images/06_uniformCostSearchAlgo.png\" width=400 height=400> \n",
    "$\\tiny{\\text{YouTube-Stanford-CS221-Dorsa Sadigh}}$   \n",
    "-----"
   ]
  }
 ],
 "metadata": {
  "celltoolbar": "Slideshow",
  "kernelspec": {
   "display_name": "Python 3",
   "language": "python",
   "name": "python3"
  },
  "language_info": {
   "codemirror_mode": {
    "name": "ipython",
    "version": 3
   },
   "file_extension": ".py",
   "mimetype": "text/x-python",
   "name": "python",
   "nbconvert_exporter": "python",
   "pygments_lexer": "ipython3",
   "version": "3.8.8"
  },
  "toc": {
   "base_numbering": 1,
   "nav_menu": {},
   "number_sections": true,
   "sideBar": true,
   "skip_h1_title": false,
   "title_cell": "Table of Contents",
   "title_sidebar": "Contents",
   "toc_cell": false,
   "toc_position": {},
   "toc_section_display": true,
   "toc_window_display": true
  }
 },
 "nbformat": 4,
 "nbformat_minor": 5
}
