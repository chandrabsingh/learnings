{
 "cells": [
  {
   "cell_type": "markdown",
   "id": "2d3f058e",
   "metadata": {},
   "source": [
    ">>> Work in progress"
   ]
  },
  {
   "cell_type": "markdown",
   "id": "c91bbd92",
   "metadata": {},
   "source": [
    "### Graph as Matrix\n",
    "- determine the node importance using random walk - PageRank\n",
    "- obtain node embeddings in the form of matrix factorization\n",
    "- random walk, MF and node embeddings relationship"
   ]
  },
  {
   "cell_type": "markdown",
   "id": "dedd0f47",
   "metadata": {},
   "source": [
    "### PageRank\n",
    "- Web as a graph\n",
    "  - Node - web page\n",
    "  - Edge - hyperlink\n",
    "  - lot of static pages (navigational)\n",
    "  - now-a-days there are lot of transactional pages\n",
    "- represent as directed graph\n",
    "- what page on web is more important than other"
   ]
  },
  {
   "cell_type": "markdown",
   "id": "07bc3579",
   "metadata": {},
   "source": [
    "#### Link Analysis\n",
    "- compute importanceo of nodes in graph\n",
    "  - PageRank\n",
    "  - Personalized Page rank\n",
    "  - Random walk with restarts\n",
    "- all in-links are equal?\n",
    "  - recursive question\n",
    "- the flow model\n",
    "  - in-links\n",
    "  - out-links\n",
    "  - are all in-links equal\n",
    "    - links from important pages count more\n",
    "\n",
    "##### The flow model\n",
    "- it works on the vote model\n",
    "- a vote from important page has higher importance\n",
    "- a page is important if it is pointed to by other important pages\n",
    "- if page $i$ with importance $r_{i}$ has $d_{i}$ out-links, each link gets $r_{i}/d_{i}$ votes\n",
    "  - For example, node k has 4 out links, so it shares it as $r_{k}/4$\n",
    "> rank $r_{j} = \\sum\\limits_{i \\rightarrow j} \\frac{r_{i}}{d_{i}}$  \n",
    "> $d_{i}$ - out-degree of node i\n",
    "\n",
    "<img src=\"./images/04_pageRank_FlowModel.png\" width=200 height=200>  \n",
    "$\\tiny{\\text{YouTube-Stanford-CS224W-Jure Leskovec}}$"
   ]
  },
  {
   "cell_type": "markdown",
   "id": "98ff1a72",
   "metadata": {},
   "source": [
    "- solving this with Gaussian elimination is not a scalable problem\n",
    "\n",
    "<img src=\"./images/04_pageRank_FlowModel3.png\" width=200 height=200>  \n",
    "$\\tiny{\\text{YouTube-Stanford-CS224W-Jure Leskovec}}$"
   ]
  },
  {
   "cell_type": "markdown",
   "id": "e7c90e2a",
   "metadata": {},
   "source": [
    "##### Stochastic adjacency matrix\n",
    "- If j points to i ($j \\rightarrow i$), then $M_{ij} = \\frac{1}{d_{j}}$\n",
    "- M is a column stochastic matrix\n",
    "- cols sum to 1\n",
    "- prob distribution over matrix M\n",
    "- rank vector - $\\sum_{i}r_{i} = 1$\n",
    "- the flow equation can be written as \n",
    "> $r = M.r$  \n",
    "> or, $r_{j} = \\sum\\limits_{i \\rightarrow j} \\frac{r_{i}}{d_{\\text{out}-i}}$ \n",
    "\n",
    "<img src=\"./images/04_pageRank_Matrix.png\" width=200 height=200>  \n",
    "$\\tiny{\\text{YouTube-Stanford-CS224W-Jure Leskovec}}$"
   ]
  },
  {
   "cell_type": "markdown",
   "id": "91b6297d",
   "metadata": {},
   "source": [
    "#### Connection to Random walk\n",
    "- random web surfer\n",
    "- at time t, he is on page i\n",
    "- at time t+1, he follows an out-link from i _uniformly at random_\n",
    "- and ends up at page j\n",
    "- repeats the process indefinitely\n",
    "- p(t) vector in which the coordinate prob that he is at page i at time t\n",
    "- p(t) is the prob distribution over pages\n",
    "- where is the surfer at time t+1\n",
    "> p(t+1) = M.p(t)\n",
    "- p(t) is the prob vector where the random walker was at prev time step\n",
    "- p(t+1) is the prob distrib/vector of where the walker will be at the next time step\n"
   ]
  },
  {
   "cell_type": "markdown",
   "id": "ead98215",
   "metadata": {},
   "source": [
    "#### The stationary distribution\n",
    "- suppose the random walk reaches a steady state at time t\n",
    "- p(t) is a stationary distribution of random walk\n",
    "> p(t+1) = M.p(t) = p(t)\n",
    "- so the original rank vector r is a stationary distribution for the random walk\n",
    "\n",
    "#### Eigenvector of matrix\n",
    "- Adjacency matrix satisfies $\\lambda c = A c$\n",
    "- c: eigenvector, $\\lambda$: eigenvalue\n",
    "\n",
    "#### Eigenvector formulation\n",
    "- Power iteration\n",
    "    - starting from any vector u, the limit M(M(M...(M(Mu))) is the long-term distribution of surfer\n",
    "    - r is the principal eigenvector of M with eigenvalue 1\n",
    "    - the flow equation 1.r = Mr"
   ]
  },
  {
   "cell_type": "markdown",
   "id": "06e43d2b",
   "metadata": {},
   "source": [
    "### How to solve PageRank\n",
    "- given a graph with n nodes, use iterative procedure\n",
    "  - randomly assign each node an initial page rank\n",
    "  - repeat until the vector r stabilizes/converge $\\sum_{i}|r_{i}^{t+1} - r_{i}^{t}| < \\epsilon$\n",
    "    - calculate page rank of each node\n",
    "    > $r_{j}^{(t+1)} = \\sum\\limits_{i \\rightarrow j} \\frac{r_{i}^{(t)}}{d_{\\text{out}-i}}$ \n",
    "- generally speaking, it takes 50 iterations to reach stationary distribution or limiting solution\n",
    "- Google runs this algorithm every day on the entire web\n"
   ]
  },
  {
   "cell_type": "markdown",
   "id": "58ccc1b8",
   "metadata": {},
   "source": [
    "#### Dead-ends and Spider-traps\n",
    "- Adding random uniform teleportation solves issues of dead-ends(no out-links) and spider-traps(all out-links are within the group)\n",
    "- Spider traps\n",
    "  - with prob $\\beta$, follow a link at random\n",
    "  - with prob $1-\\beta$, jump to a random page\n",
    "  - $\\beta$ generally is in the range of 0.8 to 0.9\n",
    "- Dead-ends\n",
    "  - random teleport links with total prob of 1\n",
    "\n",
    "<img src=\"./images/04_pageRank_DeadEnd.png\" width=200 height=200>  \n",
    "$\\tiny{\\text{YouTube-Stanford-CS224W-Jure Leskovec}}$"
   ]
  },
  {
   "cell_type": "markdown",
   "id": "abdcbf22",
   "metadata": {},
   "source": [
    "#### PageRank equation\n",
    "> $r_{j} = \\sum\\limits_{i \\rightarrow j} \\beta\\frac{r_{i}}{d_{i}} + (1-\\beta)\\frac{1}{N}$ - flow based formulation   \n",
    "> $G = \\beta M + (1-\\beta)[\\frac{1}{N}]_{NxN}$ - matrix equation \n",
    "> $r = G.r$ - recursive problem  \n",
    "- this formulation assumes that M has no dead ends, either preprocess matrix M to remove all dead ends or explicitly follow random teleport links with prob 1.0 from dead ends"
   ]
  },
  {
   "cell_type": "markdown",
   "id": "1ecf86dd",
   "metadata": {},
   "source": []
  },
  {
   "cell_type": "markdown",
   "id": "5a2c277d",
   "metadata": {},
   "source": []
  }
 ],
 "metadata": {
  "kernelspec": {
   "display_name": "Python 3",
   "language": "python",
   "name": "python3"
  },
  "language_info": {
   "codemirror_mode": {
    "name": "ipython",
    "version": 3
   },
   "file_extension": ".py",
   "mimetype": "text/x-python",
   "name": "python",
   "nbconvert_exporter": "python",
   "pygments_lexer": "ipython3",
   "version": "3.8.8"
  },
  "toc": {
   "base_numbering": 1,
   "nav_menu": {},
   "number_sections": true,
   "sideBar": true,
   "skip_h1_title": false,
   "title_cell": "Table of Contents",
   "title_sidebar": "Contents",
   "toc_cell": false,
   "toc_position": {},
   "toc_section_display": true,
   "toc_window_display": false
  }
 },
 "nbformat": 4,
 "nbformat_minor": 5
}
