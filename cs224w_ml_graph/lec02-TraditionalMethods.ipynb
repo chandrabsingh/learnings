{
 "cells": [
  {
   "cell_type": "markdown",
   "id": "495225b7",
   "metadata": {},
   "source": [
    ">>> Work in Progress"
   ]
  },
  {
   "cell_type": "markdown",
   "id": "4dd303e9",
   "metadata": {},
   "source": [
    "### Overview\n",
    "- Node level prediction\n",
    "  - Example - \n",
    "- Link level prediction\n",
    "  - Example - \n",
    "- Graph level prediction\n",
    "  - Example - "
   ]
  },
  {
   "cell_type": "markdown",
   "id": "efdbb55f",
   "metadata": {},
   "source": [
    "### Traditional ML Pipeline\n",
    "- We design features for nodes/links/graphs which have dimension $\\in \\mathbb R^{D}$\n",
    "- In traditional ML pipeline:\n",
    "  - we train ML model (hand-designed features)\n",
    "    - by applying Random Forest, SVM, NN\n",
    "  - and then apply model to make predictions\n",
    "- In this lecture/here (use undirected graphs for simplicity):\n",
    "  - Node level prediction\n",
    "  - Link level prediction\n",
    "  - Graph level prediction"
   ]
  },
  {
   "cell_type": "markdown",
   "id": "db557e9d",
   "metadata": {},
   "source": [
    "### ML in graphs\n",
    "- Goal: Make predictions for set of objects\n",
    "- Design choices:\n",
    "  - Features: d-dimensional vector\n",
    "  - Objects: nodes, edges, graphs\n",
    "  - Objective function: \n",
    "> Given: $G = (V, E)$  \n",
    "> Learn: $f: V \\rightarrow \\mathbb R$  \n",
    "- How do we learn the function. "
   ]
  },
  {
   "cell_type": "markdown",
   "id": "5489e489",
   "metadata": {},
   "source": [
    "### Node-level tasks\n",
    "- Node classification\n",
    "  - Identify missing node colors, given other node colors\n",
    "- Characterize structure and position of node\n",
    "  - Node degree\n",
    "  - Node centrality\n",
    "  - Clustering coefficient\n",
    "  - Graphlets"
   ]
  },
  {
   "cell_type": "markdown",
   "id": "e13e55a7",
   "metadata": {},
   "source": [
    "#### Node Degree\n",
    "- Degree \n",
    "  - number of edges a node has\n",
    "  - neighboring nodes\n",
    "  - treat all neighboring nodes equally\n",
    "  - does not capture importance\n",
    "\n",
    "<img src=\"./images/02_nodeDegree.png\" width=400 height=400>  \n",
    "$\\tiny{\\text{YouTube-Stanford-CS224W-Jure Leskovec}}$"
   ]
  },
  {
   "cell_type": "markdown",
   "id": "25f4123c",
   "metadata": {},
   "source": [
    "#### Node centrality\n",
    "- captures the node importance in a graph\n",
    "\n",
    "##### Eigenvector centrality\n",
    "- node is imp if it has more neighboring nodes\n",
    "- sum of centrality of neighboring nodes\n",
    "- recursive problem\n",
    "> $c_{\\nu} = \\frac{1}{\\lambda}\\sum\\limits_{u \\in N(\\nu)}c_{u}$  \n",
    "> $\\Rightarrow \\lambda c = A c$  \n",
    "  - where A is the adjacency matrix\n",
    "  - c is the centrality vector\n",
    "  - $\\lambda$ is positive constant\n",
    "- centrality is the eigenvector\n",
    "- largest eigenvalue is always positive (Perron-Frobenius theorem)\n",
    "- leading eigenvector $c_{max}$ is used for centrality"
   ]
  },
  {
   "cell_type": "markdown",
   "id": "8001b446",
   "metadata": {},
   "source": [
    "##### Betweenness centrality\n",
    "- node is imp if it lies on many shortest paths between other nodes\n",
    "\n",
    "<img src=\"./images/02_nodeCentralityBetweenness.png\" width=400 height=400>  \n",
    "$\\tiny{\\text{YouTube-Stanford-CS224W-Jure Leskovec}}$"
   ]
  },
  {
   "cell_type": "markdown",
   "id": "bcd4ab04",
   "metadata": {},
   "source": [
    "##### Closeness centrality\n",
    "- node is imp if it has small shortest path lengths to all other nodes\n",
    "\n",
    "<img src=\"./images/02_nodeCentralityCloseness.png\" width=400 height=400>  \n",
    "$\\tiny{\\text{YouTube-Stanford-CS224W-Jure Leskovec}}$\n"
   ]
  },
  {
   "cell_type": "markdown",
   "id": "88c7cea3",
   "metadata": {},
   "source": [
    "#### Clustering coefficient\n",
    "- how connected nodes are corresponding to its neighboring nodes\n",
    "- no of triangles is used to calculate coefficient\n",
    "- in the middle example below, there are 6 triangle possible(4c2), out of which the v node forms 3 connection triangle to all, so the coeff is 0.5\n",
    "  - 3 triangles out of 6 node triplets\n",
    "\n",
    "<img src=\"./images/02_nodeCentralityClusteringCoeff.png\" width=400 height=400>  \n",
    "$\\tiny{\\text{YouTube-Stanford-CS224W-Jure Leskovec}}$\n"
   ]
  },
  {
   "cell_type": "markdown",
   "id": "b409d861",
   "metadata": {},
   "source": [
    "#### Graphlets\n",
    "- this is an extension of clustering coeff\n",
    "- instead of counting triangles, this counts the pre-specified subgraphs - graphlets\n",
    "- topology of node's neighborhood\n",
    "- gives a measure of topological similarity compared to node degrees or clustering coefficient\n",
    "\n",
    "\n",
    "\n"
   ]
  },
  {
   "cell_type": "markdown",
   "id": "8475842d",
   "metadata": {},
   "source": [
    "#### Summary - Node level feature\n",
    "- Importance based features\n",
    "  - Node degree \n",
    "    - count neighboring nodes\n",
    "  - Node centrality\n",
    "    - based on choice of centrality measure\n",
    "  - Example\n",
    "    - predict celebrity users in social network\n",
    "- Structure based features\n",
    "  - capture topological properties of local neighborhood around node\n",
    "  - Node degree\n",
    "  - clustering coeff\n",
    "  - Graphlet degree vector(GDV)\n",
    "  - Example\n",
    "    - used in protein-protein interaction\n",
    "- node features help distinguish nodes\n",
    "- but donot allow distinguish node labels"
   ]
  },
  {
   "cell_type": "markdown",
   "id": "622312e9",
   "metadata": {},
   "source": [
    "### Link prediction task and features\n",
    "- predict new links based on existing links\n",
    "- initially node pairs are ranked \n",
    "  - ?? and top K node pairs are predicted\n",
    "- ??design featues for node pairs\n",
    "- links over time\n",
    "  - given state of graph edges at time t0, predict ranked list of links that appear at time t1\n",
    "  - Methodology - Proximity\n",
    "    - compute score of common neighbors for each node pair\n",
    "    - sort pairs by decreasing score\n",
    "    - predict top n pairs\n",
    "    - ???"
   ]
  },
  {
   "cell_type": "markdown",
   "id": "08384cd0",
   "metadata": {},
   "source": [
    "#### Link level features\n",
    "- Distance based feature\n",
    "- Local neighborhood overlap\n",
    "- Overlap neighborhood overlap"
   ]
  },
  {
   "cell_type": "markdown",
   "id": "5c875d29",
   "metadata": {},
   "source": [
    "##### Distance based feature\n",
    "- shortest path distance between two nodes\n",
    "- does not capture degree of neighborhood overlap  \n",
    "<img src=\"./images/02_linkPredictionShortestPath.png\" width=400 height=400>  \n",
    "$\\tiny{\\text{YouTube-Stanford-CS224W-Jure Leskovec}}$"
   ]
  },
  {
   "cell_type": "markdown",
   "id": "e1271bd3",
   "metadata": {},
   "source": [
    "##### Local Neighborhood overlap\n",
    "\n",
    "<img src=\"./images/02_linkPredictionLocalNe.png\" width=400 height=400>  \n",
    "$\\tiny{\\text{YouTube-Stanford-CS224W-Jure Leskovec}}$"
   ]
  },
  {
   "cell_type": "markdown",
   "id": "8ff805f2",
   "metadata": {},
   "source": [
    "##### Global Neighborhood overlap\n",
    "- Katz index - number of paths of all length between pair of nodes\n",
    "- to compute paths between 2 nodes\n",
    "  - use adjacency matrix\n",
    "  - can compute path between path of any given length l between u and v node - $A_{uv}^{l}$\n",
    "\n",
    "<img src=\"./images/02_linkPredictionAdjacencyMatrix1.png\" width=400 height=400>  \n",
    "\n",
    "----\n",
    "<img src=\"./images/02_linkPredictionAdjacencyMatrix2.png\" width=400 height=400>  \n",
    "\n",
    "----\n",
    "<img src=\"./images/02_linkPredictionAdjacencyMatrix3.png\" width=400 height=400>  \n",
    "$\\tiny{\\text{YouTube-Stanford-CS224W-Jure Leskovec}}$"
   ]
  },
  {
   "cell_type": "markdown",
   "id": "42a86ae1",
   "metadata": {},
   "source": [
    "### Graph-Level features and Graph Kernels\n",
    "- How to design featue \n",
    "  - Kernel methods\n",
    "  - Graph Kernels\n",
    "\n",
    "#### Kernel method\n",
    "- widely used in ML for graph level prediction\n",
    "- Design kernels instead of feature vectors\n",
    "\n",
    "- What is the key idea?\n",
    "  - define a feature vector\n",
    "  - Bag-of-Words(BoW)\n",
    "  - Bag of node degrees\n",
    "  - Graphlet Kernel\n",
    "    - Graphlet in Graph kernel is different from node level Graphlet\n",
    "    - Exponential complexity\n",
    "    "
   ]
  },
  {
   "cell_type": "markdown",
   "id": "2036bf7a",
   "metadata": {},
   "source": []
  },
  {
   "cell_type": "markdown",
   "id": "df856b56",
   "metadata": {},
   "source": []
  },
  {
   "cell_type": "markdown",
   "id": "919e989a",
   "metadata": {},
   "source": []
  },
  {
   "cell_type": "markdown",
   "id": "39682033",
   "metadata": {},
   "source": []
  },
  {
   "cell_type": "markdown",
   "id": "6251f714",
   "metadata": {},
   "source": []
  },
  {
   "cell_type": "markdown",
   "id": "fc0218ba",
   "metadata": {},
   "source": []
  },
  {
   "cell_type": "markdown",
   "id": "6a73f079",
   "metadata": {},
   "source": []
  }
 ],
 "metadata": {
  "kernelspec": {
   "display_name": "Python 3",
   "language": "python",
   "name": "python3"
  },
  "language_info": {
   "codemirror_mode": {
    "name": "ipython",
    "version": 3
   },
   "file_extension": ".py",
   "mimetype": "text/x-python",
   "name": "python",
   "nbconvert_exporter": "python",
   "pygments_lexer": "ipython3",
   "version": "3.8.8"
  },
  "toc": {
   "base_numbering": 1,
   "nav_menu": {},
   "number_sections": true,
   "sideBar": true,
   "skip_h1_title": false,
   "title_cell": "Table of Contents",
   "title_sidebar": "Contents",
   "toc_cell": false,
   "toc_position": {},
   "toc_section_display": true,
   "toc_window_display": true
  }
 },
 "nbformat": 4,
 "nbformat_minor": 5
}
