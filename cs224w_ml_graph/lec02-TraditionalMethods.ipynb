{
 "cells": [
  {
   "cell_type": "markdown",
   "id": "b379b7f6",
   "metadata": {},
   "source": [
    ">>> Work in Progress"
   ]
  },
  {
   "cell_type": "markdown",
   "id": "ba649678",
   "metadata": {},
   "source": [
    "### Overview\n",
    "- Node level prediction\n",
    "  - Example - \n",
    "- Link level prediction\n",
    "  - Example - \n",
    "- Graph level prediction\n",
    "  - Example - "
   ]
  },
  {
   "cell_type": "markdown",
   "id": "d0cea766",
   "metadata": {},
   "source": [
    "### Traditional ML Pipeline\n",
    "- We design features for nodes/links/graphs which have dimension $\\in \\mathbb R^{D}$\n",
    "- In traditional ML pipeline:\n",
    "  - we train ML model (hand-designed features)\n",
    "    - by applying Random Forest, SVM, NN\n",
    "  - and then apply model to make predictions\n",
    "- In this lecture/here (use undirected graphs for simplicity):\n",
    "  - Node level prediction\n",
    "  - Link level prediction\n",
    "  - Graph level prediction"
   ]
  },
  {
   "cell_type": "markdown",
   "id": "1d971e8c",
   "metadata": {},
   "source": [
    "### ML in graphs\n",
    "- Goal: Make predictions for set of objects\n",
    "- Design choices:\n",
    "  - Features: d-dimensional vector\n",
    "  - Objects: nodes, edges, graphs\n",
    "  - Objective function: \n",
    "> Given: $G = (V, E)$  \n",
    "> Learn: $f: V \\rightarrow \\mathbb R$  \n",
    "- How do we learn the function. "
   ]
  },
  {
   "cell_type": "markdown",
   "id": "8b19584d",
   "metadata": {},
   "source": [
    "### Node-level tasks\n",
    "- Node classification\n",
    "  - Identify missing node colors, given other node colors\n",
    "- Characterize structure and position of node\n",
    "  - Node degree\n",
    "  - Node centrality\n",
    "  - Clustering coefficient\n",
    "  - Graphlets"
   ]
  },
  {
   "cell_type": "markdown",
   "id": "8fef2320",
   "metadata": {},
   "source": [
    "#### Node Degree\n",
    "- Degree \n",
    "  - number of edges a node has\n",
    "  - neighboring nodes\n",
    "  - treat all neighboring nodes equally\n",
    "  - does not capture importance\n",
    "\n",
    "<img src=\"./images/02_nodeDegree.png\" width=400 height=400>  \n",
    "$\\tiny{\\text{YouTube-Stanford-CS224W-Jure Leskovec}}$"
   ]
  },
  {
   "cell_type": "markdown",
   "id": "d65d6823",
   "metadata": {},
   "source": [
    "#### Node centrality\n",
    "- captures the node importance in a graph\n",
    "\n",
    "##### Eigenvector centrality\n",
    "- node is imp if it has more neighboring nodes\n",
    "- sum of centrality of neighboring nodes\n",
    "- recursive problem\n",
    "> $c_{\\nu} = \\frac{1}{\\lambda}\\sum\\limits_{u \\in N(\\nu)}c_{u}$  \n",
    "> $\\Rightarrow \\lambda c = A c$  \n",
    "  - where A is the adjacency matrix\n",
    "  - c is the centrality vector\n",
    "  - $\\lambda$ is positive constant\n",
    "- centrality is the eigenvector\n",
    "- largest eigenvalue is always positive (Perron-Frobenius theorem)\n",
    "- leading eigenvector $c_{max}$ is used for centrality"
   ]
  },
  {
   "cell_type": "markdown",
   "id": "4fab4db9",
   "metadata": {},
   "source": [
    "##### Betweenness centrality\n",
    "- node is imp if it lies on many shortest paths between other nodes\n",
    "\n",
    "<img src=\"./images/02_nodeCentralityBetweenness.png\" width=400 height=400>  \n",
    "$\\tiny{\\text{YouTube-Stanford-CS224W-Jure Leskovec}}$"
   ]
  },
  {
   "cell_type": "markdown",
   "id": "0228c0ae",
   "metadata": {},
   "source": [
    "##### Closeness centrality\n",
    "- node is imp if it has small shortest path lengths to all other nodes\n",
    "\n",
    "<img src=\"./images/02_nodeCentralityCloseness.png\" width=400 height=400>  \n",
    "$\\tiny{\\text{YouTube-Stanford-CS224W-Jure Leskovec}}$\n"
   ]
  },
  {
   "cell_type": "markdown",
   "id": "861c2d47",
   "metadata": {},
   "source": [
    "#### Clustering coefficient\n",
    "- how connected nodes are corresponding to its neighboring nodes\n",
    "- no of triangles is used to calculate coefficient\n",
    "- in the middle example below, there are 6 triangle possible(4c2), out of which the v node forms 3 connection triangle to all, so the coeff is 0.5\n",
    "  - 3 triangles out of 6 node triplets\n",
    "\n",
    "<img src=\"./images/02_nodeCentralityClusteringCoeff.png\" width=400 height=400>  \n",
    "$\\tiny{\\text{YouTube-Stanford-CS224W-Jure Leskovec}}$\n"
   ]
  },
  {
   "cell_type": "markdown",
   "id": "e1191c03",
   "metadata": {},
   "source": [
    "#### Graphlets\n",
    "- this is an extension of clustering coeff\n",
    "- instead of counting triangles, this counts the pre-specified subgraphs - graphlets\n",
    "- topology of node's neighborhood\n",
    "- gives a measure of topological similarity compared to node degrees or clustering coefficient\n",
    "\n",
    "\n",
    "\n"
   ]
  },
  {
   "cell_type": "markdown",
   "id": "68564b14",
   "metadata": {},
   "source": [
    "#### Summary - Node level feature\n",
    "- Importance based features\n",
    "  - Node degree \n",
    "    - count neighboring nodes\n",
    "  - Node centrality\n",
    "    - based on choice of centrality measure\n",
    "  - Example\n",
    "    - predict celebrity users in social network\n",
    "- Structure based features\n",
    "  - capture topological properties of local neighborhood around node\n",
    "  - Node degree\n",
    "  - clustering coeff\n",
    "  - Graphlet degree vector(GDV)\n",
    "  - Example\n",
    "    - used in protein-protein interaction\n",
    "- node features help distinguish nodes\n",
    "- but donot allow distinguish node labels"
   ]
  },
  {
   "cell_type": "markdown",
   "id": "c62a6dbb",
   "metadata": {},
   "source": [
    "### Link prediction task and features\n",
    "- predict new links based on existing links\n",
    "- initially node pairs are ranked \n",
    "  - ?? and top K node pairs are predicted\n",
    "- ??design featues for node pairs\n",
    "- links over time\n",
    "  - given state of graph edges at time t0, predict ranked list of links that appear at time t1\n",
    "  - Methodology - Proximity\n",
    "    - compute score of common neighbors for each node pair\n",
    "    - sort pairs by decreasing score\n",
    "    - predict top n pairs\n",
    "    - ???"
   ]
  },
  {
   "cell_type": "markdown",
   "id": "506f4e47",
   "metadata": {},
   "source": [
    "#### Link level features\n",
    "- Distance based feature\n",
    "- Local neighborhood overlap\n",
    "- Overlap neighborhood overlap"
   ]
  },
  {
   "cell_type": "markdown",
   "id": "62ec1a4f",
   "metadata": {},
   "source": [
    "##### Distance based feature\n",
    "- shortest path distance between two nodes\n",
    "- does not capture degree of neighborhood overlap  \n",
    "<img src=\"./images/02_linkPredictionShortestPath.png\" width=400 height=400>  \n",
    "$\\tiny{\\text{YouTube-Stanford-CS224W-Jure Leskovec}}$"
   ]
  },
  {
   "cell_type": "markdown",
   "id": "91e7d922",
   "metadata": {},
   "source": [
    "##### Local Neighborhood overlap\n",
    "\n",
    "<img src=\"./images/02_linkPredictionLocalNe.png\" width=400 height=400>  \n",
    "$\\tiny{\\text{YouTube-Stanford-CS224W-Jure Leskovec}}$"
   ]
  },
  {
   "cell_type": "markdown",
   "id": "f6e68c12",
   "metadata": {},
   "source": [
    "##### Global Neighborhood overlap\n",
    "- Katz index - number of paths of all length between pair of nodes\n",
    "- to compute paths between 2 nodes\n",
    "  - use adjacency matrix\n",
    "  - can compute path between path of any given length l between u and v node - $A_{uv}^{l}$\n",
    "\n",
    "<img src=\"./images/02_linkPredictionAdjacencyMatrix1.png\" width=400 height=400>  \n",
    "\n",
    "----\n",
    "<img src=\"./images/02_linkPredictionAdjacencyMatrix2.png\" width=400 height=400>  \n",
    "\n",
    "----\n",
    "<img src=\"./images/02_linkPredictionAdjacencyMatrix3.png\" width=400 height=400>  \n",
    "$\\tiny{\\text{YouTube-Stanford-CS224W-Jure Leskovec}}$"
   ]
  },
  {
   "cell_type": "markdown",
   "id": "1d332fae",
   "metadata": {},
   "source": [
    "### Graph-Level features and Graph Kernels\n",
    "- How to design graph level features\n",
    "  - this characterizes structure of entire graph\n",
    "  - Types\n",
    "    - Kernel methods - measures similarity b/w data\n",
    "    - Graph Kernels - measure similarity b/w graphs\n",
    "\n",
    "#### Kernel method\n",
    "- widely used in ML for graph level prediction\n",
    "- Design kernels instead of feature vectors\n",
    "- key idea\n",
    "  - Kernel matrix K(G, G')\n",
    "    - positive semipositive\n",
    "    - positive eigen values\n",
    "    - represent feature representation $\\phi(.)$ as $K(G, G') = \\phi(G)^{T}\\phi(G')$\n",
    "    - once kernel is defined, existing kernel methods such as kernel SVM can be used to make predictions\n"
   ]
  },
  {
   "cell_type": "markdown",
   "id": "0d1dbb7e",
   "metadata": {},
   "source": [
    "#### Graph kernels\n",
    "- Graphlet Kernel \n",
    "  - represented as Bag-of-graphlets\n",
    "  - computationally expensive\n",
    "- WL Kernel\n",
    "  - color enrichment hash\n",
    "  - represented as Bag-of-colors\n",
    "  - computationally efficient\n",
    "  - closely related to GNN\n",
    "\n",
    "##### Graphlet Kernel\n",
    "  - design graph feature vector $\\phi(G)$\n",
    "  - Bag-of-Words (BoW) for a graph\n",
    "    - use word count as features for documents\n",
    "    - no ordering\n",
    "    - regard nodes as words\n",
    "    - following will have the same feature vector  \n",
    "\n",
    "<img src=\"./images/02_graphFeatureBoW.png\" width=100 height=100>  \n",
    "$\\tiny{\\text{YouTube-Stanford-CS224W-Jure Leskovec}}$\n",
    "\n",
    "     - what if Bag of node degree is used  \n",
    "<img src=\"./images/02_graphFeatureBoNode.png\" width=200 height=200>  \n",
    "$\\tiny{\\text{YouTube-Stanford-CS224W-Jure Leskovec}}$     "
   ]
  },
  {
   "cell_type": "markdown",
   "id": "b8785b9b",
   "metadata": {},
   "source": [
    "##### Graphlet features\n",
    "- count the number of different graphlets \n",
    "- differnce from node-level features\n",
    "  - list of graphlets of size k are calculated\n",
    "  - in graph level \n",
    "    - they dont need to be connected\n",
    "    - isolated nodes are allowed\n",
    "    > $G_{k} = (g_{1}, g_{2}, ..., g_{n_{k}})$\n",
    "  - the graphlet count vector is calculated as\n",
    "    > $(f_{G})_{i} = \\#(g_{i} \\subseteq G)$ \n",
    "    > - for i = 1,2,..$n_{k}$\n",
    "    > - $f_{G} \\in \\mathbb R^{n_{k}}$\n",
    "    \n",
    "<img src=\"./images/02_graphFeatureGraphlet.png\" width=200 height=200>  \n",
    "$\\tiny{\\text{YouTube-Stanford-CS224W-Jure Leskovec}}$  "
   ]
  },
  {
   "cell_type": "markdown",
   "id": "f2409901",
   "metadata": {},
   "source": [
    "##### Graphlet kernel\n",
    "> $K(G, G') = f_{G}^{T}f_{G'}$\n",
    "- but this is results in skewed value due to different size of G and G'\n",
    "- so normalize each feature vector\n",
    "> $h_{G} = \\frac{f_{G}}{sum(f_{G})}$  \n",
    "> $K(G, G') = h_{G}^{T}h_{G'}$  \n",
    "- Counting graphlets is expensive\n",
    "- counting size k graphlets for graph of size n by enumeration has complexity of $n^{k}$"
   ]
  },
  {
   "cell_type": "markdown",
   "id": "4f4b08ce",
   "metadata": {},
   "source": [
    "##### Weisfeiler-Lehman(WL) Kernel\n",
    "- use Bag of node degrees\n",
    "- color refinement\n",
    "  - iteratively refine node colors using hash with different colors to different inputs\n",
    "  > $c^{(k+1)}(\\nu) = hash(\\{c^{(k)}(\\nu),\\{c^{(k)}(u)\\}_{u \\in N(\\nu)}\\})$\n",
    "  - after k steps of color refinement, $c^{(k)}(\\nu)$ summarizes structure of k-hop neighborhood\n",
    "- WL kernel value is computed by the inner product of color count vectors\n",
    "  - computationally efficient\n",
    "  - linear time complexity"
   ]
  }
 ],
 "metadata": {
  "kernelspec": {
   "display_name": "Python 3",
   "language": "python",
   "name": "python3"
  },
  "language_info": {
   "codemirror_mode": {
    "name": "ipython",
    "version": 3
   },
   "file_extension": ".py",
   "mimetype": "text/x-python",
   "name": "python",
   "nbconvert_exporter": "python",
   "pygments_lexer": "ipython3",
   "version": "3.8.8"
  },
  "toc": {
   "base_numbering": 1,
   "nav_menu": {},
   "number_sections": true,
   "sideBar": true,
   "skip_h1_title": false,
   "title_cell": "Table of Contents",
   "title_sidebar": "Contents",
   "toc_cell": false,
   "toc_position": {
    "height": "calc(100% - 180px)",
    "left": "10px",
    "top": "150px",
    "width": "260.796875px"
   },
   "toc_section_display": true,
   "toc_window_display": true
  }
 },
 "nbformat": 4,
 "nbformat_minor": 5
}
