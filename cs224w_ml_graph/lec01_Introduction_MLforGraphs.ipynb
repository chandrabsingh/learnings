{
 "cells": [
  {
   "cell_type": "markdown",
   "id": "602683a1",
   "metadata": {},
   "source": [
    ">>> Work in Progress"
   ]
  },
  {
   "cell_type": "markdown",
   "id": "6df21359",
   "metadata": {},
   "source": [
    "### Links\n",
    "- [Lectures](http://snap.stanford.edu/class/cs224w-2020/)\n",
    "- [Course TextBook](https://www.cs.mcgill.ca/~wlh/grl_book/files/GRL_Book.pdf)\n",
    "- Graph ML tools\n",
    "  - [PyTorch Geometric](https://github.com/pyg-team/pytorch_geometric)\n",
    "  - [DeepSNAP]()\n",
    "  - [GraphGym]()\n",
    "  - [SNAP.PY]()\n",
    "  - [NetworkX]()"
   ]
  },
  {
   "cell_type": "markdown",
   "id": "1ea60cc2",
   "metadata": {},
   "source": [
    "### PyTorch Geometric (PyG)\n",
    "\n",
    "PyG documentation:\n",
    "_'PyG (PyTorch Geometric) is a library built upon PyTorch to easily write and train Graph Neural Networks (GNNs) for a wide range of applications related to structured data._\n",
    "\n",
    "_It consists of various methods for deep learning on graphs and other irregular structures, also known as geometric deep learning, from a variety of published papers. In addition, it consists of easy-to-use mini-batch loaders for operating on many small and single giant graphs, multi GPU-support, distributed graph learning via Quiver, a large number of common benchmark datasets (based on simple interfaces to create your own), the GraphGym experiment manager, and helpful transforms, both for learning on arbitrary graphs as well as on 3D meshes or point clouds.'_"
   ]
  },
  {
   "cell_type": "markdown",
   "id": "682d9155",
   "metadata": {},
   "source": [
    "### Introduction\n",
    "- many types of data can be represented as graphs\n",
    "- graph relational data\n",
    "- complex domains have rich relational structure - relational graph\n",
    "- deep learning toolbox\n",
    "  - graphs are frontier of deep learning\n",
    "- graph has complex topology than images, text\n",
    "  - no notion of spatial locality like grids\n",
    "  - graphs are dynamic and multimodal nodes\n",
    "- how to design neural network so that no human feature engineering ( feature engineering) is needed\n",
    "  - instead of feature engineering - representation learning is used\n",
    "  - automatically learn the features\n",
    "  - and predict the downstream tasks\n",
    "    - map nodes to d-dimensional embeddings, such that similar nodes in the network are embedded close together"
   ]
  },
  {
   "cell_type": "markdown",
   "id": "21065c5f",
   "metadata": {},
   "source": [
    "### Course outline\n",
    "- Traditional methods: Graphlets, Graph Kernels\n",
    "- Methods for node embeddings: DeepWalk, Node2Vec\n",
    "- Graph Neural Networks: GCN, GraphSAGE, GAT, Theory of GNNs\n",
    "- Knowledge graphs and reasoning: TransE, BetaE\n",
    "- Deep generative models for graphs\n",
    "- Applications to Biomedicine, Science, Industry"
   ]
  },
  {
   "cell_type": "markdown",
   "id": "8cbc0b38",
   "metadata": {},
   "source": [
    "### Syllabus\n",
    "- Introduction; Machine Learning for Graphs \n",
    "- Traditional Methods for ML on Graphs \n",
    "- Node Embeddings \n",
    "- Link Analysis: PageRank \n",
    "- Label Propagation for Node Classification \n",
    "- Graph Neural Networks 1: GNN Model \n",
    "- Graph Neural Networks 2: Design Space \n",
    "- Applications of Graph Neural Networks \n",
    "- Theory of Graph Neural Networks \n",
    "- Knowledge Graph Embeddings \n",
    "- Reasoning over Knowledge Graphs\n",
    "- Frequent Subgraph Mining with GNNs\n",
    "- Community Structure in Networks\n",
    "- Traditional Generative Models for Graphs\n",
    "- Deep Generative Models for Graphs\n",
    "- Scaling Up GNNs\n",
    "- Learning on Dynamic Graphs\n",
    "- GNNs for Computational Biology\n",
    "- GNNs for Science\n",
    "- Industrial Applications of GNNs\n"
   ]
  },
  {
   "cell_type": "markdown",
   "id": "0a38c81c",
   "metadata": {},
   "source": [
    "### Different types of task\n",
    "- Node classification\n",
    "  - predict property of node\n",
    "- Link prediction\n",
    "- Graph classification\n",
    "- Clustering\n",
    "- Other\n",
    "  - Graph generation\n",
    "  - Graph evolution"
   ]
  },
  {
   "cell_type": "markdown",
   "id": "783785ab",
   "metadata": {},
   "source": [
    "#### Nodel level ML problem\n",
    "- Protein folding\n",
    "  - Medicine bind to proteins\n",
    "  - Proteins are made up of amino acids\n",
    "  - Given a sequence of amino acids, can you predict the 3D structure of underlying protein\n",
    "    - DeepMind's AlphaMind is close to solve\n",
    "      - underlying amino acids were designed in the form of nodes of __spatial graph__ \n",
    "      - edge proximity between amino acids\n"
   ]
  },
  {
   "cell_type": "markdown",
   "id": "ee3ac840",
   "metadata": {},
   "source": [
    "#### Edge level ML tasks\n",
    "- Link prediction\n",
    "- Recommender systems\n",
    "  - Watch movie\n",
    "  - listen to music\n",
    "    - make predictions using\n",
    "      - Graph representation learning\n",
    "      - GNN\n",
    "    - used in \n",
    "      - Pinterest, LinkedIn, Facebook\n",
    "    - nodes that are related are closer than ones not related\n",
    "    - Predict\n",
    "      - use feature information/images and transform it across underlying graph to come up with robust embedding\n",
    "      - images + graph leads to much better recommendation than graphs itself\n",
    "      - understand relationship between pairs of nodes/images saying nodes that are related should be embedded closer together\n",
    "- Drug side effects\n",
    "  - simulataneously take 5-6 drugs\n",
    "  - these drugs interact with each other\n",
    "  - side effect\n",
    "    - cannot test experimentally all combination of drugs to see what kind of side effects they lead to\n",
    "    - make a prediction engine that takes arbitrary pair of drugs and predict how these drugs are going to interact and cause side effect\n",
    "  - design 2 level of heterogenous network \n",
    "    - triangle - represent drugs\n",
    "    - circle - represent protein\n",
    "    - we have protein-protein interaction network\n",
    "    - there are lot of missing connection as how would medicine interact\n",
    "    - can we predict missing connections\n",
    "    - link predictions problem"
   ]
  },
  {
   "cell_type": "markdown",
   "id": "3c7e167f",
   "metadata": {},
   "source": [
    "#### Subgraph-level ML tasks\n",
    "- Traffic prediction\n",
    "  - road represent node segment\n",
    "  - edges represent connectivity between road segments\n",
    "  - prediction using GNN\n",
    "  "
   ]
  },
  {
   "cell_type": "markdown",
   "id": "a6c00166",
   "metadata": {},
   "source": [
    "#### Graph-level ML tasks\n",
    "- Drug discovery\n",
    "  - Modecules can be represented as graphs\n",
    "    - Atoms as nodes\n",
    "    - Chemical bonds as edges\n",
    "  - graph NN was used to classify different molecules\n",
    "  - which molecule can have theuraputic effect\n",
    "  - team at MIT used DL for antibiotic discovery to classify different molecules and predict promising molecules from a pool of candidates\n",
    "- Molecule generation\n",
    "  - generate molecules that are non-toxic\n",
    "  - generate molecules that have high solubility\n",
    "  - generate molecules that have high drug likeness\n",
    "  - optimize existing molecules to have desirable properties\n",
    "- Physics simulation\n",
    "  - for different materials i.e., set of particles, how do the particles interact\n",
    "  - task for ML is to predict how the graph will evolve in future\n",
    "  - how will this material deform in future\n",
    "    - generate proximity graph\n",
    "    - how will the particles evolve to their new positions\n",
    "    - iterate over how the particles will move and based on this predict their future"
   ]
  },
  {
   "cell_type": "markdown",
   "id": "e074633c",
   "metadata": {},
   "source": [
    "### Choice of graph representaton\n",
    "\n",
    "#### Components of network\n",
    "- Objects - nodes, vertices - N\n",
    "- Interactions - links, edges - E\n",
    "- System - network, graph - G(N,E)\n",
    "- Underlying infrastructure might be same\n",
    "- choosing proper representation\n"
   ]
  },
  {
   "cell_type": "markdown",
   "id": "70a17737",
   "metadata": {},
   "source": [
    "#### How to build a graph\n",
    "  - what are nodes\n",
    "  - what are edges\n"
   ]
  },
  {
   "cell_type": "markdown",
   "id": "d03e6a8a",
   "metadata": {},
   "source": [
    "#### Choice of proper network representation"
   ]
  },
  {
   "cell_type": "markdown",
   "id": "fb836a84",
   "metadata": {},
   "source": [
    "#### Directed vs Undirected graphs\n",
    "  - Undirected\n",
    "    - symmetrical or reciprocal \n",
    "    - For example - collaboration, friendship, interaction between protein\n",
    "  - Directed\n",
    "    - every link has a direction/source and denoted by arrow\n",
    "    - there is a source and destination\n",
    "    - For example - phone calls, financial transactions"
   ]
  },
  {
   "cell_type": "markdown",
   "id": "97ad54cf",
   "metadata": {},
   "source": [
    "#### Node degrees\n",
    "  - Undirected\n",
    "    - number of edges adjacent to a given node\n",
    "    - each edge gets counted twice\n",
    "    - having a self-edge/self-loop adds a degree of 2 to the node\n",
    "  - Directed\n",
    "    - in-degree - pointing towards the node\n",
    "    - out-degree - pointing outwards from the node\n"
   ]
  },
  {
   "cell_type": "markdown",
   "id": "207bf03f",
   "metadata": {},
   "source": [
    "#### Bipartite graph\n",
    "  - type of graph whose nodes can be divided into 2 disjoint sets/partitions \n",
    "  - edges go only from left to right\n",
    "  - not inside the same partition\n",
    "  - the sets are independent\n",
    "  - examples\n",
    "    - Authors to papers (they authored)\n",
    "    - Authors to movies (they appeared in)\n",
    "    - Users to movies (they rated)\n",
    "    - Folded networks\n",
    "      - author collaboration networks\n",
    "      - Movie co-rating networks  \n",
    "<img src = 'images/01_bipartite.png' width=200 height=200>\n",
    "\n",
    "$\\tiny{\\text{YouTube-Stanford-CS224W-Jure Leskovec}}$"
   ]
  },
  {
   "cell_type": "markdown",
   "id": "102339c7",
   "metadata": {},
   "source": [
    "#### Folded/Projected Bipartite graphs\n",
    "- If we have a bipartite graph, we can project this bipartite graph to either left or right side\n",
    "- use nodes from one side in my projection graph\n",
    "- the way we connect the nodes\n",
    "  - create a connection between pair of nodes\n",
    "  - if they have one neighbor in common\n",
    "  - 1,2,3 co-authored a paper\n",
    "  - 3 and 4 did not co-author a paper\n",
    "  - 2 and 5 co-authored a paper\n",
    "- create a projection on the right side  \n",
    "\n",
    "<img src = 'images/01_bipartite_projection.png' width=400 height=400>\n",
    "\n",
    "$\\tiny{\\text{YouTube-Stanford-CS224W-Jure Leskovec}}$"
   ]
  },
  {
   "cell_type": "markdown",
   "id": "c59c2492",
   "metadata": {},
   "source": [
    "#### Representing Graphs - Adjacency Matrix\n",
    "- matrix will take entries of 0 and 1 (binary)\n",
    "- value of matrix element $A_{ij}$ will be set to 1, if nodes i and j are connected\n",
    "- undirected graph\n",
    "  - the matrix are symmetric\n",
    "- directed graph\n",
    "  - the matrix are not symmetric\n",
    "- node degrees are different for directed and undirected graph\n",
    "- adjacency matrices are sparse\n",
    "  - extremely sparse  \n",
    "  \n",
    "<img src = 'images/01_adjacencyMatrix.png' width=400 height=400>  \n",
    "$\\tiny{\\text{YouTube-Stanford-CS224W-Jure Leskovec}}$"
   ]
  },
  {
   "cell_type": "markdown",
   "id": "451bec2e",
   "metadata": {},
   "source": [
    "#### Edge list and Adjacency list\n",
    "- Edge list\n",
    "  - quite popular\n",
    "  - very hard to graph manuplation\n",
    "  - represent as two-dimensional matrix\n",
    "  - Example\n",
    "    - (2,3)\n",
    "    - (2,4)\n",
    "    - (3,2)"
   ]
  },
  {
   "cell_type": "markdown",
   "id": "5efd09d0",
   "metadata": {},
   "source": [
    "#### Adjacency list\n",
    "- Adjacency list\n",
    "  - very easier to work with sparse matrix\n",
    "  - simply store the neighbors\n",
    "  - for undirected - simply store the neighbors\n",
    "  - for directed - store both in-going and out-going neighbors\n",
    "  - Example\n",
    "    - 1:\n",
    "    - 2: 3,4\n",
    "    - 3: 2,4\n",
    "    - 4: 5"
   ]
  },
  {
   "cell_type": "markdown",
   "id": "51e2945f",
   "metadata": {},
   "source": [
    "#### Node and Edge attributes\n",
    "  - how to attach attributes and properties\n",
    "  - edge can have a weight, how strong is the friendship\n",
    "  - edge can have a rank, or type of friend\n"
   ]
  },
  {
   "cell_type": "markdown",
   "id": "c3b72ecd",
   "metadata": {},
   "source": [
    "#### More types of graphs\n",
    "- unweighted - undirected\n",
    "- weighted - undirected\n",
    "- self-edges (self-loops) - undirected\n",
    "- multigraph - undirected  \n",
    "\n",
    "<img src = 'images/01_weightedMatrix.png' width=400 height=400>\n",
    "<img src = 'images/01_selfedgeGraph.png' width=400 height=400>  \n",
    "$\\tiny{\\text{YouTube-Stanford-CS224W-Jure Leskovec}}$"
   ]
  },
  {
   "cell_type": "markdown",
   "id": "58478637",
   "metadata": {},
   "source": [
    "#### Connectivity of undirected graph\n",
    "  - can be joined by path\n",
    "  - block matrices \n",
    "    - tell us if the graph is inter-connected or not\n",
    "    - isolated node\n",
    "    - block diagonal structure  \n",
    "    \n",
    "<img src = 'images/01_connectivityUnDirected.png' width=400 height=400>  \n",
    "$\\tiny{\\text{YouTube-Stanford-CS224W-Jure Leskovec}}$"
   ]
  },
  {
   "cell_type": "markdown",
   "id": "5b2634c2",
   "metadata": {},
   "source": [
    "#### Connectivity of directed graph\n",
    "  - strongly or weakly connectivity\n",
    "  - strong\n",
    "    - has a path for every node \n",
    "  - weakly\n",
    "    - disregard the edge directions"
   ]
  },
  {
   "cell_type": "markdown",
   "id": "1827297f",
   "metadata": {},
   "source": [
    "### Summary\n",
    "\n",
    "- ML with graphs\n",
    "  - Applications and use cases\n",
    "- Different types of tasks\n",
    "  - Node level\n",
    "  - Edge level\n",
    "  - Graph level\n",
    "- Choice of graph representation\n",
    "  - Directed\n",
    "  - Undirected\n",
    "  - bipartite\n",
    "  - weighted\n",
    "  - adjacency matrix"
   ]
  },
  {
   "cell_type": "code",
   "execution_count": null,
   "id": "c9894214",
   "metadata": {},
   "outputs": [],
   "source": []
  }
 ],
 "metadata": {
  "kernelspec": {
   "display_name": "Python 3",
   "language": "python",
   "name": "python3"
  },
  "language_info": {
   "codemirror_mode": {
    "name": "ipython",
    "version": 3
   },
   "file_extension": ".py",
   "mimetype": "text/x-python",
   "name": "python",
   "nbconvert_exporter": "python",
   "pygments_lexer": "ipython3",
   "version": "3.8.8"
  },
  "toc": {
   "base_numbering": 1,
   "nav_menu": {},
   "number_sections": true,
   "sideBar": true,
   "skip_h1_title": false,
   "title_cell": "Table of Contents",
   "title_sidebar": "Contents",
   "toc_cell": false,
   "toc_position": {},
   "toc_section_display": true,
   "toc_window_display": true
  }
 },
 "nbformat": 4,
 "nbformat_minor": 5
}
