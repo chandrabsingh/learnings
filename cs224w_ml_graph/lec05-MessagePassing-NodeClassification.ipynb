{
 "cells": [
  {
   "cell_type": "markdown",
   "id": "f17d5526",
   "metadata": {},
   "source": [
    ">>> Work in Progress"
   ]
  },
  {
   "cell_type": "markdown",
   "id": "ca2eb79c",
   "metadata": {},
   "source": [
    "### Outline\n",
    "- Question\n",
    "  - Given a network with labels on some nodes, how do we assign labels to all other nodes in the network\n",
    "  - some nodes are trustworthy some are not, how to differentiate between such nodes\n",
    "  "
   ]
  },
  {
   "cell_type": "markdown",
   "id": "f35e1c6a",
   "metadata": {},
   "source": [
    "### Semi-supervised node classification\n",
    "- some nodes have labels, some not\n",
    "- how to classify and predict labels of unlabeled nodes?\n",
    "  - Message passing \n",
    "    - correlation exist in networks \n",
    "    - nodes that share network tend to be connected\n",
    "    - this is called collective classification\n",
    "    - 3 classical techniques\n",
    "      - Relational classification\n",
    "      - Iterative classification\n",
    "      - Belief propagation\n",
    "      "
   ]
  },
  {
   "cell_type": "markdown",
   "id": "507836b1",
   "metadata": {},
   "source": [
    "#### Correlations exist in networks\n",
    "- Individual node behaviors are often correlated in the network structure\n",
    "- nearby labels tend to have same label, same color, same class\n",
    "- main type of dependency that lead to correlation are\n",
    "  - homophily\n",
    "  - influence\n",
    "    \n",
    "- Why does this correlation connection exist and why network data is useful?"
   ]
  },
  {
   "cell_type": "markdown",
   "id": "3b2698e6",
   "metadata": {},
   "source": [
    "##### Homophily\n",
    "- people of same characteristics/interests tend to be connected together\n",
    "> Individual characteristics $\\Rightarrow$ Social connections\n",
    "\n",
    "##### Influence\n",
    "- social connections tend to influence individual characteristics\n",
    "> Social connections $\\Rightarrow$ Individual characteristics\n",
    "\n"
   ]
  },
  {
   "cell_type": "markdown",
   "id": "e7e8bc45",
   "metadata": {},
   "source": [
    "##### Motivation\n",
    "- Guilt by association\n",
    "- Malicious web page are connected\n",
    "- classification label of node v in network may depend on \n",
    "  - features of node v\n",
    "  - labels of node in v's neighborhood\n",
    "  - features of node in v's neighborhood\n"
   ]
  },
  {
   "cell_type": "markdown",
   "id": "be76fb5a",
   "metadata": {},
   "source": [
    "##### Semi-supervised learning\n",
    "- Assume there is some form of homophily in network\n",
    "- nodes of the same label tend to cluster\n",
    "- what are the labels of nodes around you that helps you determine your label"
   ]
  },
  {
   "cell_type": "markdown",
   "id": "ee9f3ec9",
   "metadata": {},
   "source": [
    "##### Collective classification\n",
    "- probaiilitistic framework\n",
    "- Markov assumption \n",
    "  - label of node depends only on the label of its neighbors\n",
    "  - first order Markov assumption (degree 1 neighborhood)\n",
    "  - we don't assume label depends on the label of its neighbors-neighbors (degree 2 neighborhood)\n",
    "  - every nodes label depends on other nodes label\n",
    "  - iteratively reclassify nodes\n",
    "  - nodes will reclassify the belief/prediction of the labels until the process converge\n",
    "  - 3 types of classifiers are needed\n",
    "    - Local classifier\n",
    "      - assign initial label to the node\n",
    "        - predict label based on its node attributes/feature \n",
    "        - does not use network information\n",
    "    - Relational classifier\n",
    "      - captures correlation between nodes and tells what are the labels of other nodes in the network\n",
    "        - learn a classifier to label node based on label/attribute of its neighbor\n",
    "        - in this step, network information is used\n",
    "    - Collective inference\n",
    "      - propagating the correlations over the network until the labels converge to some stable state\n",
    "        - apply relational classifier iteratively till the inconsistency between neighboring labels is minimized\n",
    "        - network structure affects the final prediction\n",
    "  "
   ]
  },
  {
   "cell_type": "markdown",
   "id": "93383c0d",
   "metadata": {},
   "source": [
    "##### Problem setting\n",
    "- labels for some nodes are given\n",
    "  - 1 for green\n",
    "  - 0 for red\n",
    "- find $P(Y_{v})$ given all features and the network\n",
    "\n",
    "<img src=\"./images/05_collectiveClassificationProb.png\" width=400 height=200>  $\\tiny{\\text{YouTube-Stanford-CS224W-Jure Leskovec}}$"
   ]
  },
  {
   "cell_type": "markdown",
   "id": "134e9142",
   "metadata": {},
   "source": [
    "### Relational Classification \n",
    "\n",
    "#### Probabilistic Relational classifier\n",
    "- class probability $Y_{v}$ of node v is weighted average of class probabilities of its neighbor\n",
    "- for labeled nodes, initialize label with its true label 0 or 1\n",
    "- for unlabeled nodes, initialize it as 0.5\n",
    "- update all nodes in random order until convergence or max number of iterations is reached\n",
    "- convergence is not guaranteed\n",
    "<br>\n",
    "- we did not use the notion that nodes have any kind of features or any kind of signal attached to them\n",
    "- related classification is based on labels only\n",
    "- probabilities kind of spread from labeled nodes to unlabeled nodes\n",
    "<br>\n",
    "- Iteration 0\n",
    "<img src=\"./images/05_collectiveClassificationProbIteration0.png\" width=400 height=200>  $\\tiny{\\text{YouTube-Stanford-CS224W-Jure Leskovec}}$\n",
    "\n",
    "- Iteration 1 - first node\n",
    "<img src=\"./images/05_collectiveClassificationProbIteration1.png\" width=400 height=200>  $\\tiny{\\text{YouTube-Stanford-CS224W-Jure Leskovec}}$\n",
    "\n",
    "- Iteration n - last node\n",
    "<img src=\"./images/05_collectiveClassificationProbIterationn.png\" width=400 height=200>  $\\tiny{\\text{YouTube-Stanford-CS224W-Jure Leskovec}}$\n",
    "\n",
    "- Nodes with probability $P_{Y_{v}} > 0.5$ belong to class 1\n",
    "- Nodes with probability $P_{Y_{v}} < 0.5$ belong to class 0"
   ]
  },
  {
   "cell_type": "markdown",
   "id": "5969ae4a",
   "metadata": {},
   "source": [
    "### Iterative classification\n",
    "- uses both the node $v$ features/attributes $f_{v}$ as well as the labels $z_{v}$ of the nearby nodes $N_{v}$\n",
    "- uses both network and feature information\n",
    "- in relational classifier \n",
    "  - they do not use node attribute\n",
    "  - they only use the network structure and the labels\n",
    "- how to make use of node attributes?\n",
    "\n",
    "\n",
    "#### Predict unlabeled nodes\n",
    "- $f_{v}$: feature vector for node $v$\n",
    "- train two classifiers\n",
    "  - $\\phi_{1}(f_{v})$: Predict node label $Y_{v}$ based on node feature vector $f_{v}$ alone  \n",
    "  - $\\phi_{2}(f_{v}, z_{v})$: Predict label $Y_{v}$ based on node feature vector $f_{v}$ and summary $z_{v}$ of labels of $v$'s neighbors\n",
    "\n",
    "#### Compute the summary\n",
    "- $z_{v}$ vector\n",
    "  - create histogram of number/fraction of each label in $N_{v}$\n",
    "- Phase 1\n",
    "  - classify node labels based on node attributes alone\n",
    "    - using training data we will train two classifiers (e.g., linear classifier, NN, SVM, decision tree)\n",
    "    - $\\phi_{1}(f_{v})$: Predict node label $Y_{v}$ based on node feature vector $f_{v}$ alone  \n",
    "    - $\\phi_{2}(f_{v}, z_{v})$: Predict label $Y_{v}$ based on node feature vector $f_{v}$ and summary $z_{v}$ of labels of $v$'s neighbors\n",
    "- Phase 2\n",
    "  - iterate till convergence\n",
    "    - on test set, set labels $Y_{v}$ based on the classifier $\\phi_{1}$, compute $z_{v}$ and predict labels with $\\phi_{2}$\n",
    "    - Repeat\n",
    "      - Update $z_{v}$ based on $Y_{u}$ for all $u \\in N_{v}$\n",
    "      - Update $Y_{v}$ based on new $z_{v}(\\phi_{2})$\n",
    "  \n",
    "#### Example - web page classification\n",
    "- Predict the webpage topic \n",
    "- directed edge\n",
    "  - Train classifier\n",
    "  - Apply classifier to test\n",
    "  - Iterate\n",
    "    - Update relational features $z_{v}$\n",
    "    - Update label $Y_{v}$\n",
    "    \n",
    "\n",
    "- Web page classifier $\\phi_{1}$\n",
    "<img src=\"./images/05_webPageClassifier1.png\" width=400 height=200>  $\\tiny{\\text{YouTube-Stanford-CS224W-Jure Leskovec}}$\n",
    "\n",
    "- Web page classifier $\\phi_{2}$\n",
    "<img src=\"./images/05_webPageClassifier2.png\" width=400 height=200>  $\\tiny{\\text{YouTube-Stanford-CS224W-Jure Leskovec}}$"
   ]
  },
  {
   "cell_type": "markdown",
   "id": "30785f38",
   "metadata": {},
   "source": [
    "### Belief Propagation"
   ]
  },
  {
   "cell_type": "markdown",
   "id": "10ae7c95",
   "metadata": {},
   "source": []
  },
  {
   "cell_type": "markdown",
   "id": "6f4371db",
   "metadata": {},
   "source": []
  },
  {
   "cell_type": "markdown",
   "id": "f2638ab3",
   "metadata": {},
   "source": []
  },
  {
   "cell_type": "markdown",
   "id": "f8fd1cd1",
   "metadata": {},
   "source": []
  },
  {
   "cell_type": "markdown",
   "id": "5cd6698c",
   "metadata": {},
   "source": []
  },
  {
   "cell_type": "markdown",
   "id": "02af5cdd",
   "metadata": {},
   "source": []
  }
 ],
 "metadata": {
  "kernelspec": {
   "display_name": "Python 3",
   "language": "python",
   "name": "python3"
  },
  "language_info": {
   "codemirror_mode": {
    "name": "ipython",
    "version": 3
   },
   "file_extension": ".py",
   "mimetype": "text/x-python",
   "name": "python",
   "nbconvert_exporter": "python",
   "pygments_lexer": "ipython3",
   "version": "3.8.8"
  },
  "toc": {
   "base_numbering": 1,
   "nav_menu": {},
   "number_sections": true,
   "sideBar": true,
   "skip_h1_title": false,
   "title_cell": "Table of Contents",
   "title_sidebar": "Contents",
   "toc_cell": false,
   "toc_position": {},
   "toc_section_display": true,
   "toc_window_display": true
  }
 },
 "nbformat": 4,
 "nbformat_minor": 5
}
